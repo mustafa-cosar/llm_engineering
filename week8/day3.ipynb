{
 "cells": [
  {
   "cell_type": "markdown",
   "id": "0df0d850-49eb-4a0b-a27a-146969db710d",
   "metadata": {},
   "source": [
    "# The Price is Right\n",
    "\n",
    "Today we'll build another piece of the puzzle: a ScanningAgent that looks for promising deals by subscribing to RSS feeds."
   ]
  },
  {
   "cell_type": "code",
   "execution_count": 1,
   "id": "d3763a79-8a5a-4300-8de4-93e85475af10",
   "metadata": {},
   "outputs": [],
   "source": [
    "# imports\n",
    "\n",
    "import os\n",
    "import json\n",
    "from dotenv import load_dotenv\n",
    "from openai import OpenAI\n",
    "from agents.deals import ScrapedDeal, DealSelection"
   ]
  },
  {
   "cell_type": "code",
   "execution_count": 2,
   "id": "c6469e32-16c3-4443-9475-ade710ef6933",
   "metadata": {},
   "outputs": [],
   "source": [
    "# Initialize and constants\n",
    "\n",
    "load_dotenv(override=True)\n",
    "os.environ['OPENAI_API_KEY'] = os.getenv('OPENAI_API_KEY', 'your-key-if-not-using-env')\n",
    "MODEL = 'gpt-4o-mini'\n",
    "openai = OpenAI()"
   ]
  },
  {
   "cell_type": "code",
   "execution_count": 3,
   "id": "afece9db-8cd4-46be-ac57-0b472e84da7d",
   "metadata": {},
   "outputs": [
    {
     "name": "stderr",
     "output_type": "stream",
     "text": [
      "100%|██████████████████████████████████████████████████████████████████████████████████████████████████████████████████████████████████████████| 5/5 [01:44<00:00, 20.94s/it]\n"
     ]
    }
   ],
   "source": [
    "deals = ScrapedDeal.fetch(show_progress=True)"
   ]
  },
  {
   "cell_type": "code",
   "execution_count": 4,
   "id": "8cd15c4d-eb44-4601-bf0c-f945c1d8e3ec",
   "metadata": {},
   "outputs": [
    {
     "data": {
      "text/plain": [
       "50"
      ]
     },
     "execution_count": 4,
     "metadata": {},
     "output_type": "execute_result"
    }
   ],
   "source": [
    "len(deals)"
   ]
  },
  {
   "cell_type": "code",
   "execution_count": 5,
   "id": "4259f30a-6455-49ed-8863-2f9ddd4776cb",
   "metadata": {},
   "outputs": [
    {
     "data": {
      "text/plain": [
       "'Title: Creality 3D Printer Filament at eBay: Buy 6, Get 4 free + free shipping\\nDetails: Buy 6 spools of Creality PET-G, PLA, or Silk PLA filament and get four more for free. (Add 10 spools of your choice to your cart to get this deal, four spools will be discounted automatically during checkout.) Shop Now at eBay\\nFeatures: \\nURL: https://www.dealnews.com/Creality-3-D-Printer-Filament-at-eBay-Buy-6-Get-4-free-free-shipping/21725848.html?iref=rss-c196'"
      ]
     },
     "execution_count": 5,
     "metadata": {},
     "output_type": "execute_result"
    }
   ],
   "source": [
    "deals[44].describe()"
   ]
  },
  {
   "cell_type": "code",
   "execution_count": 6,
   "id": "8100e5ac-38f5-40c1-a712-08ae12c85038",
   "metadata": {},
   "outputs": [],
   "source": [
    "system_prompt = \"\"\"You identify and summarize the 5 most detailed deals from a list, by selecting deals that have the most detailed, high quality description and the most clear price.\n",
    "Respond strictly in JSON with no explanation, using this format. You should provide the price as a number derived from the description. If the price of a deal isn't clear, do not include that deal in your response.\n",
    "Most important is that you respond with the 5 deals that have the most detailed product description with price. It's not important to mention the terms of the deal; most important is a thorough description of the product.\n",
    "Be careful with products that are described as \"$XXX off\" or \"reduced by $XXX\" - this isn't the actual price of the product. Only respond with products when you are highly confident about the price. \n",
    "\n",
    "{\"deals\": [\n",
    "    {\n",
    "        \"product_description\": \"Your clearly expressed summary of the product in 4-5 sentences. Details of the item are much more important than why it's a good deal. Avoid mentioning discounts and coupons; focus on the item itself. There should be a paragpraph of text for each item you choose.\",\n",
    "        \"price\": 99.99,\n",
    "        \"url\": \"the url as provided\"\n",
    "    },\n",
    "    ...\n",
    "]}\"\"\""
   ]
  },
  {
   "cell_type": "code",
   "execution_count": 7,
   "id": "f4bca170-af71-40c9-9597-1d72980c74d8",
   "metadata": {},
   "outputs": [],
   "source": [
    "user_prompt = \"\"\"Respond with the most promising 5 deals from this list, selecting those which have the most detailed, high quality product description and a clear price.\n",
    "Respond strictly in JSON, and only JSON. You should rephrase the description to be a summary of the product itself, not the terms of the deal.\n",
    "Remember to respond with a paragraph of text in the product_description field for each of the 5 items that you select.\n",
    "Be careful with products that are described as \"$XXX off\" or \"reduced by $XXX\" - this isn't the actual price of the product. Only respond with products when you are highly confident about the price. \n",
    "\n",
    "Deals:\n",
    "\n",
    "\"\"\"\n",
    "user_prompt += '\\n\\n'.join([deal.describe() for deal in deals])"
   ]
  },
  {
   "cell_type": "code",
   "execution_count": 9,
   "id": "020947a6-561b-417b-98a0-a085e31d2ce3",
   "metadata": {},
   "outputs": [
    {
     "name": "stdout",
     "output_type": "stream",
     "text": [
      "Respond with the most promising 5 deals from this list, selecting those which have the most detailed, high quality product description and a clear price.\n",
      "Respond strictly in JSON, and only JSON. You should rephrase the description to be a summary of the product itself, not the terms of the deal.\n",
      "Remember to respond with a paragraph of text in the product_description field for each of the 5 items that you select.\n",
      "Be careful with products that are described as \"$XXX off\" or \"reduced by $XXX\" - this isn't the actual price of the product. Only respond with products when you are highly confident about the price. \n",
      "\n",
      "Deals:\n",
      "\n",
      "Title: Jackery Solar Generator 2000 Plus w/ SolarSaga 500 X Solar Panel for $1,699 + free shipping\n",
      "Details: Apply coupon code \"HI1600\" for a savings of $1,600, and $200 under our mention from three weeks ago. Buy Now at Jackery, Inc\n",
      "Features: LFP battery with up to 4,000 charge cycles and 10 year lifespan  Charges via solar in 4 hours  Smart app control\n",
      "URL: https://www.dealnews.com/Jackery-Solar-Generator-2000-Plus-w-Solar-Saga-500-X-Solar-Panel-for-1-699-free-shipping/21725834.html?iref=rss-c142\n",
      "\n",
      "Title: Jackery Explorer 2000 Plus 3,000W Portable Power Station + 2 SolarSaga 200W Solar Panels for $2,499 + free shipping\n",
      "Details: It's $1,900 under list price. Buy Now at Jackery, Inc\n",
      "Features: 4,086Wh includes two SolarSaga 200W bifacial solar panels Model: 21-0009-000093Y\n",
      "URL: https://www.dealnews.com/products/Jackery/Jackery-Explorer-2000-Plus-3-000-W-Portable-Power-Station-2-Solar-Saga-200-W-Solar-Panels/486971.html?iref=rss-c142\n",
      "\n",
      "Title: Jackery 3000 Pro 3,024Wh Portable Power Station + SolarSaga 500 500W Solar Panel for $1,999 + free shipping\n",
      "Details: Apply coupon code \"HI2000\" for a savings of $2,000. Buy Now at Jackery, Inc\n",
      "Features: 3024Wh capacity, 3000W output  Charges in 2.4 hours  Solar panel compatible  Supports most appliances  Smart app for control  Aluminum design with pull rod SolarSaga 500 500W Solar Panel (6 panel segments)\n",
      "URL: https://www.dealnews.com/Jackery-3000-Pro-3-024-Wh-Portable-Power-Station-Solar-Saga-500-500-W-Solar-Panel-for-1-999-free-shipping/21725828.html?iref=rss-c142\n",
      "\n",
      "Title: Jackery Explorer 5000 Plus Portable Power Station + Jackery Explorer 100 Plus Portable Power Station for $2,999 + free shipping\n",
      "Details: Apply coupon code \"HI500\" for a savings of $500. Buy Now at Jackery, Inc\n",
      "Features: 5040Wh LiFePO4 battery  Expandable up to 60kWh  120V/240V dual voltage support  Quiet operation under 30dB  Monitored via Jackery app FREE Jackery Explorer 100 Plus Portable Power Station (adds to cart automatically)\n",
      "URL: https://www.dealnews.com/Jackery-Explorer-5000-Plus-Portable-Power-Station-Jackery-Explorer-100-Plus-Portable-Power-Station-for-2-999-free-shipping/21725819.html?iref=rss-c142\n",
      "\n",
      "Title: Jackery Explorer 5000 Plus Solar Power Station Bundle for $4,999 + free shipping\n",
      "Details: Apply coupon code \"HI1000\" for a savings of $1,000. Buy Now at Jackery, Inc\n",
      "Features: Jackery Explorer 5000 Plus Solar Power Station  Jacker SolarSaga 500 X Solar Panel 2-Pack  Jackery Smart Switch  Jackery Explorer 100 Plus Portable Power Station (adds to cart automatically)\n",
      "URL: https://www.dealnews.com/Jackery-Explorer-5000-Plus-Solar-Power-Station-Bundle-for-4-999-free-shipping/21725818.html?iref=rss-c142\n",
      "\n",
      "Title: Refurb Fitbit Versa Lite Smart Watch for $75 + free shipping\n",
      "Details: You'd pay $140 for it new elsewhere. Buy Now at Walmart\n",
      "Features: \n",
      "URL: https://www.dealnews.com/Refurb-Fitbit-Versa-Lite-Smart-Watch-for-75-free-shipping/21725658.html?iref=rss-c142\n",
      "\n",
      "Title: Best Buy Tech Fest Wearable Tech Deals: Up to 67% off + free shipping\n",
      "Details: Save up to $50 off Garmin forerunner series, up to $60 off the Pixel 2 and 3 smartwatches, and up to 67% off a range of other brands including Fitbit and Samsung. My Best Buy members get free shipping. (It's free to join. Shipping is free for everyone over $35. Pickup may also be available.) Shop Now at Best Buy\n",
      "Features: \n",
      "URL: https://www.dealnews.com/Best-Buy-Tech-Fest-Wearable-Tech-Deals-Up-to-67-off-free-shipping/21725656.html?iref=rss-c142\n",
      "\n",
      "Title: Refurb Google Pixel Watch 41mm GPS + WiFi Smartwatch for $53 + free shipping\n",
      "Details: It's a $2 drop from last week, within $3 of its best-ever price, and $37 less than what you'd pay for it new elsewhere. It's backed by a one-year Allstate warranty. Buy Now at eBay\n",
      "Features: stainless steel case text messaging, activity tracker, always on display, notifications Model: GA04123-US\n",
      "URL: https://www.dealnews.com/products/Google/Google-Pixel-Watch-41-mm-GPS-Wi-Fi-Smartwatch/472718.html?iref=rss-c142\n",
      "\n",
      "Title: Refurb Apple Watch Series 8 GPS + Cellular 45mm Smart Watch for $175 + free shipping\n",
      "Details: That's the best price we could find for a refurb by $26 and an all-time low for this. In Midnight or Silver. Buy Now at eBay\n",
      "Features: takes ECG, heart rate monitor, blood oxygen level monitor, tracks temperature changes fall detection, emergency SOS, & crash detection  IP6X dust & water-resistant Model: MNVL3LL/A\n",
      "URL: https://www.dealnews.com/products/Apple/Apple-Watch-Series-8-GPS-Cellular-45-mm-Smart-Watch/388844.html?iref=rss-c142\n",
      "\n",
      "Title: Unlocked Samsung Galaxy S25+ Android Phones From $765, or up to $700 off w/ trade-in + free shipping\n",
      "Details: Without trade-in, the 256GB model starts from $764.99, and the 512GB from $872.99. With an eligible trade-in, those starting prices drop to $269.99 and $377.99 respectively. You'll also get the chance to save on a Galaxy Watch, Ring, or Buds as part of a bundle deal, and the phone comes with three months each of YouTube Premium and Peacock Premium (for new users only). Buy Now at Samsung\n",
      "Features: \n",
      "URL: https://www.dealnews.com/Unlocked-Samsung-Galaxy-S25-Android-Phones-From-765-or-up-to-700-off-w-trade-in-free-shipping/21725707.html?iref=rss-c142\n",
      "\n",
      "Title: Dell Refurbished Hot Deals: Up to 55% off + free shipping\n",
      "Details: Save up to $550 on these refurbished Dell laptops, with deals starting from $259. Plus, all orders ship for free. All refurbished systems get a 100-day Dell warranty. Shop Now at Dell Refurbished Store\n",
      "Features: \n",
      "URL: https://www.dealnews.com/Dell-Refurbished-Hot-Deals-Up-to-55-off-free-shipping/21725809.html?iref=rss-c39\n",
      "\n",
      "Title: Refurb Apple iPad 10.2\" 32GB WiFi Tablet (2020) for $144 + free shipping\n",
      "Details: It's the best price we've seen for this model in any condition. It includes a 2-year Allstate warranty. Buy Now at eBay\n",
      "Features: A12 Bionic chip with Neural engine 10.2\" retina display support for Apple Pencil (1st generation) and Smart Keyboard 8MP back camera, 1.2MP front camera Model: MYL92LL/A\n",
      "URL: https://www.dealnews.com/products/Apple/Apple-iPad-10-2-32-GB-Wi-Fi-Tablet-2020/139465.html?iref=rss-c39\n",
      "\n",
      "Title: Seagate Internal Hard Drive Deals at B&H Photo Video: $5 to $680 off + free shipping\n",
      "Details: Save on a wide range of internal SSDs and hard drives. We've pictured the Seagate 2TB FireCuda 530R NVMe PCIe 4.0 M.2 Internal SSD with Heatsink for $159.99 ($95 off). Buy Now at B&H Photo Video\n",
      "Features: \n",
      "URL: https://www.dealnews.com/Seagate-Internal-Hard-Drive-Deals-at-B-H-Photo-Video-5-to-680-off-free-shipping/21725620.html?iref=rss-c39\n",
      "\n",
      "Title: TerraMaster T9-450 9-Bay NAS Enclosure for $900 + free shipping\n",
      "Details: That's $300 less than other sellers charge. Buy Now at B&H Photo Video\n",
      "Features: 9 x 3.5/2.5\" SATA Drive Bays 2.4 GHz Intel Atom C3558R 4-Core CPU 2 x M.2 2280 NVMe Slots 8GB of DDR4 RAM Model: T9-450\n",
      "URL: https://www.dealnews.com/products/Terra-Master/Terra-Master-T9-450-9-Bay-NAS-Enclosure/488055.html?iref=rss-c39\n",
      "\n",
      "Title: Certified Refurbished Western Digital My Passport 2TB External Hard Drive for $55 + free shipping\n",
      "Details: That's $14 under the best price we found for a new one. This is a certified refurbished item with a 2-year Allstate warranty. Buy Now at eBay\n",
      "Features: \n",
      "URL: https://www.dealnews.com/products/Western-Digital/Western-Digital-My-Passport-2-TB-External-Hard-Drive/488053.html?iref=rss-c39\n",
      "\n",
      "Title: Clearance and Open-Box Laptops at Best Buy From $108 + free shipping\n",
      "Details: Save on over 40 builds from Lenovo, Asus, HP, Apple, and more. We've pictured the Open-Box Apple MacBook Air M2 13.6\" Laptop (2022) from $717.99. Buy Now at Best Buy\n",
      "Features: \n",
      "URL: https://www.dealnews.com/Clearance-and-Open-Box-Laptops-at-Best-Buy-From-108-free-shipping/21725479.html?iref=rss-c39\n",
      "\n",
      "Title: Refurb Dell Latitude 5410 Laptops: 40% off + free shipping\n",
      "Details: Use coupon code \"DELL5410SALE\" to get this discount — deals start from $216.30 after it's applied. Plus, everything ships for free. All refurbished systems get a 100-day Dell warranty Shop Now at Dell Refurbished Store\n",
      "Features: \n",
      "URL: https://www.dealnews.com/Refurb-Dell-Latitude-5410-Laptops-40-off-free-shipping/21725445.html?iref=rss-c39\n",
      "\n",
      "Title: Laptop & Tablet Flash Deals at Walmart: Up to 66% off + free shipping\n",
      "Details: Save on new and refurb models, with prices on laptops starting below $100. We've pictured this Open-Box Apple MacBook Air M2 15.3\" Laptop (2023) for $799 ($850 to $1,000 elsewhere.) Shop Now at Walmart\n",
      "Features: \n",
      "URL: https://www.dealnews.com/Laptop-Tablet-Flash-Deals-at-Walmart-Up-to-66-off-free-shipping/21725441.html?iref=rss-c39\n",
      "\n",
      "Title: Refurb Dell Desktops: 40% off + free shipping\n",
      "Details: Coupon code \"DESKTOP40\" gets this discount on any desktop — prices start from $161.40 after it's applied. Plus, all orders get free shipping. All systems get a 100-day Dell warranty. Shop Now at Dell Refurbished Store\n",
      "Features: \n",
      "URL: https://www.dealnews.com/Refurb-Dell-Desktops-40-off-free-shipping/21725438.html?iref=rss-c39\n",
      "\n",
      "Title: Norton 360 with Lifelock Select Plus for $80\n",
      "Details: Get your first year of Norton 360 with Lifelock Select Plus at less than half price — it's a $110 savings on this plan offering antivirus, malware, ransomware, and hacking protection. You'll get Genie Scam Protection Pro, 250GB of cloud backup, a password manager, VPN, Lifelock identity theft protection, social security and credit alerts, and more. Buy Now at Norton\n",
      "Features: \n",
      "URL: https://www.dealnews.com/Norton-360-with-Lifelock-Select-Plus-for-80/21725773.html?iref=rss-c39\n",
      "\n",
      "Title: Flashark Racing Clearance Deals: Up to 78% off + free shipping\n",
      "Details: Save on automobile parts and accessories, including lights, handles, and seat protectors, all dropped to $9.99 apiece. We've pictured the Flashark S7 9003/H4 100W 6500K IP68 LED Headlight Bulb 2-Pack for $9.99 ($35 off — you'd pay around $36 or more a for a similar pair elsewhere). Plus, all orders ship for free. Shop Now at Flashark Racing\n",
      "Features: \n",
      "URL: https://www.dealnews.com/Flashark-Racing-Clearance-Deals-Up-to-78-off-free-shipping/21725512.html?iref=rss-c238\n",
      "\n",
      "Title: Tires at eBay: Up to 30% off + extra 10% off + free shipping\n",
      "Details: Use coupon code \"TIREWHEEL25\" to knock an extra 10% off these already-discounted tires at eBay. Shop Now at eBay\n",
      "Features: \n",
      "URL: https://www.dealnews.com/Tires-at-eBay-Up-to-30-off-extra-10-off-free-shipping/21725403.html?iref=rss-c238\n",
      "\n",
      "Title: Tire Rollbacks at Walmart: Up to 52% off + free shipping w/ $35\n",
      "Details: There are over 1,000 on offer here, including discounts on top brands Goodyear and Cooper. We've pictured this Goodyear Reliant All-Season 195/60R15 88V All-Season Tire for $69 ($8 off.) Shop Now at Walmart\n",
      "Features: \n",
      "URL: https://www.dealnews.com/Tire-Rollbacks-at-Walmart-Up-to-52-off-free-shipping-w-35/21722627.html?iref=rss-c238\n",
      "\n",
      "Title: Armor All 12-Piece Car Cleaning Kit for $20 + pickup\n",
      "Details: That's a savings of $24. Opt for pickup to avoid the $6.99 shipping charge (or get free shipping with orders of $35 or more). Buy Now at Walmart\n",
      "Features: \n",
      "URL: https://www.dealnews.com/Armor-All-12-Piece-Car-Cleaning-Kit-for-20-pickup/21723960.html?iref=rss-c238\n",
      "\n",
      "Title: Portable 6,000A Jump Starter with Tire Inflator, Light for $74 + free shipping\n",
      "Details: Apply coupon code \"RCNKSPRING25\" for a savings of $32. Buy Now at eBay\n",
      "Features: Jump Starter, Tire inflator, LED Light, Reverse Polarity Protection, Safety Switch, USB Charger, Safety Hammer\n",
      "URL: https://www.dealnews.com/Portable-6-000-A-Jump-Starter-with-Tire-Inflator-Light-for-74-free-shipping/21723701.html?iref=rss-c238\n",
      "\n",
      "Title: Lifeware Ultra Slim 1080p Dash Cam for $15 + free shipping\n",
      "Details: You'd pay double elsewhere. Plus, use code \"DEALNEWS\" to get free shipping, an additional $8.99 savings. Buy Now at MorningSave\n",
      "Features: \n",
      "URL: https://www.dealnews.com/Lifeware-Ultra-Slim-1080-p-Dash-Cam-for-15-free-shipping/21723443.html?iref=rss-c238\n",
      "\n",
      "Title: Automotive Clearance at Walmart: Up to 65% off + free shipping w/ $35\n",
      "Details: Save on tools, sun shades, battery testers, cameras, and more. We've pictured the 8-Piece Carburetor Adjustment Tool Kit for $10 (50% off). Shipping adds $7, or get free shipping over $35. Shop Now at Walmart\n",
      "Features: \n",
      "URL: https://www.dealnews.com/Automotive-Clearance-at-Walmart-Up-to-65-off-free-shipping-w-35/21723429.html?iref=rss-c238\n",
      "\n",
      "Title: Vevor 205-Piece Mechanics Tool Set for $70 + free shipping\n",
      "Details: It's $20 less than the price Amazon charges. Buy Now at Lowe's\n",
      "Features: \n",
      "URL: https://www.dealnews.com/products/Vevor/Vevor-205-Piece-Mechanics-Tool-Set/487756.html?iref=rss-c238\n",
      "\n",
      "Title: SmartStraps 1\" 14-Foot Ratchet Tie Down Straps 4-Pack for $18 + free shipping w/ $35\n",
      "Details: As one of its daily deals, Lowe's has this four pack for just $17.98. That's $16 off and a great deal for these ratchet straps. Choose in-store pickup to dodge the $5.99 shipping fee, or get free shipping with orders of $35 or more by signing up to MyLowe's Rewards. (It's free to join.) Buy Now at Lowe's\n",
      "Features: 500 lbs. working load limit 1,500 lbs. break strength Model: 345\n",
      "URL: https://www.dealnews.com/products/Smart-Straps/Smart-Straps-1-14-Foot-Ratchet-Tie-Down-Straps-4-Pack/487753.html?iref=rss-c238\n",
      "\n",
      "Title: 7\" Wireless Car Display with Apple CarPlay / Android Auto for $65 + $10 s&h\n",
      "Details: Save $75 on this car display, which supports Apple CarPlay & Android Auto, as well as Google Assistant. Buy Now at StackSocial\n",
      "Features: 7\" 1024x600 touchscreen display voice control 3.5mm jack\n",
      "URL: https://www.dealnews.com/7-Wireless-Car-Display-with-Apple-Car-Play-Android-Auto-for-65-10-s-h/21725495.html?iref=rss-c238\n",
      "\n",
      "Title: Certified Refurb iRobot Roomba j7+ Self-Emptying Robot Vacuum for $200 + free shipping\n",
      "Details: It's the best price we've seen for this vacuum in any condition. It includes a 2-year Allstate warranty. Buy Now at eBay\n",
      "Features: smart mapping self cleaning cartridge filter Model: j755920\n",
      "URL: https://www.dealnews.com/products/iRobot/iRobot-Roomba-j7-Self-Emptying-Robot-Vacuum/455442.html?iref=rss-f1912\n",
      "\n",
      "Title: Jackery Explorer 5000 Plus Solar Power Station Bundle for $4,999 + free shipping\n",
      "Details: Apply coupon code \"HI1000\" for a savings of $1,000. Buy Now at Jackery, Inc\n",
      "Features: Jackery Explorer 5000 Plus Solar Power Station  Jacker SolarSaga 500 X Solar Panel 2-Pack  Jackery Smart Switch  Jackery Explorer 100 Plus Portable Power Station (adds to cart automatically)\n",
      "URL: https://www.dealnews.com/Jackery-Explorer-5000-Plus-Solar-Power-Station-Bundle-for-4-999-free-shipping/21725818.html?iref=rss-f1912\n",
      "\n",
      "Title: Dymo Letratag 200 Bluetooth Label Maker for $23 + free shipping\n",
      "Details: That's a $10 low. Buy Now at eBay\n",
      "Features: \n",
      "URL: https://www.dealnews.com/Dymo-Letratag-200-Bluetooth-Label-Maker-for-23-free-shipping/21725610.html?iref=rss-f1912\n",
      "\n",
      "Title: 6.5 cu. ft. Fireproof Dual Key 88-lb. Smart Lock Safe for $205 + free shipping\n",
      "Details: That's a $315 savings. Buy Now at Walmart\n",
      "Features: \n",
      "URL: https://www.dealnews.com/6-5-cu-ft-Fireproof-Dual-Key-88-lb-Smart-Lock-Safe-for-205-free-shipping/21725383.html?iref=rss-f1912\n",
      "\n",
      "Title: Aura Air Mini Smart Purifier for $60 + free shipping\n",
      "Details: That's the best price we could find by $108. Buy Now at Adorama\n",
      "Features: USB-C charging up to 6 hour battery life Model: F00057\n",
      "URL: https://www.dealnews.com/products/Aura-Air/Aura-Air-Mini-Smart-Purifier/487958.html?iref=rss-f1912\n",
      "\n",
      "Title: Chamberlain myQ Smart Garage Video Keypad for $47 + free shipping\n",
      "Details: It's back at the best price we've seen and $18 less than the price that Amazon charges. Buy Now at eBay\n",
      "Features: notifications in real-time and view history built-in camera with 1080p HD video advanced motion detection  Smartphone control wide angle view Model: VKP1-MYQ\n",
      "URL: https://www.dealnews.com/products/Chamberlain/Chamberlain-my-Q-Smart-Garage-Video-Keypad/441532.html?iref=rss-f1912\n",
      "\n",
      "Title: Birdfy Smart Bird Feeder with Camera and AI Species Identification for $100 + free shipping\n",
      "Details: Buy Now at Walmart\n",
      "Features: Camera with Solar Panel AI Identify 6000+ Species Eco-friendly Wooden  1080P HD Camera Night Vision Works with 2.4GHz Wi-Fi routers\n",
      "URL: https://www.dealnews.com/Birdfy-Smart-Bird-Feeder-with-Camera-and-AI-Species-Identification-for-100-free-shipping/21723427.html?iref=rss-f1912\n",
      "\n",
      "Title: Ring Battery Doorbell Plus (2023) for $120 + $5 s&h\n",
      "Details: It's $150 for it new at Amazon at the moment, whereas this like-new version goes for $65 less. It's backed by a 1-year warranty. Buy Now at Amazon\n",
      "Features: Head-to-Toe HD+ Video in 1536p Color Night Vision Two-Way Talk & Quick Replies Customizable Motion Zones Model: B09WZBPX7K\n",
      "URL: https://www.dealnews.com/products/Ring/Ring-Battery-Doorbell-Plus-2023/459965.html?iref=rss-f1912\n",
      "\n",
      "Title: Samsung Bespoke Jet Bot Combo AI Robot Vacuum and Mop for $1,100 + free shipping\n",
      "Details: That's $600 off, $200 under our mention from two weeks ago, and the best price we've seen. Buy Now at Samsung\n",
      "Features: All-in-One Clean Station  Auto Steam Jet AI Object Recognition and 3D Obstacle Avoidance Sensor AI Floor Detect Robot vacuum camera: Jet Bot Combo AI's front camera automatically recognizes and monitors your pet. Model: VR7MD97714G/AA\n",
      "URL: https://www.dealnews.com/products/Samsung/Bespoke-Jet-Bot-Combo-AI-Robot-Vacuum-and-Mop/487101.html?iref=rss-f1912\n",
      "\n",
      "Title: 2nd-Gen. Apple HomePod Smart Speaker (2023) for $299 + free shipping\n",
      "Details: Get the newest Apple HomePod smart speaker in Midnight or White. You'll also get three months of Apple Music for free. Buy Now at Apple\n",
      "Features: high-excursion woofer & five tweeters Spatial Audio room sensing Siri voice recognition Model: MQJ73LL/A\n",
      "URL: https://www.dealnews.com/products/Apple/2-nd-Gen-Apple-Home-Pod-Smart-Speaker-2023/467409.html?iref=rss-f1912\n",
      "\n",
      "Title: Milwaukee Tool M18 18V 6.5\" Circular Saw for $85 + free shipping\n",
      "Details: You'd pay at least $15 more for a refurb at most stores. This is a certified refurbished item backed by a 2-year warranty from Allstate. Buy Now at eBay\n",
      "Features: 90°, 45° cutting angles aircraft aluminum shoe heavy-duty magnesium guards Model: 2630-80\n",
      "URL: https://www.dealnews.com/products/Milwaukee-Tool/Milwaukee-Tool-M18-18-V-6-5-Circular-Saw/461786.html?iref=rss-c196\n",
      "\n",
      "Title: Candy In Bulk Sale: Extra 5% off + free shipping w/ $49\n",
      "Details: Get 5% off chocolates, candy, and more with code \"CANDY5\". Orders of $49 or more ships for free. Shop Now at Candy In Bulk\n",
      "Features: \n",
      "URL: https://www.dealnews.com/Candy-In-Bulk-Sale-Extra-5-off-free-shipping-w-49/21725877.html?iref=rss-c196\n",
      "\n",
      "Title: Tool and Home Improvement Deals at Temu: Up to 90% off + free shipping w/ $30\n",
      "Details: Shop home improvement items like faucets, lighting, shelving, storage, and more. You'll also find hand tools, garden tools, and hardware. We've pictured the Angle Drill Guide for $12 ($62 off). Shipping adds $2.99, or get free shipping on most orders over $30. Shop Now at Temu\n",
      "Features: \n",
      "URL: https://www.dealnews.com/Tool-and-Home-Improvement-Deals-at-Temu-Up-to-90-off-free-shipping-w-30/21725875.html?iref=rss-c196\n",
      "\n",
      "Title: Temu Lightning Deals: Up to 90% off + free shipping w/ $30\n",
      "Details: Find deals in every imaginable category. We've pictured the Folding Camping Grill for $14 ($81 off). Shipping is free on most orders over $30, or adds $2.99 otherwise. Shop Now at Temu\n",
      "Features: \n",
      "URL: https://www.dealnews.com/Temu-Lightning-Deals-Up-to-90-off-free-shipping-w-30/21725868.html?iref=rss-c196\n",
      "\n",
      "Title: Creality 3D Printer Filament at eBay: Buy 6, Get 4 free + free shipping\n",
      "Details: Buy 6 spools of Creality PET-G, PLA, or Silk PLA filament and get four more for free. (Add 10 spools of your choice to your cart to get this deal, four spools will be discounted automatically during checkout.) Shop Now at eBay\n",
      "Features: \n",
      "URL: https://www.dealnews.com/Creality-3-D-Printer-Filament-at-eBay-Buy-6-Get-4-free-free-shipping/21725848.html?iref=rss-c196\n",
      "\n",
      "Title: Flashforge High Speed PET-G 0.68kg 3D Printer Filament From $14 + free shipping\n",
      "Details: Save up to $2 on these spools - you'd pay around $23 for full 1-kg spools at most stores. Buy Now at eBay\n",
      "Features: \n",
      "URL: https://www.dealnews.com/products/Flashforge-High-Speed-PET-G-0-68-kg-3-D-Printer-Filament/488094.html?iref=rss-c196\n",
      "\n",
      "Title: Certified Refurb iRobot Roomba j7+ Self-Emptying Robot Vacuum for $200 + free shipping\n",
      "Details: It's the best price we've seen for this vacuum in any condition. It includes a 2-year Allstate warranty. Buy Now at eBay\n",
      "Features: smart mapping self cleaning cartridge filter Model: j755920\n",
      "URL: https://www.dealnews.com/products/iRobot/iRobot-Roomba-j7-Self-Emptying-Robot-Vacuum/455442.html?iref=rss-c196\n",
      "\n",
      "Title: Jackery Solar Generator 2000 Plus w/ SolarSaga 500 X Solar Panel for $1,699 + free shipping\n",
      "Details: Apply coupon code \"HI1600\" for a savings of $1,600, and $200 under our mention from three weeks ago. Buy Now at Jackery, Inc\n",
      "Features: LFP battery with up to 4,000 charge cycles and 10 year lifespan  Charges via solar in 4 hours  Smart app control\n",
      "URL: https://www.dealnews.com/Jackery-Solar-Generator-2000-Plus-w-Solar-Saga-500-X-Solar-Panel-for-1-699-free-shipping/21725834.html?iref=rss-c196\n",
      "\n",
      "Title: Jackery Explorer 2000 Plus 3,000W Portable Power Station + 2 SolarSaga 200W Solar Panels for $2,499 + free shipping\n",
      "Details: It's $1,900 under list price. Buy Now at Jackery, Inc\n",
      "Features: 4,086Wh includes two SolarSaga 200W bifacial solar panels Model: 21-0009-000093Y\n",
      "URL: https://www.dealnews.com/products/Jackery/Jackery-Explorer-2000-Plus-3-000-W-Portable-Power-Station-2-Solar-Saga-200-W-Solar-Panels/486971.html?iref=rss-c196\n",
      "\n",
      "Title: Blue Apron New Customer Offer: $80 off first five weeks + first week ships free\n",
      "Details: New customers can use this link to enjoy $80 off the first five weeks of a new subscription. Plus, you'll get free shipping on your first week. Shop Now at Blue Apron\n",
      "Features: \n",
      "URL: https://www.dealnews.com/Blue-Apron-New-Customer-Offer-80-off-first-five-weeks-first-week-ships-free/21725126.html?iref=rss-c196\n"
     ]
    }
   ],
   "source": [
    "print(user_prompt)"
   ]
  },
  {
   "cell_type": "code",
   "execution_count": 10,
   "id": "7de46f74-868c-4127-8a68-cf2da7d600bb",
   "metadata": {},
   "outputs": [],
   "source": [
    "def get_recommendations():\n",
    "    completion = openai.beta.chat.completions.parse(\n",
    "        model=\"gpt-4o-mini\",\n",
    "        messages=[\n",
    "            {\"role\": \"system\", \"content\": system_prompt},\n",
    "            {\"role\": \"user\", \"content\": user_prompt}\n",
    "      ],\n",
    "        response_format=DealSelection\n",
    "    )\n",
    "    result = completion.choices[0].message.parsed\n",
    "    return result"
   ]
  },
  {
   "cell_type": "code",
   "execution_count": 11,
   "id": "4c06270d-8c17-4d5a-9cfe-b6cefe788d5e",
   "metadata": {},
   "outputs": [],
   "source": [
    "result = get_recommendations()"
   ]
  },
  {
   "cell_type": "code",
   "execution_count": 12,
   "id": "84e62845-3338-441a-8161-c70097af4773",
   "metadata": {},
   "outputs": [
    {
     "data": {
      "text/plain": [
       "5"
      ]
     },
     "execution_count": 12,
     "metadata": {},
     "output_type": "execute_result"
    }
   ],
   "source": [
    "len(result.deals)"
   ]
  },
  {
   "cell_type": "code",
   "execution_count": 13,
   "id": "e5554a0a-ae40-4684-ad3e-faa3d22e030c",
   "metadata": {},
   "outputs": [
    {
     "data": {
      "text/plain": [
       "Deal(product_description=\"The Jackery Explorer 2000 Plus is a robust portable power station featuring a capacity of 4,086Wh alongside two SolarSaga 200W bifacial solar panels. Perfect for camping trips, outdoor events, or emergency power needs, this power station can support high-wattage devices without fuss. Its impressive 3,000W output ensures that you can run multiple devices simultaneously, providing peace of mind whether you're away from home or facing an unexpected power outage. Compact and efficient, this model is designed for those seeking reliable portable energy.\", price=2499.0, url='https://www.dealnews.com/products/Jackery/Jackery-Explorer-2000-Plus-3-000-W-Portable-Power-Station-2-Solar-Saga-200-W-Solar-Panels/486971.html?iref=rss-c196')"
      ]
     },
     "execution_count": 13,
     "metadata": {},
     "output_type": "execute_result"
    }
   ],
   "source": [
    "result.deals[1]"
   ]
  },
  {
   "cell_type": "code",
   "execution_count": 14,
   "id": "8bdc57fb-7497-47af-a643-6ba5a21cc17e",
   "metadata": {},
   "outputs": [],
   "source": [
    "from agents.scanner_agent import ScannerAgent"
   ]
  },
  {
   "cell_type": "code",
   "execution_count": 15,
   "id": "132278bc-217a-43a6-b6c4-724140c6a225",
   "metadata": {},
   "outputs": [],
   "source": [
    "agent = ScannerAgent()\n",
    "result = agent.scan()"
   ]
  },
  {
   "cell_type": "code",
   "execution_count": 19,
   "id": "2e1d013a-c930-4dad-901b-41433379e14b",
   "metadata": {},
   "outputs": [
    {
     "name": "stdout",
     "output_type": "stream",
     "text": [
      "[Deal(product_description='The Jackery Solar Generator 2000 Plus comes with a SolarSaga 500 X solar panel and features a lithium iron phosphate (LFP) battery, capable of up to 4,000 charge cycles and a 10-year lifespan. It can be fully charged via solar energy in just 4 hours, making it an eco-friendly power solution for outdoor and emergency use. The generator is also equipped with smart app control, allowing users to monitor and manage the power station conveniently from their mobile devices.', price=1699.0, url='https://www.dealnews.com/Jackery-Solar-Generator-2000-Plus-w-Solar-Saga-500-X-Solar-Panel-for-1-699-free-shipping/21725834.html?iref=rss-c196'),\n",
      " Deal(product_description=\"The Jackery Explorer 2000 Plus is a formidable portable power station featuring a 4,086Wh capacity and comes bundled with two SolarSaga 200W solar panels. This power station is capable of delivering a continuous output of 3,000 watts, making it suitable for powering various appliances during outdoor adventures or emergencies. It's designed for efficiency and reliability, ensuring that users have access to power when they need it most.\", price=2499.0, url='https://www.dealnews.com/products/Jackery/Jackery-Explorer-2000-Plus-3-000-W-Portable-Power-Station-2-Solar-Saga-200-W-Solar-Panels/486971.html?iref=rss-c196'),\n",
      " Deal(product_description='The Jackery 3000 Pro is a powerful portable power station with a capacity of 3,024Wh and a pure sine wave output of up to 3,000W. This unit can be charged in just 2.4 hours and is compatible with solar panels, enhancing its utility for outdoor activities. Additionally, it supports a wide range of appliances and devices, making it flexible for both everyday and emergency use. Its smart app control feature also adds a convenience factor.', price=1999.0, url='https://www.dealnews.com/Jackery-3000-Pro-3-024-Wh-Portable-Power-Station-Solar-Saga-500-500-W-Solar-Panel-for-1-999-free-shipping/21725828.html?iref=rss-c196'),\n",
      " Deal(product_description='The Jackery Explorer 5000 Plus is a high-capacity portable power station featuring a 5040Wh LiFePO4 battery. Its expandable design supports a maximum capacity of up to 60kWh, accommodating heavy power consumption during camping or emergencies. This unit offers dual voltage support of both 120V and 240V and is monitored via a dedicated app, which makes it easy to keep track of power usage. It also operates quietly, under 30dB.', price=2999.0, url='https://www.dealnews.com/Jackery-Explorer-5000-Plus-Portable-Power-Station-Jackery-Explorer-100-Plus-Portable-Power-Station-for-2-999-free-shipping/21725819.html?iref=rss-c196'),\n",
      " Deal(product_description='The iRobot Roomba j7+ is a self-emptying robot vacuum equipped with smart mapping technology, allowing it to efficiently cover your home while avoiding obstacles. It features a self-cleaning cartridge and a powerful suction capability that captures pet hair and debris. The vacuum is compatible with a mobile app that allows you to customize settings and clean schedules, giving you full control over your cleaning routine.', price=200.0, url='https://www.dealnews.com/products/iRobot/iRobot-Roomba-j7-Self-Emptying-Robot-Vacuum/455442.html?iref=rss-f1912')]\n"
     ]
    }
   ],
   "source": [
    "from pprint import pprint\n",
    "pprint(result.deals)"
   ]
  },
  {
   "cell_type": "code",
   "execution_count": null,
   "id": "5ee2e837-1f1d-42d4-8bc4-51cccc343006",
   "metadata": {},
   "outputs": [],
   "source": []
  }
 ],
 "metadata": {
  "kernelspec": {
   "display_name": "Python 3 (ipykernel)",
   "language": "python",
   "name": "python3"
  },
  "language_info": {
   "codemirror_mode": {
    "name": "ipython",
    "version": 3
   },
   "file_extension": ".py",
   "mimetype": "text/x-python",
   "name": "python",
   "nbconvert_exporter": "python",
   "pygments_lexer": "ipython3",
   "version": "3.11.11"
  }
 },
 "nbformat": 4,
 "nbformat_minor": 5
}
