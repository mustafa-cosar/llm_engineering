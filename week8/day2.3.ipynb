{
 "cells": [
  {
   "cell_type": "markdown",
   "id": "2a0f44a9-37cd-4aa5-9b20-cfc0dc8dfc0a",
   "metadata": {},
   "source": [
    "# The Price is Right\n",
    "\n",
    "Today we build a more complex solution for estimating prices of goods.\n",
    "\n",
    "1. Day 2.0 notebook: create a RAG database with our 400,000 training data\n",
    "2. Day 2.1 notebook: visualize in 2D\n",
    "3. Day 2.2 notebook: visualize in 3D\n",
    "4. Day 2.3 notebook: build and test a RAG pipeline with GPT-4o-mini\n",
    "5. Day 2.4 notebook: (a) bring back our Random Forest pricer (b) Create a Ensemble pricer that allows contributions from all the pricers\n",
    "\n",
    "Phew! That's a lot to get through in one day!\n",
    "\n",
    "## PLEASE NOTE:\n",
    "\n",
    "We already have a very powerful product estimator with our proprietary, fine-tuned LLM. Most people would be very satisfied with that! The main reason we're adding these extra steps is to deepen your expertise with RAG and with Agentic workflows.\n",
    "\n",
    "## We will go fast today! Hold on to your hat.."
   ]
  },
  {
   "cell_type": "code",
   "execution_count": 1,
   "id": "fbcdfea8-7241-46d7-a771-c0381a3e7063",
   "metadata": {},
   "outputs": [],
   "source": [
    "# imports\n",
    "\n",
    "import os\n",
    "import re\n",
    "import math\n",
    "import json\n",
    "from tqdm import tqdm\n",
    "import random\n",
    "from dotenv import load_dotenv\n",
    "from huggingface_hub import login\n",
    "import matplotlib.pyplot as plt\n",
    "import numpy as np\n",
    "import pickle\n",
    "from openai import OpenAI\n",
    "from sentence_transformers import SentenceTransformer\n",
    "from datasets import load_dataset\n",
    "import chromadb\n",
    "from items import Item\n",
    "from testing import Tester"
   ]
  },
  {
   "cell_type": "code",
   "execution_count": 2,
   "id": "98666e73-938e-469d-8987-e6e55ba5e034",
   "metadata": {},
   "outputs": [],
   "source": [
    "# environment\n",
    "\n",
    "load_dotenv(override=True)\n",
    "os.environ['OPENAI_API_KEY'] = os.getenv('OPENAI_API_KEY', 'your-key-if-not-using-env')\n",
    "os.environ['HF_TOKEN'] = os.getenv('HF_TOKEN', 'your-key-if-not-using-env')"
   ]
  },
  {
   "cell_type": "code",
   "execution_count": 3,
   "id": "9a25a5cf-8f6c-4b5d-ad98-fdd096f5adf8",
   "metadata": {},
   "outputs": [],
   "source": [
    "openai = OpenAI()"
   ]
  },
  {
   "cell_type": "code",
   "execution_count": 4,
   "id": "dc696493-0b6f-48aa-9fa8-b1ae0ecaf3cd",
   "metadata": {},
   "outputs": [],
   "source": [
    "# Load in the test pickle file\n",
    "# See the section \"Back to the PKL files\" in the day2.0 notebook\n",
    "# for instructions on obtaining this test.pkl file\n",
    "\n",
    "with open('test.pkl', 'rb') as file:\n",
    "    test = pickle.load(file)"
   ]
  },
  {
   "cell_type": "code",
   "execution_count": 5,
   "id": "33d38a06-0c0d-4e96-94d1-35ee183416ce",
   "metadata": {},
   "outputs": [],
   "source": [
    "def make_context(similars, prices):\n",
    "    message = \"To provide some context, here are some other items that might be similar to the item you need to estimate.\\n\\n\"\n",
    "    for similar, price in zip(similars, prices):\n",
    "        message += f\"Potentially related product:\\n{similar}\\nPrice is ${price:.2f}\\n\\n\"\n",
    "    return message"
   ]
  },
  {
   "cell_type": "code",
   "execution_count": 6,
   "id": "61f203b7-63b6-48ed-869b-e393b5bfcad3",
   "metadata": {},
   "outputs": [],
   "source": [
    "def messages_for(item, similars, prices):\n",
    "    system_message = \"You estimate prices of items. Reply only with the price, no explanation\"\n",
    "    user_prompt = make_context(similars, prices)\n",
    "    user_prompt += \"And now the question for you:\\n\\n\"\n",
    "    user_prompt += item.test_prompt().replace(\" to the nearest dollar\",\"\").replace(\"\\n\\nPrice is $\",\"\")\n",
    "    return [\n",
    "        {\"role\": \"system\", \"content\": system_message},\n",
    "        {\"role\": \"user\", \"content\": user_prompt},\n",
    "        {\"role\": \"assistant\", \"content\": \"Price is $\"}\n",
    "    ]"
   ]
  },
  {
   "cell_type": "code",
   "execution_count": 7,
   "id": "b26f405d-6e1f-4caa-b97f-1f62cd9d1ebc",
   "metadata": {},
   "outputs": [],
   "source": [
    "DB = \"products_vectorstore\""
   ]
  },
  {
   "cell_type": "code",
   "execution_count": 8,
   "id": "d26a1104-cd11-4361-ab25-85fb576e0582",
   "metadata": {},
   "outputs": [],
   "source": [
    "client = chromadb.PersistentClient(path=DB)\n",
    "collection = client.get_or_create_collection('products')"
   ]
  },
  {
   "cell_type": "code",
   "execution_count": 9,
   "id": "1e339760-96d8-4485-bec7-43fadcd30c4d",
   "metadata": {},
   "outputs": [],
   "source": [
    "def description(item):\n",
    "    text = item.prompt.replace(\"How much does this cost to the nearest dollar?\\n\\n\", \"\")\n",
    "    return text.split(\"\\n\\nPrice is $\")[0]"
   ]
  },
  {
   "cell_type": "code",
   "execution_count": 10,
   "id": "a1bd0c87-8bad-43d9-9461-bb69a9e0e22c",
   "metadata": {},
   "outputs": [
    {
     "data": {
      "text/plain": [
       "'TLAPS Compatible With Toyota Tacoma Non-Factory LED LED DRL Black Housing Full LED Sequential Quad Projector Headlights With Amber Reflector\\nApplication Compatible With Toyota Tacoma Models With Non-Factory LED DRL ( Daytime Running Lights ) Headlights Only ( Attention Note Will Not Fit Models With Factory LED DRL ( Daytime Running Lights ) Headlights, Hyper Blinking May Occur If Used With Other Branded Aftermarket LED Lighting ) Full LED Sequential Projector Headlights ( Attention These LED Projector Headlights Will ONLY Replace Factory OEM Halogen Style Headlights, Not Compatible With Factory Upgraded Projectors Or LED Headlights, Hyper Blinking May Occur If Used With Other Branded Aftermarket LED Lighting. For More Information Please Contact Us ) Quad-LED Projector Design With Amber Sequential'"
      ]
     },
     "execution_count": 10,
     "metadata": {},
     "output_type": "execute_result"
    }
   ],
   "source": [
    "description(test[0])"
   ]
  },
  {
   "cell_type": "code",
   "execution_count": 11,
   "id": "9f759bd2-7a7e-4c1a-80a0-e12470feca89",
   "metadata": {},
   "outputs": [],
   "source": [
    "model = SentenceTransformer('sentence-transformers/all-MiniLM-L6-v2')"
   ]
  },
  {
   "cell_type": "code",
   "execution_count": 12,
   "id": "e44dbd25-fb95-4b6b-bbbb-8da5fc817105",
   "metadata": {},
   "outputs": [],
   "source": [
    "def vector(item):\n",
    "    return model.encode([description(item)])"
   ]
  },
  {
   "cell_type": "code",
   "execution_count": 13,
   "id": "ffd5ee47-db5d-4263-b0d9-80d568c91341",
   "metadata": {},
   "outputs": [],
   "source": [
    "def find_similars(item):\n",
    "    results = collection.query(query_embeddings=vector(item).astype(float).tolist(), n_results=5)\n",
    "    documents = results['documents'][0][:]\n",
    "    prices = [m['price'] for m in results['metadatas'][0][:]]\n",
    "    return documents, prices"
   ]
  },
  {
   "cell_type": "code",
   "execution_count": 14,
   "id": "6f7b9ff9-fd90-4627-bb17-7c2f7bbd21f3",
   "metadata": {},
   "outputs": [
    {
     "name": "stdout",
     "output_type": "stream",
     "text": [
      "How much does this cost to the nearest dollar?\n",
      "\n",
      "Witonics Capacitor Replacement Kit for LG\n",
      "This capacitor replacement kit is used to repair the power and inverter board of your TV. The capacitors in this kit are of high quality to replace the failed ones on your board. Problems/symptoms of the failed capacitors pink dot/startup problems, slow startup, or after starting up, the picture starts to disappear, flickering of the TV screen, clicking noise or pound/power LED is on, however, no sound. 7 high-temperature capacitors, not including the large capacitors 7 inches solder wire (lead-free), 4 inches of solder wick General instructions are included Manufacturer Witonics, Brand Witonics, Is Discontinued No, Manufacturer Part Rank Automotive Soldering Parts & Accessories 5106,\n",
      "\n",
      "Price is $12.00\n"
     ]
    }
   ],
   "source": [
    "print(test[1].prompt)"
   ]
  },
  {
   "cell_type": "code",
   "execution_count": 15,
   "id": "ff1b2659-cc6b-47aa-a797-dd1cd3d1d6c3",
   "metadata": {},
   "outputs": [],
   "source": [
    "documents, prices = find_similars(test[1])"
   ]
  },
  {
   "cell_type": "code",
   "execution_count": 16,
   "id": "24756d4d-edac-41ce-bb80-c3b6f1cea7ee",
   "metadata": {},
   "outputs": [
    {
     "name": "stdout",
     "output_type": "stream",
     "text": [
      "To provide some context, here are some other items that might be similar to the item you need to estimate.\n",
      "\n",
      "Potentially related product:\n",
      "Witonics Capacitor Replacement Kit for Sharp\n",
      "This capacitor replacement kit is used to repair the power and inverter board of your TV. The capacitors in this kit are of high quality to replace the failed ones on your board. Problems/symptoms of the failed capacitors pink dot/startup problems, slow startup, or after starting up, the picture starts to disappear, flickering of the TV screen, clicking noise or pound/power LED is on, however, no sound. 11 high-temperature capacitors, not including the large capacitors 7 inches solder wire (lead-free), 4 inches of solder wick General instructions are included Manufacturer Witonics, Part Is Discontinued No, Shape Rectangular, Quantity 1, Rank Industrial & Scientific Soldering Parts & Accessories\n",
      "Price is $11.95\n",
      "\n",
      "Potentially related product:\n",
      "Witonics Capacitor Replacement Kit for Samsung LCD/Plasma TV with Desoldering Pump\n",
      "1000uF 10V (4 pieces) Green product part# 1000uF 25V (6 pieces) Green product part# 2200uF 10V (4 pieces) Green product part# 220uF 25V (1 piece) Green product part# Desoldering pump/solder sucker, soldering wick and wire Manufacturer Witonics, Brand Witonics, Weight 1.6 ounces, Dimensions 10.5 x 3 x 2 inches, model number Is Discontinued No, Manufacturer Part Rank Electronics Television Replacement Parts 380, Available June 19, 2013, Capacitance 1000 Microfar\n",
      "Price is $16.99\n",
      "\n",
      "Potentially related product:\n",
      "Replacement Capacitor for Carrier Hard Start Kit\n",
      "USA MADE REPLACEMENT CAP / Made in the U.S.A.! NOTE SAME CAPS AS the OEM Carrier which has a range of uf on the label with the SAME BMI # Model Number Specifications HD Start Capacitor with Resistor, uF (REPLACES uF) x 330 VAC, 50/60 Hz 100's of Additional Capacitors Available! USA Made Capacitor, Manufactured by BMI uF x 330 VAC HD Start Capacitor with Resistor EVERY CAPACITOR IS DYNAMICALLY TESTED PRIOR TO SHIPPING TO ENSURE IT IS TO SPEC Replaces / Supersedes Hard Start Capacitor, HD Capacitor, 324 - 389 uF Capacitors, UPC Code and other Brands with\n",
      "Price is $54.00\n",
      "\n",
      "Potentially related product:\n",
      "Replacement Remote Controller use for Panasonic TVs\n",
      "It's slim and sleek design makes it comfortable in the palm when being used. Best Choice for LCD/LED TV Series. Performance Stable. without setup. This Remote also Works for Panasonic Viera Plasma LCD HDTV We make this replacement for your lost remotes. take it for your Panasonic TVs. Operable distance more than 8 metres. Material ABS Material. Warranty 30 Days. Package 1 x Remote controller We test every remote before shipment. Well, If the remote you receive has a problem, Just feel free to contact us. Dimensions 0.5 x 2 x 8 inches, Weight 3.56 ounces, Manufacturer BOMAZ, Country of Origin Papua New Guinea, Batteries 2 AA batteries required., Rank Electronics Remote\n",
      "Price is $12.95\n",
      "\n",
      "Potentially related product:\n",
      "WATOMAN Assembly Original Replacement Lamp with Housing for PANASONIC Projectors\n",
      "WATOMAN Obligation We are a professional projector lamp supplier for varity series, who's working in this area for years.We only serve High Quality and Original module lamps for customers. WATOMAN Warranty We provide 30 days refund without any reason, and 180 days warranty for any reason customer want to exchange. Compatible Models Panasonic Assembly Genuine Original Blub with Complete Housing(Professional Series) Fit for PANASONIC Projectors Bulb Characters Lamp Power 220w hrs Lifetime usage; Easy Installation; Brightness Performance Guarantee 30 days Refund and 180 days replacement warranty. Brand WATOMAN, Wattage 220 watts, Specific Uses For Product Lamp, Unit Count 1.0 Count, s \n",
      "Price is $116.00\n",
      "\n",
      "\n"
     ]
    }
   ],
   "source": [
    "print(make_context(documents, prices))"
   ]
  },
  {
   "cell_type": "code",
   "execution_count": 18,
   "id": "0b81eca2-0b58-4fe8-9dd6-47f13ba5f8ee",
   "metadata": {},
   "outputs": [
    {
     "name": "stdout",
     "output_type": "stream",
     "text": [
      "[{'content': 'You estimate prices of items. Reply only with the price, no '\n",
      "             'explanation',\n",
      "  'role': 'system'},\n",
      " {'content': 'To provide some context, here are some other items that might be '\n",
      "             'similar to the item you need to estimate.\\n'\n",
      "             '\\n'\n",
      "             'Potentially related product:\\n'\n",
      "             'Witonics Capacitor Replacement Kit for Sharp\\n'\n",
      "             'This capacitor replacement kit is used to repair the power and '\n",
      "             'inverter board of your TV. The capacitors in this kit are of '\n",
      "             'high quality to replace the failed ones on your board. '\n",
      "             'Problems/symptoms of the failed capacitors pink dot/startup '\n",
      "             'problems, slow startup, or after starting up, the picture starts '\n",
      "             'to disappear, flickering of the TV screen, clicking noise or '\n",
      "             'pound/power LED is on, however, no sound. 11 high-temperature '\n",
      "             'capacitors, not including the large capacitors 7 inches solder '\n",
      "             'wire (lead-free), 4 inches of solder wick General instructions '\n",
      "             'are included Manufacturer Witonics, Part Is Discontinued No, '\n",
      "             'Shape Rectangular, Quantity 1, Rank Industrial & Scientific '\n",
      "             'Soldering Parts & Accessories\\n'\n",
      "             'Price is $11.95\\n'\n",
      "             '\\n'\n",
      "             'Potentially related product:\\n'\n",
      "             'Witonics Capacitor Replacement Kit for Samsung LCD/Plasma TV '\n",
      "             'with Desoldering Pump\\n'\n",
      "             '1000uF 10V (4 pieces) Green product part# 1000uF 25V (6 pieces) '\n",
      "             'Green product part# 2200uF 10V (4 pieces) Green product part# '\n",
      "             '220uF 25V (1 piece) Green product part# Desoldering pump/solder '\n",
      "             'sucker, soldering wick and wire Manufacturer Witonics, Brand '\n",
      "             'Witonics, Weight 1.6 ounces, Dimensions 10.5 x 3 x 2 inches, '\n",
      "             'model number Is Discontinued No, Manufacturer Part Rank '\n",
      "             'Electronics Television Replacement Parts 380, Available June 19, '\n",
      "             '2013, Capacitance 1000 Microfar\\n'\n",
      "             'Price is $16.99\\n'\n",
      "             '\\n'\n",
      "             'Potentially related product:\\n'\n",
      "             'Replacement Capacitor for Carrier Hard Start Kit\\n'\n",
      "             'USA MADE REPLACEMENT CAP / Made in the U.S.A.! NOTE SAME CAPS AS '\n",
      "             'the OEM Carrier which has a range of uf on the label with the '\n",
      "             'SAME BMI # Model Number Specifications HD Start Capacitor with '\n",
      "             \"Resistor, uF (REPLACES uF) x 330 VAC, 50/60 Hz 100's of \"\n",
      "             'Additional Capacitors Available! USA Made Capacitor, '\n",
      "             'Manufactured by BMI uF x 330 VAC HD Start Capacitor with '\n",
      "             'Resistor EVERY CAPACITOR IS DYNAMICALLY TESTED PRIOR TO SHIPPING '\n",
      "             'TO ENSURE IT IS TO SPEC Replaces / Supersedes Hard Start '\n",
      "             'Capacitor, HD Capacitor, 324 - 389 uF Capacitors, UPC Code and '\n",
      "             'other Brands with\\n'\n",
      "             'Price is $54.00\\n'\n",
      "             '\\n'\n",
      "             'Potentially related product:\\n'\n",
      "             'Replacement Remote Controller use for Panasonic TVs\\n'\n",
      "             \"It's slim and sleek design makes it comfortable in the palm when \"\n",
      "             'being used. Best Choice for LCD/LED TV Series. Performance '\n",
      "             'Stable. without setup. This Remote also Works for Panasonic '\n",
      "             'Viera Plasma LCD HDTV We make this replacement for your lost '\n",
      "             'remotes. take it for your Panasonic TVs. Operable distance more '\n",
      "             'than 8 metres. Material ABS Material. Warranty 30 Days. Package '\n",
      "             '1 x Remote controller We test every remote before shipment. '\n",
      "             'Well, If the remote you receive has a problem, Just feel free to '\n",
      "             'contact us. Dimensions 0.5 x 2 x 8 inches, Weight 3.56 ounces, '\n",
      "             'Manufacturer BOMAZ, Country of Origin Papua New Guinea, '\n",
      "             'Batteries 2 AA batteries required., Rank Electronics Remote\\n'\n",
      "             'Price is $12.95\\n'\n",
      "             '\\n'\n",
      "             'Potentially related product:\\n'\n",
      "             'WATOMAN Assembly Original Replacement Lamp with Housing for '\n",
      "             'PANASONIC Projectors\\n'\n",
      "             'WATOMAN Obligation We are a professional projector lamp supplier '\n",
      "             \"for varity series, who's working in this area for years.We only \"\n",
      "             'serve High Quality and Original module lamps for customers. '\n",
      "             'WATOMAN Warranty We provide 30 days refund without any reason, '\n",
      "             'and 180 days warranty for any reason customer want to exchange. '\n",
      "             'Compatible Models Panasonic Assembly Genuine Original Blub with '\n",
      "             'Complete Housing(Professional Series) Fit for PANASONIC '\n",
      "             'Projectors Bulb Characters Lamp Power 220w hrs Lifetime usage; '\n",
      "             'Easy Installation; Brightness Performance Guarantee 30 days '\n",
      "             'Refund and 180 days replacement warranty. Brand WATOMAN, Wattage '\n",
      "             '220 watts, Specific Uses For Product Lamp, Unit Count 1.0 Count, '\n",
      "             's \\n'\n",
      "             'Price is $116.00\\n'\n",
      "             '\\n'\n",
      "             'And now the question for you:\\n'\n",
      "             '\\n'\n",
      "             'How much does this cost?\\n'\n",
      "             '\\n'\n",
      "             'Witonics Capacitor Replacement Kit for LG\\n'\n",
      "             'This capacitor replacement kit is used to repair the power and '\n",
      "             'inverter board of your TV. The capacitors in this kit are of '\n",
      "             'high quality to replace the failed ones on your board. '\n",
      "             'Problems/symptoms of the failed capacitors pink dot/startup '\n",
      "             'problems, slow startup, or after starting up, the picture starts '\n",
      "             'to disappear, flickering of the TV screen, clicking noise or '\n",
      "             'pound/power LED is on, however, no sound. 7 high-temperature '\n",
      "             'capacitors, not including the large capacitors 7 inches solder '\n",
      "             'wire (lead-free), 4 inches of solder wick General instructions '\n",
      "             'are included Manufacturer Witonics, Brand Witonics, Is '\n",
      "             'Discontinued No, Manufacturer Part Rank Automotive Soldering '\n",
      "             'Parts & Accessories 5106,',\n",
      "  'role': 'user'},\n",
      " {'content': 'Price is $', 'role': 'assistant'}]\n"
     ]
    }
   ],
   "source": [
    "from pprint import pprint\n",
    "pprint(messages_for(test[1], documents, prices))"
   ]
  },
  {
   "cell_type": "code",
   "execution_count": 19,
   "id": "d11f1c8d-7480-4d64-a274-b030d701f1b8",
   "metadata": {},
   "outputs": [],
   "source": [
    "def get_price(s):\n",
    "    s = s.replace('$','').replace(',','')\n",
    "    match = re.search(r\"[-+]?\\d*\\.\\d+|\\d+\", s)\n",
    "    return float(match.group()) if match else 0"
   ]
  },
  {
   "cell_type": "code",
   "execution_count": 20,
   "id": "06743833-c362-47f8-b02a-139be2cd52ab",
   "metadata": {},
   "outputs": [
    {
     "data": {
      "text/plain": [
       "99.99"
      ]
     },
     "execution_count": 20,
     "metadata": {},
     "output_type": "execute_result"
    }
   ],
   "source": [
    "get_price(\"The price for this is $99.99\")"
   ]
  },
  {
   "cell_type": "code",
   "execution_count": 21,
   "id": "a919cf7d-b3d3-4968-8c96-54a0da0b0219",
   "metadata": {},
   "outputs": [],
   "source": [
    "# The function for gpt-4o-mini\n",
    "\n",
    "def gpt_4o_mini_rag(item):\n",
    "    documents, prices = find_similars(item)\n",
    "    response = openai.chat.completions.create(\n",
    "        model=\"gpt-4o-mini\", \n",
    "        messages=messages_for(item, documents, prices),\n",
    "        seed=42,\n",
    "        max_tokens=5\n",
    "    )\n",
    "    reply = response.choices[0].message.content\n",
    "    return get_price(reply)"
   ]
  },
  {
   "cell_type": "code",
   "execution_count": 22,
   "id": "3e519e26-ff15-4425-90bb-bfbf55deb39b",
   "metadata": {},
   "outputs": [
    {
     "data": {
      "text/plain": [
       "11.95"
      ]
     },
     "execution_count": 22,
     "metadata": {},
     "output_type": "execute_result"
    }
   ],
   "source": [
    "gpt_4o_mini_rag(test[1])"
   ]
  },
  {
   "cell_type": "code",
   "execution_count": 23,
   "id": "ce78741b-2966-41d2-9831-cbf8f8d176be",
   "metadata": {},
   "outputs": [
    {
     "data": {
      "text/plain": [
       "11.95"
      ]
     },
     "execution_count": 23,
     "metadata": {},
     "output_type": "execute_result"
    }
   ],
   "source": [
    "test[1].price"
   ]
  },
  {
   "cell_type": "code",
   "execution_count": 24,
   "id": "16d90455-ff7d-4f5f-8b8c-8e061263d1c7",
   "metadata": {},
   "outputs": [
    {
     "name": "stdout",
     "output_type": "stream",
     "text": [
      "\u001b[92m1: Guess: $399.00 Truth: $389.00 Error: $10.00 SLE: 0.00 Item: TLAPS 7422444293245 Compatible With 2016...\u001b[0m\n",
      "\u001b[92m2: Guess: $11.95 Truth: $11.95 Error: $0.00 SLE: 0.00 Item: Witonics Capacitor Replacement Kit for L...\u001b[0m\n",
      "\u001b[92m3: Guess: $39.99 Truth: $57.99 Error: $18.00 SLE: 0.13 Item: EPSIRMP E5T62172 Mass Air Flow Meter Sen...\u001b[0m\n",
      "\u001b[92m4: Guess: $28.99 Truth: $32.99 Error: $4.00 SLE: 0.02 Item: 2 Pc 4 in 1 Double Box Ratcheting Wrench...\u001b[0m\n",
      "\u001b[92m5: Guess: $155.49 Truth: $136.94 Error: $18.55 SLE: 0.02 Item: Can-Am 2013-2018 Outlander 650 Outlander...\u001b[0m\n",
      "\u001b[92m6: Guess: $119.00 Truth: $116.10 Error: $2.90 SLE: 0.00 Item: OREI KVM 4K HDMI Over Ethernet Extender ...\u001b[0m\n",
      "\u001b[93m7: Guess: $183.92 Truth: $249.97 Error: $66.05 SLE: 0.09 Item: MAXLINER Custom Fit Floor Mats and Cargo...\u001b[0m\n",
      "\u001b[92m8: Guess: $114.95 Truth: $151.89 Error: $36.94 SLE: 0.08 Item: Alpinestars (474512-20-XS/S White X-Smal...\u001b[0m\n",
      "\u001b[92m9: Guess: $118.02 Truth: $110.99 Error: $7.03 SLE: 0.00 Item: SCITOO automotive replacement engine rad...\u001b[0m\n",
      "\u001b[91m10: Guess: $389.99 Truth: $218.78 Error: $171.21 SLE: 0.33 Item: SchaefflerLuK DMF066 Dual Mass Flywheel,...\u001b[0m\n",
      "\u001b[92m11: Guess: $109.99 Truth: $121.99 Error: $12.00 SLE: 0.01 Item: Smart Lock,CATCHFACE Fingerprint Door Lo...\u001b[0m\n",
      "\u001b[92m12: Guess: $479.95 Truth: $429.95 Error: $50.00 SLE: 0.01 Item: Zildjian A Series Mastersound Hi-Hat Cym...\u001b[0m\n",
      "\u001b[92m13: Guess: $129.99 Truth: $109.00 Error: $20.99 SLE: 0.03 Item: Hanging Cloud Light Kids Room Light Fixt...\u001b[0m\n",
      "\u001b[92m14: Guess: $5.99 Truth: $6.99 Error: $1.00 SLE: 0.02 Item: Anime Team Harmony Logo Vinyl Stickers S...\u001b[0m\n",
      "\u001b[92m15: Guess: $259.99 Truth: $243.65 Error: $16.34 SLE: 0.00 Item: TAC Running Boards Compatible with 2016-...\u001b[0m\n",
      "\u001b[92m16: Guess: $49.99 Truth: $62.99 Error: $13.00 SLE: 0.05 Item: DOKYW 10.2 inch iPad 9th 8th 7th Generat...\u001b[0m\n",
      "\u001b[92m17: Guess: $322.96 Truth: $322.96 Error: $0.00 SLE: 0.00 Item: Diode Dynamics SS3 LED Fog Light Kit com...\u001b[0m\n",
      "\u001b[92m18: Guess: $165.99 Truth: $152.27 Error: $13.72 SLE: 0.01 Item: Pingel Slim Line Switch Housing - Single...\u001b[0m\n",
      "\u001b[92m19: Guess: $49.99 Truth: $34.98 Error: $15.01 SLE: 0.12 Item: General Jim's Military Brick Building Se...\u001b[0m\n",
      "\u001b[92m20: Guess: $130.45 Truth: $118.46 Error: $11.99 SLE: 0.01 Item: 225/60R16 98H TOYO EXTENSA A/S II 620AA\u001b[0m\n",
      "\u001b[92m21: Guess: $8.99 Truth: $8.99 Error: $0.00 SLE: 0.00 Item: GDQLCNXB SMA Female to BNC Female Conver...\u001b[0m\n",
      "\u001b[91m22: Guess: $114.99 Truth: $511.26 Error: $396.27 SLE: 2.21 Item: Kohler K-15286-4RA-CP Coralais Vertical ...\u001b[0m\n",
      "\u001b[92m23: Guess: $163.72 Truth: $151.62 Error: $12.10 SLE: 0.01 Item: Ford Wiring ASY\u001b[0m\n",
      "\u001b[91m24: Guess: $257.20 Truth: $155.57 Error: $101.63 SLE: 0.25 Item: Orbi WiFi System (RBK43) AC2200\u001b[0m\n",
      "\u001b[92m25: Guess: $14.99 Truth: $13.99 Error: $1.00 SLE: 0.00 Item: Quick-Release Pocket Clip, Multi-Tool Po...\u001b[0m\n",
      "\u001b[93m26: Guess: $198.75 Truth: $294.08 Error: $95.33 SLE: 0.15 Item: RAREELECTRICAL New OSGR Starter Compatib...\u001b[0m\n",
      "\u001b[92m27: Guess: $39.99 Truth: $21.99 Error: $18.00 SLE: 0.33 Item: TV Antenna Amplified, HD Digital TV Ante...\u001b[0m\n",
      "\u001b[92m28: Guess: $99.00 Truth: $82.99 Error: $16.01 SLE: 0.03 Item: TestHelper TH-71B Handheld Signal Genera...\u001b[0m\n",
      "\u001b[92m29: Guess: $29.99 Truth: $24.99 Error: $5.00 SLE: 0.03 Item: Uncle Milton - Marvel Science - Ant-Man ...\u001b[0m\n",
      "\u001b[91m30: Guess: $290.45 Truth: $548.94 Error: $258.49 SLE: 0.40 Item: Dynamic Friction Company Front Rear GEOM...\u001b[0m\n",
      "\u001b[93m31: Guess: $289.95 Truth: $364.99 Error: $75.04 SLE: 0.05 Item: Oneway Stronghold Chuck Kit With #2 Jaws...\u001b[0m\n",
      "\u001b[93m32: Guess: $120.00 Truth: $164.00 Error: $44.00 SLE: 0.10 Item: Falken ZIEX ZE960 A/S All- Season Radial...\u001b[0m\n",
      "\u001b[92m33: Guess: $49.99 Truth: $26.99 Error: $23.00 SLE: 0.36 Item: Rechargeable LED Work Light, 2 COB 6000L...\u001b[0m\n",
      "\u001b[91m34: Guess: $135.00 Truth: $269.99 Error: $134.99 SLE: 0.48 Item: Asustek Computer M5a78l-m Plus Usb3 Am3+...\u001b[0m\n",
      "\u001b[92m35: Guess: $192.99 Truth: $214.99 Error: $22.00 SLE: 0.01 Item: APS Compatible with Ford F-250 F-350 F-4...\u001b[0m\n",
      "\u001b[92m36: Guess: $149.99 Truth: $129.99 Error: $20.00 SLE: 0.02 Item: 40X-1000X Binocular Microscope for Adult...\u001b[0m\n",
      "\u001b[92m37: Guess: $19.99 Truth: $12.99 Error: $7.00 SLE: 0.16 Item: SCRTB 12Pcs Mini Crystal Single Hole Kno...\u001b[0m\n",
      "\u001b[92m38: Guess: $221.84 Truth: $233.38 Error: $11.54 SLE: 0.00 Item: SAFAVIEH Lighting Collection Hana Butter...\u001b[0m\n",
      "\u001b[92m39: Guess: $649.99 Truth: $635.00 Error: $14.99 SLE: 0.00 Item: Intel NUC 12 Pro, Newest 12th Gen Core i...\u001b[0m\n",
      "\u001b[92m40: Guess: $60.75 Truth: $73.23 Error: $12.48 SLE: 0.03 Item: Pet Screen 54 Inch x 8 Ft Mayan Teal\u001b[0m\n",
      "\u001b[92m41: Guess: $179.95 Truth: $196.12 Error: $16.17 SLE: 0.01 Item: 12612397 Programmed Fits I4 V6 2007-2012...\u001b[0m\n",
      "\u001b[91m42: Guess: $629.00 Truth: $349.00 Error: $280.00 SLE: 0.35 Item: Magewell Eco Capture HDMI 4K M.2\u001b[0m\n",
      "\u001b[92m43: Guess: $89.95 Truth: $101.04 Error: $11.09 SLE: 0.01 Item: Intro-Tech HO-672-RT-B Hexomat Front and...\u001b[0m\n",
      "\u001b[91m44: Guess: $99.00 Truth: $241.21 Error: $142.21 SLE: 0.78 Item: Livex Lighting 5141-02 Cranford 1-Light ...\u001b[0m\n",
      "\u001b[93m45: Guess: $229.95 Truth: $173.95 Error: $56.00 SLE: 0.08 Item: Evergreen HSHBTBK5031 Head Gasket Set Ti...\u001b[0m\n",
      "\u001b[92m46: Guess: $49.99 Truth: $26.79 Error: $23.20 SLE: 0.37 Item: Funko Glow in The Dark Vault Boy (Fallou...\u001b[0m\n",
      "\u001b[92m47: Guess: $349.99 Truth: $329.99 Error: $20.00 SLE: 0.00 Item: Elgato 4K60 S+, External Capture Card, R...\u001b[0m\n",
      "\u001b[93m48: Guess: $139.99 Truth: $196.99 Error: $57.00 SLE: 0.12 Item: DNJ HGB970 Cylinder Head Gasket Set with...\u001b[0m\n",
      "\u001b[92m49: Guess: $163.00 Truth: $157.72 Error: $5.28 SLE: 0.00 Item: HEWQ6575A - HP Designjet Large Format In...\u001b[0m\n",
      "\u001b[92m50: Guess: $399.95 Truth: $399.95 Error: $0.00 SLE: 0.00 Item: DMD Pinstripe Acoustic Panel Wall Pack: ...\u001b[0m\n",
      "\u001b[92m51: Guess: $45.99 Truth: $84.90 Error: $38.91 SLE: 0.36 Item: Door Closer Lightweight Commercial Door ...\u001b[0m\n",
      "\u001b[92m52: Guess: $367.08 Truth: $352.44 Error: $14.64 SLE: 0.00 Item: PowerSport Front Rear Brakes and Rotors ...\u001b[0m\n",
      "\u001b[92m53: Guess: $99.99 Truth: $132.31 Error: $32.32 SLE: 0.08 Item: DEWALT 20V MAX Battery Pack with Charger...\u001b[0m\n",
      "\u001b[93m54: Guess: $419.00 Truth: $319.83 Error: $99.17 SLE: 0.07 Item: Lenovo Ideapad 310 - 15.6\" HD Display La...\u001b[0m\n",
      "\u001b[92m55: Guess: $238.36 Truth: $212.99 Error: $25.37 SLE: 0.01 Item: Lund 23879008 Black Steel 5\" Oval Curved...\u001b[0m\n",
      "\u001b[92m56: Guess: $529.99 Truth: $599.00 Error: $69.01 SLE: 0.01 Item: EVGA Z590 Dark, 121-RL-E599-KR, LGA 1200...\u001b[0m\n",
      "\u001b[93m57: Guess: $104.82 Truth: $62.75 Error: $42.07 SLE: 0.26 Item: EPIC LIGHTING AMXOE Replacement Rear Bra...\u001b[0m\n",
      "\u001b[92m58: Guess: $224.95 Truth: $224.95 Error: $0.00 SLE: 0.00 Item: GEORGE KOVACS P5954-077, Convex, 4 Light...\u001b[0m\n",
      "\u001b[93m59: Guess: $348.95 Truth: $262.12 Error: $86.83 SLE: 0.08 Item: Delta Faucet Trinsic 17 Series Dual-Func...\u001b[0m\n",
      "\u001b[93m60: Guess: $159.99 Truth: $118.39 Error: $41.60 SLE: 0.09 Item: 4K Digital Camera, AiTechny Vlogging Cam...\u001b[0m\n",
      "\u001b[92m61: Guess: $239.38 Truth: $209.95 Error: $29.43 SLE: 0.02 Item: Garage-Pro Cooling Fan Assembly for FORD...\u001b[0m\n",
      "\u001b[93m62: Guess: $114.99 Truth: $169.99 Error: $55.00 SLE: 0.15 Item: Logitech POP Keys Wireless Mechanical Ke...\u001b[0m\n",
      "\u001b[92m63: Guess: $259.00 Truth: $259.99 Error: $0.99 SLE: 0.00 Item: ECOTRIC Full Glass Windshield W/Wiper Co...\u001b[0m\n",
      "\u001b[91m64: Guess: $479.95 Truth: $979.20 Error: $499.25 SLE: 0.51 Item: Savoy House 36-329-FD-21 Air-Ionizing Fa...\u001b[0m\n",
      "\u001b[92m65: Guess: $9.99 Truth: $9.99 Error: $0.00 SLE: 0.00 Item: Devinal 6.35mm 1/4\" inch Stereo Plug Mal...\u001b[0m\n",
      "\u001b[92m66: Guess: $272.98 Truth: $272.98 Error: $0.00 SLE: 0.00 Item: Coverking Custom Fit Front 40/20/40 Seat...\u001b[0m\n",
      "\u001b[92m67: Guess: $169.00 Truth: $158.95 Error: $10.05 SLE: 0.00 Item: Milwaukee M18 BRUSHLESS 7-1/4\" CIRCULAR ...\u001b[0m\n",
      "\u001b[92m68: Guess: $113.19 Truth: $114.48 Error: $1.29 SLE: 0.00 Item: Central Brass 80868-Z Three Handle Tub a...\u001b[0m\n",
      "\u001b[92m69: Guess: $62.99 Truth: $54.48 Error: $8.51 SLE: 0.02 Item: CURT 56234 Vehicle-Side Custom 4-Pin Tra...\u001b[0m\n",
      "\u001b[92m70: Guess: $159.00 Truth: $142.13 Error: $16.87 SLE: 0.01 Item: Forrest CM08H606100 Chopmaster 8-1/2-Inc...\u001b[0m\n",
      "\u001b[92m71: Guess: $119.99 Truth: $149.99 Error: $30.00 SLE: 0.05 Item: iFilters 5 Stage Premium Reverse Osmosis...\u001b[0m\n",
      "\u001b[92m72: Guess: $69.99 Truth: $71.99 Error: $2.00 SLE: 0.00 Item: BRIO 33971 Smart Tech Sound Record & Pla...\u001b[0m\n",
      "\u001b[91m73: Guess: $427.41 Truth: $242.73 Error: $184.68 SLE: 0.32 Item: Pavement Ends by Bestop 51133-15 Black D...\u001b[0m\n",
      "\u001b[92m74: Guess: $149.99 Truth: $179.00 Error: $29.01 SLE: 0.03 Item: KidKraft Outdoor Covered Wooden Sandbox ...\u001b[0m\n",
      "\u001b[92m75: Guess: $125.00 Truth: $159.00 Error: $34.00 SLE: 0.06 Item: Original Mavic air intelligent Flight Ba...\u001b[0m\n",
      "\u001b[91m76: Guess: $327.50 Truth: $195.10 Error: $132.40 SLE: 0.27 Item: Bogen Amplifier - 40 W RMS - 2 Channel C...\u001b[0m\n",
      "\u001b[93m77: Guess: $223.23 Truth: $171.57 Error: $51.66 SLE: 0.07 Item: Resophonic Resonator Acoustic Electric G...\u001b[0m\n",
      "\u001b[92m78: Guess: $59.99 Truth: $74.95 Error: $14.96 SLE: 0.05 Item: Houseoftoners Replacement for HP64XL HP ...\u001b[0m\n",
      "\u001b[92m79: Guess: $149.00 Truth: $120.00 Error: $29.00 SLE: 0.05 Item: LEE DAN PK-543A 5-4-3 WIRE APARTMENT INT...\u001b[0m\n",
      "\u001b[92m80: Guess: $300.45 Truth: $284.70 Error: $15.75 SLE: 0.00 Item: Salsbury Industries 2265SP Slim Recessed...\u001b[0m\n",
      "\u001b[92m81: Guess: $289.99 Truth: $279.00 Error: $10.99 SLE: 0.00 Item: COOLINGBEST Bobcat 743 Radiator, 4 Row A...\u001b[0m\n",
      "\u001b[92m82: Guess: $137.00 Truth: $137.00 Error: $0.00 SLE: 0.00 Item: Car Seat Covers Fit for Ford Escape 2001...\u001b[0m\n",
      "\u001b[91m83: Guess: $34.99 Truth: $229.68 Error: $194.69 SLE: 3.45 Item: CARDFIGHT!! Vanguard Beginner set Blue V...\u001b[0m\n",
      "\u001b[91m84: Guess: $189.99 Truth: $66.99 Error: $123.00 SLE: 1.07 Item: CAIRE 4PK 11K&9K High Yield Compatible T...\u001b[0m\n",
      "\u001b[93m85: Guess: $209.99 Truth: $270.95 Error: $60.96 SLE: 0.06 Item: Coverking Custom Fit Front 50/50 Bucket ...\u001b[0m\n",
      "\u001b[92m86: Guess: $109.99 Truth: $99.99 Error: $10.00 SLE: 0.01 Item: John Timberland Willard Rustic Industria...\u001b[0m\n",
      "\u001b[92m87: Guess: $149.99 Truth: $139.95 Error: $10.04 SLE: 0.00 Item: Albinar 6.5mm f/3.5 HD Aspherical Fishey...\u001b[0m\n",
      "\u001b[92m88: Guess: $289.99 Truth: $259.22 Error: $30.77 SLE: 0.01 Item: A.O. Smith B2848 1 HP, 3450 RPM, 1 Speed...\u001b[0m\n",
      "\u001b[93m89: Guess: $199.99 Truth: $149.00 Error: $50.99 SLE: 0.09 Item: RV Door Window CloZures Shade, Controls ...\u001b[0m\n",
      "\u001b[92m90: Guess: $225.00 Truth: $278.99 Error: $53.99 SLE: 0.05 Item: FXR Torque X Team Snowmobile Helmet E Sh...\u001b[0m\n",
      "\u001b[93m91: Guess: $288.27 Truth: $377.26 Error: $88.99 SLE: 0.07 Item: Cardone 26-3023 Remanufactured Hydraulic...\u001b[0m\n",
      "\u001b[92m92: Guess: $210.00 Truth: $193.98 Error: $16.02 SLE: 0.01 Item: Hyundai Motors Genuine 863502S500GAL Fro...\u001b[0m\n",
      "\u001b[92m93: Guess: $138.95 Truth: $137.87 Error: $1.08 SLE: 0.00 Item: Kool Vue Mirror Compatible with 2015-201...\u001b[0m\n",
      "\u001b[92m94: Guess: $249.99 Truth: $250.00 Error: $0.01 SLE: 0.00 Item: kathy ireland Spotlight Arc Adjustable H...\u001b[0m\n",
      "\u001b[92m95: Guess: $8.99 Truth: $40.99 Error: $32.00 SLE: 2.06 Item: Takaratomy Beyblade Burst B-69 Booster J...\u001b[0m\n",
      "\u001b[92m96: Guess: $277.03 Truth: $240.55 Error: $36.48 SLE: 0.02 Item: DELTA FAUCET 1960-AR-DST Traditional Bev...\u001b[0m\n",
      "\u001b[92m97: Guess: $29.99 Truth: $35.99 Error: $6.00 SLE: 0.03 Item: 120W 19.5V 6.15A Power Supply Cord Compa...\u001b[0m\n",
      "\u001b[92m98: Guess: $59.99 Truth: $40.99 Error: $19.00 SLE: 0.14 Item: Language Translator, Translate 40 Langua...\u001b[0m\n",
      "\u001b[92m99: Guess: $206.72 Truth: $194.23 Error: $12.49 SLE: 0.00 Item: BILSTEIN 5100 FRONT SHOCK SET FOR 1999-2...\u001b[0m\n",
      "\u001b[91m100: Guess: $849.00 Truth: $599.95 Error: $249.05 SLE: 0.12 Item: Magnavox ZV427MG9 DVD Recorder/VCR Combo...\u001b[0m\n",
      "\u001b[92m101: Guess: $169.99 Truth: $197.99 Error: $28.00 SLE: 0.02 Item: Power Stop AR8571XPR Rear Evolution Dril...\u001b[0m\n",
      "\u001b[92m102: Guess: $257.99 Truth: $241.91 Error: $16.08 SLE: 0.00 Item: Wild 1 Black 12-1/2\" Chubby Bagger Ape H...\u001b[0m\n",
      "\u001b[92m103: Guess: $129.99 Truth: $139.99 Error: $10.00 SLE: 0.01 Item: for 2007-2013 Toyota FJ Cruiser Radio, R...\u001b[0m\n",
      "\u001b[92m104: Guess: $159.00 Truth: $149.00 Error: $10.00 SLE: 0.00 Item: Luna Guitars Artist Vintage Distressed C...\u001b[0m\n",
      "\u001b[93m105: Guess: $650.99 Truth: $520.99 Error: $130.00 SLE: 0.05 Item: MBI AUTO - Chrome, Steel Front Bumper Fa...\u001b[0m\n",
      "\u001b[92m106: Guess: $66.73 Truth: $74.95 Error: $8.22 SLE: 0.01 Item: Upgraded Lifetime Appliance 240351207 Lo...\u001b[0m\n",
      "\u001b[93m107: Guess: $149.99 Truth: $193.15 Error: $43.16 SLE: 0.06 Item: Replacement Part For 01-07 Town & Countr...\u001b[0m\n",
      "\u001b[92m108: Guess: $529.99 Truth: $574.94 Error: $44.95 SLE: 0.01 Item: AT-1000PROII LDG Electronics Automatic A...\u001b[0m\n",
      "\u001b[92m109: Guess: $197.40 Truth: $195.20 Error: $2.20 SLE: 0.00 Item: Progress Lighting Parkhurst Collection B...\u001b[0m\n",
      "\u001b[92m110: Guess: $24.99 Truth: $32.95 Error: $7.96 SLE: 0.07 Item: Nozlen Protective Case Toys Compatible w...\u001b[0m\n",
      "\u001b[92m111: Guess: $599.95 Truth: $589.95 Error: $10.00 SLE: 0.00 Item: Rough Country 3\" Lift Kit for 2001-2010 ...\u001b[0m\n",
      "\u001b[92m112: Guess: $199.99 Truth: $246.53 Error: $46.54 SLE: 0.04 Item: Wacom Intuos CTH-680/S3 New 2015 Model (...\u001b[0m\n",
      "\u001b[92m113: Guess: $164.99 Truth: $163.09 Error: $1.90 SLE: 0.00 Item: Dorman 56318 Driver Side Heated Door Mir...\u001b[0m\n",
      "\u001b[92m114: Guess: $137.00 Truth: $134.95 Error: $2.05 SLE: 0.00 Item: US Stove 80473 Exhaust Blower\u001b[0m\n",
      "\u001b[92m115: Guess: $209.99 Truth: $209.99 Error: $0.00 SLE: 0.00 Item: 2014 Yamaha Yamaha PAC012 Pacifica Elect...\u001b[0m\n",
      "\u001b[91m116: Guess: $12.99 Truth: $97.49 Error: $84.50 SLE: 3.81 Item: Funko Pop Games: Mortal Combat - Kitana ...\u001b[0m\n",
      "\u001b[92m117: Guess: $6.99 Truth: $5.99 Error: $1.00 SLE: 0.02 Item: a6400 Screen Protector|Tempered Glass Sc...\u001b[0m\n",
      "\u001b[92m118: Guess: $698.00 Truth: $718.00 Error: $20.00 SLE: 0.00 Item: Savoy House 1-323-3-322 Townsend 3-Light...\u001b[0m\n",
      "\u001b[92m119: Guess: $69.95 Truth: $41.99 Error: $27.96 SLE: 0.25 Item: Edelbrock 4025 Uni-Syn Carburetor Balanc...\u001b[0m\n",
      "\u001b[92m120: Guess: $39.99 Truth: $30.99 Error: $9.00 SLE: 0.06 Item: TITUS Slim-line Earmuffs and Safety Glas...\u001b[0m\n",
      "\u001b[92m121: Guess: $874.00 Truth: $976.00 Error: $102.00 SLE: 0.01 Item: MagnaFlow Cat-Back Performance Exhaust S...\u001b[0m\n",
      "\u001b[93m122: Guess: $364.87 Truth: $588.84 Error: $223.97 SLE: 0.23 Item: Elkay ELUH3221L Lustertone Classic Offse...\u001b[0m\n",
      "\u001b[93m123: Guess: $199.99 Truth: $259.29 Error: $59.30 SLE: 0.07 Item: Rear Diffuser Compatible with 2017-2019 ...\u001b[0m\n",
      "\u001b[92m124: Guess: $34.99 Truth: $59.99 Error: $25.00 SLE: 0.28 Item: Sixty61 Gel Hand Grips for Yamaha R1 Bla...\u001b[0m\n",
      "\u001b[92m125: Guess: $125.00 Truth: $90.80 Error: $34.20 SLE: 0.10 Item: Dawn LBE240304 Brisbane River Series Lin...\u001b[0m\n",
      "\u001b[92m126: Guess: $91.32 Truth: $103.84 Error: $12.52 SLE: 0.02 Item: Aqua-Pure - 5610428 Under Sink Full Flow...\u001b[0m\n",
      "\u001b[92m127: Guess: $392.99 Truth: $339.99 Error: $53.00 SLE: 0.02 Item: Dell Gaming PC OptiPlex 3040 Tower Deskt...\u001b[0m\n",
      "\u001b[93m128: Guess: $109.95 Truth: $163.26 Error: $53.31 SLE: 0.15 Item: Gates Engine Water Pump compatible with ...\u001b[0m\n",
      "\u001b[92m129: Guess: $168.09 Truth: $158.29 Error: $9.80 SLE: 0.00 Item: Coverking Custom Fit Front 50/50 Bucket ...\u001b[0m\n",
      "\u001b[92m130: Guess: $99.00 Truth: $89.00 Error: $10.00 SLE: 0.01 Item: Behringer Ultrapatch Pro PX3000 48-point...\u001b[0m\n",
      "\u001b[93m131: Guess: $149.99 Truth: $219.00 Error: $69.01 SLE: 0.14 Item: HP Officejet Pro 8028 All-in-One Printer...\u001b[0m\n",
      "\u001b[92m132: Guess: $79.00 Truth: $89.99 Error: $10.99 SLE: 0.02 Item: MZIPLINE Large Laptop Backpack Bag - Sme...\u001b[0m\n",
      "\u001b[91m133: Guess: $109.99 Truth: $277.78 Error: $167.79 SLE: 0.85 Item: Optex BX-80NR BoudaryGard Outdoor Perime...\u001b[0m\n",
      "\u001b[92m134: Guess: $379.99 Truth: $399.99 Error: $20.00 SLE: 0.00 Item: Canon EF-S 18-135mm f/3.5-5.6 is STM\u001b[0m\n",
      "\u001b[93m135: Guess: $49.00 Truth: $125.65 Error: $76.65 SLE: 0.86 Item: D&D Replicas of The Realms: Daern's Inst...\u001b[0m\n",
      "\u001b[91m136: Guess: $108.00 Truth: $223.50 Error: $115.50 SLE: 0.52 Item: Rohl 735TCB Kitchen Accessories, Tuscan ...\u001b[0m\n",
      "\u001b[92m137: Guess: $51.99 Truth: $42.85 Error: $9.14 SLE: 0.04 Item: Brewster 75-62942 Damasks Miniature Ogee...\u001b[0m\n",
      "\u001b[93m138: Guess: $139.99 Truth: $99.99 Error: $40.00 SLE: 0.11 Item: Sonnet Tempo SSD 6Gb/s SATA PCIe 2.5\" SS...\u001b[0m\n",
      "\u001b[92m139: Guess: $703.10 Truth: $774.75 Error: $71.65 SLE: 0.01 Item: Iwata Supernova Compliant WS400 Evotech ...\u001b[0m\n",
      "\u001b[93m140: Guess: $194.90 Truth: $315.00 Error: $120.10 SLE: 0.23 Item: 621642 - Intertherm OEM Replacement Furn...\u001b[0m\n",
      "\u001b[92m141: Guess: $170.00 Truth: $179.95 Error: $9.95 SLE: 0.00 Item: Medicom Godzilla: Vinyl Wars - First God...\u001b[0m\n",
      "\u001b[92m142: Guess: $295.99 Truth: $360.99 Error: $65.00 SLE: 0.04 Item: Quoizel NY1180K Newbury Outdoor Pendant ...\u001b[0m\n",
      "\u001b[93m143: Guess: $75.99 Truth: $131.44 Error: $55.45 SLE: 0.29 Item: Magneti Marelli 1AMSW00058 Spark Plug Wi...\u001b[0m\n",
      "\u001b[92m144: Guess: $647.99 Truth: $611.99 Error: $36.00 SLE: 0.00 Item: Performance Accessories, Dodge Dakota Ga...\u001b[0m\n",
      "\u001b[93m145: Guess: $101.32 Truth: $153.89 Error: $52.57 SLE: 0.17 Item: Progress Lighting P5767-31 Roman Coach O...\u001b[0m\n",
      "\u001b[93m146: Guess: $210.00 Truth: $279.99 Error: $69.99 SLE: 0.08 Item: Ridler Style 695 695 Chrome Wheel (18x8\"...\u001b[0m\n",
      "\u001b[92m147: Guess: $68.99 Truth: $71.03 Error: $2.04 SLE: 0.00 Item: Don-Jo 90 Metal Kick Plate, Brass Tone F...\u001b[0m\n",
      "\u001b[93m148: Guess: $127.98 Truth: $81.59 Error: $46.39 SLE: 0.20 Item: LD Compatible Toner Cartridge Replacemen...\u001b[0m\n",
      "\u001b[91m149: Guess: $248.99 Truth: $790.05 Error: $541.06 SLE: 1.33 Item: TOTO TEL5GS10#CP Brass Std Ecofaucet 1.0...\u001b[0m\n",
      "\u001b[92m150: Guess: $47.99 Truth: $59.28 Error: $11.29 SLE: 0.04 Item: Gedy 3870-13 Towel Ring, 1.15\" L x 7.87\"...\u001b[0m\n",
      "\u001b[93m151: Guess: $215.30 Truth: $276.21 Error: $60.91 SLE: 0.06 Item: HS Power Black Finished Class 3 Trailer ...\u001b[0m\n",
      "\u001b[92m152: Guess: $600.45 Truth: $534.96 Error: $65.49 SLE: 0.01 Item: Arnott P-2469 WABCO Air Suspension Compr...\u001b[0m\n",
      "\u001b[92m153: Guess: $254.98 Truth: $270.87 Error: $15.89 SLE: 0.00 Item: SMARTLINER Custom Fit Floor Mats 3 Rows ...\u001b[0m\n",
      "\u001b[92m154: Guess: $56.99 Truth: $72.99 Error: $16.00 SLE: 0.06 Item: HWW New 11.1V 62Wh 5500mAh N950BAT-6 Bat...\u001b[0m\n",
      "\u001b[93m155: Guess: $310.50 Truth: $432.41 Error: $121.91 SLE: 0.11 Item: PIRELLI Scorpion Zero 295/40R21 XL 111V ...\u001b[0m\n",
      "\u001b[92m156: Guess: $209.99 Truth: $204.99 Error: $5.00 SLE: 0.00 Item: Power Stop K1382 Front Z23 Carbon Fiber ...\u001b[0m\n",
      "\u001b[92m157: Guess: $75.99 Truth: $79.99 Error: $4.00 SLE: 0.00 Item: Enhance ENP-7025B 250W 1U PFC 80Plus RoH...\u001b[0m\n",
      "\u001b[92m158: Guess: $95.00 Truth: $125.00 Error: $30.00 SLE: 0.07 Item: NUTONE ISA335WH 5\" Interior Speaker\u001b[0m\n",
      "\u001b[92m159: Guess: $590.75 Truth: $570.35 Error: $20.40 SLE: 0.00 Item: Access 22179 Limited Edition Roll-Up Ton...\u001b[0m\n",
      "\u001b[92m160: Guess: $433.50 Truth: $433.50 Error: $0.00 SLE: 0.00 Item: Access 92289 Vanish Tonneau Cover\u001b[0m\n",
      "\u001b[92m161: Guess: $690.00 Truth: $695.00 Error: $5.00 SLE: 0.00 Item: Mustang Ultra Regal Studded Touring Seat...\u001b[0m\n",
      "\u001b[92m162: Guess: $149.00 Truth: $137.38 Error: $11.62 SLE: 0.01 Item: OK-5127h 20-Inch Classy Crystal Ceiling ...\u001b[0m\n",
      "\u001b[93m163: Guess: $179.00 Truth: $109.00 Error: $70.00 SLE: 0.24 Item: Ultimate Office Tierdrop Desktop Organiz...\u001b[0m\n",
      "\u001b[92m164: Guess: $24.99 Truth: $18.99 Error: $6.00 SLE: 0.07 Item: FIEWESEY Case for Samsung Galaxy Tab S6 ...\u001b[0m\n",
      "\u001b[92m165: Guess: $329.99 Truth: $299.95 Error: $30.04 SLE: 0.01 Item: Pocket Radar Ball Coach Pro-Level Speed ...\u001b[0m\n",
      "\u001b[92m166: Guess: $6.99 Truth: $3.19 Error: $3.80 SLE: 0.42 Item: E&S Pets BM-67 Dog Bookmark\u001b[0m\n",
      "\u001b[93m167: Guess: $299.99 Truth: $239.00 Error: $60.99 SLE: 0.05 Item: MWIDCIEW Drop In Kitchen Sink Gunmetal G...\u001b[0m\n",
      "\u001b[92m168: Guess: $249.99 Truth: $293.99 Error: $44.00 SLE: 0.03 Item: J2 Engineering J2-CBE-OS-067 Muffler Cat...\u001b[0m\n",
      "\u001b[93m169: Guess: $249.00 Truth: $369.00 Error: $120.00 SLE: 0.15 Item: Milwaukee 2646-22CT M18 2-Spd Grease Gun...\u001b[0m\n",
      "\u001b[92m170: Guess: $49.99 Truth: $45.00 Error: $4.99 SLE: 0.01 Item: AroundSquare Knucklebone Modular - Begle...\u001b[0m\n",
      "\u001b[93m171: Guess: $229.99 Truth: $155.03 Error: $74.96 SLE: 0.15 Item: LOG BARN Farmhouse Chandelier for Dining...\u001b[0m\n",
      "\u001b[91m172: Guess: $99.99 Truth: $277.15 Error: $177.16 SLE: 1.03 Item: HexArmor Leather Tactical Enforcement Gl...\u001b[0m\n",
      "\u001b[92m173: Guess: $17.99 Truth: $17.99 Error: $0.00 SLE: 0.00 Item: iPhone 11 Retro Liquid Swirl Abstract Gr...\u001b[0m\n",
      "\u001b[93m174: Guess: $139.99 Truth: $186.99 Error: $47.00 SLE: 0.08 Item: GUGU BTC-S37 Mining Motherboard, Mining ...\u001b[0m\n",
      "\u001b[92m175: Guess: $170.45 Truth: $176.52 Error: $6.07 SLE: 0.00 Item: Detroit Axle - Complete Power Steering R...\u001b[0m\n",
      "\u001b[93m176: Guess: $149.99 Truth: $94.00 Error: $55.99 SLE: 0.21 Item: Geyser GF46-S Andorra Series Stainless S...\u001b[0m\n",
      "\u001b[92m177: Guess: $62.99 Truth: $81.95 Error: $18.96 SLE: 0.07 Item: BEAUTY'S CASTLE DIY Valencia Coastal Vil...\u001b[0m\n",
      "\u001b[93m178: Guess: $239.99 Truth: $162.01 Error: $77.98 SLE: 0.15 Item: Hellwig 991 EZ Level Helper Spring Kit\u001b[0m\n",
      "\u001b[92m179: Guess: $49.99 Truth: $72.00 Error: $22.01 SLE: 0.13 Item: HP iPAQ FA121A#AC3 Compact Flash Card Ex...\u001b[0m\n",
      "\u001b[93m180: Guess: $126.99 Truth: $186.71 Error: $59.72 SLE: 0.15 Item: Pertronix 1143P12 12 Volt Positive Groun...\u001b[0m\n",
      "\u001b[93m181: Guess: $88.45 Truth: $48.00 Error: $40.45 SLE: 0.36 Item: Limeink Compatible Toner Cartridge Repla...\u001b[0m\n",
      "\u001b[91m182: Guess: $262.85 Truth: $134.91 Error: $127.94 SLE: 0.44 Item: Kotobukiya G.I. Joe A Real American Hero...\u001b[0m\n",
      "\u001b[93m183: Guess: $218.99 Truth: $168.00 Error: $50.99 SLE: 0.07 Item: 2 Inch Class 3 Tow Trailer Hitch Receive...\u001b[0m\n",
      "\u001b[92m184: Guess: $293.22 Truth: $278.18 Error: $15.04 SLE: 0.00 Item: RAMPAGE PRODUCTS Trail Fender Flares | 4...\u001b[0m\n",
      "\u001b[91m185: Guess: $149.99 Truth: $67.99 Error: $82.00 SLE: 0.61 Item: Quoizel BLA1505MBK Blanche Pendant, 1-Li...\u001b[0m\n",
      "\u001b[92m186: Guess: $39.99 Truth: $42.99 Error: $3.00 SLE: 0.00 Item: rockspace WiFi Extenders Signal Booster ...\u001b[0m\n",
      "\u001b[93m187: Guess: $169.99 Truth: $129.00 Error: $40.99 SLE: 0.08 Item: Huawei Y9 2018 FLA-LX3 5.93\" HiSilicon K...\u001b[0m\n",
      "\u001b[92m188: Guess: $199.99 Truth: $194.95 Error: $5.04 SLE: 0.00 Item: Trail Ridge Towing Mirror Manual Texture...\u001b[0m\n",
      "\u001b[92m189: Guess: $49.95 Truth: $43.03 Error: $6.92 SLE: 0.02 Item: FastCap - Hands Free Upright Kiss Clamp ...\u001b[0m\n",
      "\u001b[92m190: Guess: $25.99 Truth: $18.95 Error: $7.04 SLE: 0.09 Item: Skinomi Brushed Aluminum Full Body Skin ...\u001b[0m\n",
      "\u001b[92m191: Guess: $30.99 Truth: $39.99 Error: $9.00 SLE: 0.06 Item: Nutone BPP3FA30 Charcoal Air Filter, 4\",...\u001b[0m\n",
      "\u001b[93m192: Guess: $149.99 Truth: $243.32 Error: $93.33 SLE: 0.23 Item: Vibrant (10305) 1.875\" x 2.5\" Outer Diam...\u001b[0m\n",
      "\u001b[92m193: Guess: $29.99 Truth: $18.99 Error: $11.00 SLE: 0.19 Item: Double Window Security Business Envelope...\u001b[0m\n",
      "\u001b[92m194: Guess: $295.51 Truth: $273.06 Error: $22.45 SLE: 0.01 Item: Total Power Parts 410-44131 Starter Comp...\u001b[0m\n",
      "\u001b[92m195: Guess: $97.42 Truth: $78.90 Error: $18.52 SLE: 0.04 Item: ES Robbins Natural Origins Chair Mat for...\u001b[0m\n",
      "\u001b[93m196: Guess: $209.99 Truth: $144.47 Error: $65.52 SLE: 0.14 Item: Little Tikes Ultimate Cook Kitchen\u001b[0m\n",
      "\u001b[93m197: Guess: $64.99 Truth: $109.99 Error: $45.00 SLE: 0.27 Item: Constructive Playthings Retro Steel Gas ...\u001b[0m\n",
      "\u001b[92m198: Guess: $162.49 Truth: $176.04 Error: $13.55 SLE: 0.01 Item: Max Advanced Brakes Premium OE (Original...\u001b[0m\n",
      "\u001b[93m199: Guess: $95.50 Truth: $39.99 Error: $55.51 SLE: 0.73 Item: 41-962 41962 19299585 Spark Plugs 9748HH...\u001b[0m\n",
      "\u001b[93m200: Guess: $129.99 Truth: $80.20 Error: $49.79 SLE: 0.23 Item: Texas Instruments TI-84 Plus Silver Grap...\u001b[0m\n",
      "\u001b[92m201: Guess: $164.99 Truth: $170.99 Error: $6.00 SLE: 0.00 Item: Men's Buffalo Hide Leather Motorcycle ja...\u001b[0m\n",
      "\u001b[92m202: Guess: $489.00 Truth: $424.00 Error: $65.00 SLE: 0.02 Item: Ruvati 33-inch Undermount Satin Brass Ma...\u001b[0m\n",
      "\u001b[92m203: Guess: $3.99 Truth: $3.99 Error: $0.00 SLE: 0.00 Item: Odoria 1/12 Miniature Tennis Racket Racq...\u001b[0m\n",
      "\u001b[93m204: Guess: $349.95 Truth: $459.95 Error: $110.00 SLE: 0.07 Item: B&M 70394 Transmission Pan, black anodiz...\u001b[0m\n",
      "\u001b[92m205: Guess: $49.99 Truth: $45.89 Error: $4.10 SLE: 0.01 Item: 13200-18912 Carburetor Replacement for 1...\u001b[0m\n",
      "\u001b[92m206: Guess: $145.99 Truth: $124.12 Error: $21.87 SLE: 0.03 Item: CNHKAU Mod Kit for Apple Watch Case Band...\u001b[0m\n",
      "\u001b[92m207: Guess: $177.65 Truth: $182.11 Error: $4.46 SLE: 0.00 Item: TUSK Motorcycle Enduro Lighting Kit - HO...\u001b[0m\n",
      "\u001b[91m208: Guess: $450.00 Truth: $781.00 Error: $331.00 SLE: 0.30 Item: ACT SB5-HDSS Performance Street Sprung C...\u001b[0m\n",
      "\u001b[92m209: Guess: $53.99 Truth: $53.99 Error: $0.00 SLE: 0.00 Item: DashMat Original Dashboard Cover Toyota ...\u001b[0m\n",
      "\u001b[91m210: Guess: $189.99 Truth: $108.00 Error: $81.99 SLE: 0.31 Item: Luston 3-Shelf Utility Plastic Bus Cart ...\u001b[0m\n",
      "\u001b[91m211: Guess: $24.95 Truth: $115.80 Error: $90.85 SLE: 2.26 Item: The Du'a Journal: Children's Journal for...\u001b[0m\n",
      "\u001b[92m212: Guess: $63.36 Truth: $60.85 Error: $2.51 SLE: 0.00 Item: Air Vent 84115 Undereave Vent. Mill Fini...\u001b[0m\n",
      "\u001b[92m213: Guess: $75.00 Truth: $44.00 Error: $31.00 SLE: 0.27 Item: HOT WHEELS FORD MUSTANG BOSS 302 Vehicle\u001b[0m\n",
      "\u001b[92m214: Guess: $234.99 Truth: $234.99 Error: $0.00 SLE: 0.00 Item: VidaMount Light Grey Home Button Covered...\u001b[0m\n",
      "\u001b[92m215: Guess: $33.99 Truth: $42.74 Error: $8.75 SLE: 0.05 Item: 849048-421 SG03XL 849314-850 Battery 11....\u001b[0m\n",
      "\u001b[91m216: Guess: $304.99 Truth: $184.50 Error: $120.49 SLE: 0.25 Item: T-Rex Grilles Grilles 55434 Upper Class ...\u001b[0m\n",
      "\u001b[92m217: Guess: $175.00 Truth: $146.30 Error: $28.70 SLE: 0.03 Item: Motorcraft Master Cylinder\u001b[0m\n",
      "\u001b[92m218: Guess: $30.00 Truth: $67.00 Error: $37.00 SLE: 0.62 Item: ARES - Memory - 2 x 4 GB\u001b[0m\n",
      "\u001b[92m219: Guess: $75.00 Truth: $75.92 Error: $0.92 SLE: 0.00 Item: Westin Wade 72-39489 in-Channel Wind Def...\u001b[0m\n",
      "\u001b[92m220: Guess: $209.99 Truth: $223.88 Error: $13.89 SLE: 0.00 Item: Tein SKP38-AUB00 S.Tech Lowering Spring ...\u001b[0m\n",
      "\u001b[92m221: Guess: $39.99 Truth: $69.97 Error: $29.98 SLE: 0.30 Item: LEGO Technic WHACK! 42072 Building Kit w...\u001b[0m\n",
      "\u001b[92m222: Guess: $89.99 Truth: $66.99 Error: $23.00 SLE: 0.08 Item: Sabian Quiet Tone Classic Crash Cymbal (...\u001b[0m\n",
      "\u001b[92m223: Guess: $3.99 Truth: $4.99 Error: $1.00 SLE: 0.03 Item: Odoria 1/12 Miniature Mirror Dollhouse D...\u001b[0m\n",
      "\u001b[92m224: Guess: $29.99 Truth: $16.99 Error: $13.00 SLE: 0.30 Item: INNOMAX Tablet Car Headrest Holder Backs...\u001b[0m\n",
      "\u001b[92m225: Guess: $259.00 Truth: $259.00 Error: $0.00 SLE: 0.00 Item: Godox V1-S Round Head Camera Flash for S...\u001b[0m\n",
      "\u001b[93m226: Guess: $679.00 Truth: $549.95 Error: $129.05 SLE: 0.04 Item: ESP LTD MH-203QM Electric Guitar, See Th...\u001b[0m\n",
      "\u001b[92m227: Guess: $140.99 Truth: $158.99 Error: $18.00 SLE: 0.01 Item: Quoizel NY8317P Newbury Outdoor Wall Lan...\u001b[0m\n",
      "\u001b[92m228: Guess: $4.99 Truth: $9.99 Error: $5.00 SLE: 0.37 Item: kwmobile Case Compatible with Samsung Ga...\u001b[0m\n",
      "\u001b[92m229: Guess: $188.54 Truth: $196.02 Error: $7.48 SLE: 0.00 Item: Lorell Mobile Pedestal, Box/Box/File, 16...\u001b[0m\n",
      "\u001b[92m230: Guess: $254.99 Truth: $261.77 Error: $6.78 SLE: 0.00 Item: Spyder Topcase Rack Kit 219400743 New OE...\u001b[0m\n",
      "\u001b[92m231: Guess: $99.95 Truth: $64.95 Error: $35.00 SLE: 0.18 Item: Tile Slim (2016) - 8 Pack - Discontinued...\u001b[0m\n",
      "\u001b[91m232: Guess: $139.99 Truth: $279.99 Error: $140.00 SLE: 0.48 Item: DJ Lights with Stand, RGB Party Bar Ligh...\u001b[0m\n",
      "\u001b[92m233: Guess: $99.99 Truth: $94.56 Error: $5.43 SLE: 0.00 Item: Crimestopper SV-5345.IR License Plate Mo...\u001b[0m\n",
      "\u001b[93m234: Guess: $475.99 Truth: $388.91 Error: $87.08 SLE: 0.04 Item: Whiteline BMK004 Front (24mm) and Rear (...\u001b[0m\n",
      "\u001b[91m235: Guess: $178.99 Truth: $91.22 Error: $87.77 SLE: 0.45 Item: Woodbridge Lighting 12727STN-C20611 1272...\u001b[0m\n",
      "\u001b[93m236: Guess: $249.99 Truth: $173.75 Error: $76.24 SLE: 0.13 Item: Spyder 5000712 BMW E46 3-Series 99-01 4D...\u001b[0m\n",
      "\u001b[92m237: Guess: $154.95 Truth: $131.99 Error: $22.96 SLE: 0.03 Item: Humminbird 600023-7 LakeMaster Southeast...\u001b[0m\n",
      "\u001b[92m238: Guess: $49.99 Truth: $78.96 Error: $28.97 SLE: 0.20 Item: EZRED MS4000 Automotive Memory Saver Wit...\u001b[0m\n",
      "\u001b[92m239: Guess: $350.99 Truth: $432.98 Error: $81.99 SLE: 0.04 Item: Kwikee 905966000 400 lbs Capacity Heavy ...\u001b[0m\n",
      "\u001b[93m240: Guess: $410.00 Truth: $589.99 Error: $179.99 SLE: 0.13 Item: LSI Logic Controller Card 05-25699-00 93...\u001b[0m\n",
      "\u001b[92m241: Guess: $409.00 Truth: $359.00 Error: $50.00 SLE: 0.02 Item: Apple Watch Series 8 [GPS 45mm] Smart Wa...\u001b[0m\n",
      "\u001b[92m242: Guess: $74.00 Truth: $71.00 Error: $3.00 SLE: 0.00 Item: Made in USA! Compatible with 2009-2014 H...\u001b[0m\n",
      "\u001b[92m243: Guess: $122.95 Truth: $141.78 Error: $18.83 SLE: 0.02 Item: Dual 12\" Sealed Subwoofer Sub Box Enclos...\u001b[0m\n",
      "\u001b[92m244: Guess: $99.99 Truth: $102.94 Error: $2.95 SLE: 0.00 Item: Cal Lighting BO-2032TB-RU Table Lamp wit...\u001b[0m\n",
      "\u001b[92m245: Guess: $199.99 Truth: $219.35 Error: $19.36 SLE: 0.01 Item: Kingston Brass KS4462PL Metropolitan Wid...\u001b[0m\n",
      "\u001b[92m246: Guess: $395.18 Truth: $369.00 Error: $26.18 SLE: 0.00 Item: From Plain To Beautiful In Hours 133-HER...\u001b[0m\n",
      "\u001b[91m247: Guess: $162.75 Truth: $280.95 Error: $118.20 SLE: 0.30 Item: TOYOTA 84540-06010 Neutral Start Switch ...\u001b[0m\n",
      "\u001b[91m248: Guess: $209.99 Truth: $905.95 Error: $695.96 SLE: 2.13 Item: Intel 710 Series Solid-State Drive 200 G...\u001b[0m\n",
      "\u001b[92m249: Guess: $34.95 Truth: $34.95 Error: $0.00 SLE: 0.00 Item: Replacement Remote Control for NAD C375B...\u001b[0m\n",
      "\u001b[91m250: Guess: $369.96 Truth: $215.85 Error: $154.11 SLE: 0.29 Item: Epson C11cj63203 Workforce St-C2100 Supe...\u001b[0m\n"
     ]
    },
    {
     "data": {
      "image/png": "[encoded data removed]",
      "text/plain": [
       "<Figure size 1200x800 with 1 Axes>"
      ]
     },
     "metadata": {},
     "output_type": "display_data"
    }
   ],
   "source": [
    "Tester.test(gpt_4o_mini_rag, test)"
   ]
  },
  {
   "cell_type": "markdown",
   "id": "d793c6d0-ce3f-4680-b37d-4643f0cd1d8e",
   "metadata": {},
   "source": [
    "## Optional Extra: Trying a DeepSeek API call instead of OpenAI\n",
    "\n",
    "If you have a DeepSeek API key, we will use it here as an alternative implementation; otherwise skip to the next section.."
   ]
  },
  {
   "cell_type": "code",
   "execution_count": null,
   "id": "21b6a22f-0195-47b6-8f6d-cab6ebe05742",
   "metadata": {},
   "outputs": [],
   "source": [
    "# Connect to DeepSeek using the OpenAI client python library\n",
    "\n",
    "deepseek_api_key = os.getenv(\"DEEPSEEK_API_KEY\")\n",
    "deepseek_via_openai_client = OpenAI(api_key=deepseek_api_key,base_url=\"https://api.deepseek.com\")"
   ]
  },
  {
   "cell_type": "code",
   "execution_count": null,
   "id": "ea7267d6-9489-4dac-a6e0-aec108e788c2",
   "metadata": {},
   "outputs": [],
   "source": [
    "# Added some retry logic here because DeepSeek is very oversubscribed and sometimes fails..\n",
    "\n",
    "def deepseek_api_rag(item):\n",
    "    documents, prices = find_similars(item)\n",
    "    retries = 8\n",
    "    done = False\n",
    "    while not done and retries > 0:\n",
    "        try:\n",
    "            response = deepseek_via_openai_client.chat.completions.create(\n",
    "                model=\"deepseek-chat\", \n",
    "                messages=messages_for(item, documents, prices),\n",
    "                seed=42,\n",
    "                max_tokens=8\n",
    "            )\n",
    "            reply = response.choices[0].message.content\n",
    "            done = True\n",
    "        except Exception as e:\n",
    "            print(f\"Error: {e}\")\n",
    "            retries -= 1\n",
    "    return get_price(reply)"
   ]
  },
  {
   "cell_type": "code",
   "execution_count": null,
   "id": "6560faf2-4dec-41e5-95e2-b2c46cdb3ba8",
   "metadata": {},
   "outputs": [],
   "source": [
    "deepseek_api_rag(test[1])"
   ]
  },
  {
   "cell_type": "code",
   "execution_count": null,
   "id": "0578b116-869f-429d-8382-701f1c0882f3",
   "metadata": {},
   "outputs": [],
   "source": [
    "Tester.test(deepseek_api_rag, test)"
   ]
  },
  {
   "cell_type": "markdown",
   "id": "6739870f-1eec-4547-965d-4b594e685697",
   "metadata": {},
   "source": [
    "## And now to wrap this in an \"Agent\" class"
   ]
  },
  {
   "cell_type": "code",
   "execution_count": 25,
   "id": "e6d5deb3-6a2a-4484-872c-37176c5e1f07",
   "metadata": {},
   "outputs": [],
   "source": [
    "from agents.frontier_agent import FrontierAgent"
   ]
  },
  {
   "cell_type": "code",
   "execution_count": 26,
   "id": "2efa7ba9-c2d7-4f95-8bb5-c4295bbeb01f",
   "metadata": {},
   "outputs": [],
   "source": [
    "# Let's print the logs so we can see what's going on\n",
    "\n",
    "import logging\n",
    "root = logging.getLogger()\n",
    "root.setLevel(logging.INFO)"
   ]
  },
  {
   "cell_type": "code",
   "execution_count": 27,
   "id": "56e8dd5d-ed36-49d8-95f7-dc82e548255b",
   "metadata": {},
   "outputs": [
    {
     "name": "stderr",
     "output_type": "stream",
     "text": [
      "INFO:root:\u001b[40m\u001b[34m[Frontier Agent] Initializing Frontier Agent\u001b[0m\n",
      "INFO:root:\u001b[40m\u001b[34m[Frontier Agent] Frontier Agent is setting up with OpenAI\u001b[0m\n",
      "INFO:sentence_transformers.SentenceTransformer:Use pytorch device_name: cuda\n",
      "INFO:sentence_transformers.SentenceTransformer:Load pretrained SentenceTransformer: sentence-transformers/all-MiniLM-L6-v2\n",
      "INFO:root:\u001b[40m\u001b[34m[Frontier Agent] Frontier Agent is ready\u001b[0m\n"
     ]
    }
   ],
   "source": [
    "agent = FrontierAgent(collection)"
   ]
  },
  {
   "cell_type": "code",
   "execution_count": 28,
   "id": "980dd126-f675-4499-8817-0cc0bb73e247",
   "metadata": {},
   "outputs": [
    {
     "name": "stderr",
     "output_type": "stream",
     "text": [
      "INFO:root:\u001b[40m\u001b[34m[Frontier Agent] Frontier Agent is performing a RAG search of the Chroma datastore to find 5 similar products\u001b[0m\n"
     ]
    },
    {
     "data": {
      "application/vnd.jupyter.widget-view+json": {
       "model_id": "88bcbb830a5143559cec7128e0f421b4",
       "version_major": 2,
       "version_minor": 0
      },
      "text/plain": [
       "Batches:   0%|          | 0/1 [00:00<?, ?it/s]"
      ]
     },
     "metadata": {},
     "output_type": "display_data"
    },
    {
     "name": "stderr",
     "output_type": "stream",
     "text": [
      "INFO:root:\u001b[40m\u001b[34m[Frontier Agent] Frontier Agent has found similar products\u001b[0m\n",
      "INFO:root:\u001b[40m\u001b[34m[Frontier Agent] Frontier Agent is about to call gpt-4o-mini with context including 5 similar products\u001b[0m\n",
      "INFO:httpx:HTTP Request: POST https://api.openai.com/v1/chat/completions \"HTTP/1.1 200 OK\"\n",
      "INFO:root:\u001b[40m\u001b[34m[Frontier Agent] Frontier Agent completed - predicting $154.59\u001b[0m\n"
     ]
    },
    {
     "data": {
      "text/plain": [
       "154.59"
      ]
     },
     "execution_count": 28,
     "metadata": {},
     "output_type": "execute_result"
    }
   ],
   "source": [
    "agent.price(\"Quadcast HyperX condenser mic for high quality podcasting\")"
   ]
  },
  {
   "cell_type": "code",
   "execution_count": 29,
   "id": "66c18a06-d0f1-4ec9-8aff-ec3ca294dd09",
   "metadata": {},
   "outputs": [],
   "source": [
    "from agents.specialist_agent import SpecialistAgent"
   ]
  },
  {
   "cell_type": "code",
   "execution_count": 30,
   "id": "ba672fb4-2c3e-42ee-9ea0-21bfcfc5260c",
   "metadata": {},
   "outputs": [
    {
     "name": "stderr",
     "output_type": "stream",
     "text": [
      "INFO:root:\u001b[40m\u001b[31m[Specialist Agent] Specialist Agent is initializing - connecting to modal\u001b[0m\n",
      "C:\\Users\\cosar\\anaconda3\\envs\\llms\\Lib\\asyncio\\events.py:84: DeprecationError: 2025-01-27: `modal.Cls.lookup` is deprecated and will be removed in a future release. It can be replaced with `modal.Cls.from_name`.\n",
      "\n",
      "See https://modal.com/docs/guide/modal-1-0-migration for more information.\n",
      "  self._context.run(self._callback, *self._args)\n",
      "INFO:root:\u001b[40m\u001b[31m[Specialist Agent] Specialist Agent is ready\u001b[0m\n"
     ]
    }
   ],
   "source": [
    "agent2 = SpecialistAgent()"
   ]
  },
  {
   "cell_type": "code",
   "execution_count": null,
   "id": "a5a97004-95b4-46ea-b12d-a4ead22fcb2a",
   "metadata": {},
   "outputs": [],
   "source": [
    "agent2.price(\"Quadcast HyperX condenser mic for high quality podcasting\")"
   ]
  },
  {
   "cell_type": "code",
   "execution_count": null,
   "id": "26d5ddc6-baa6-4760-a430-05671847ac47",
   "metadata": {},
   "outputs": [],
   "source": []
  }
 ],
 "metadata": {
  "kernelspec": {
   "display_name": "Python 3 (ipykernel)",
   "language": "python",
   "name": "python3"
  },
  "language_info": {
   "codemirror_mode": {
    "name": "ipython",
    "version": 3
   },
   "file_extension": ".py",
   "mimetype": "text/x-python",
   "name": "python",
   "nbconvert_exporter": "python",
   "pygments_lexer": "ipython3",
   "version": "3.11.11"
  }
 },
 "nbformat": 4,
 "nbformat_minor": 5
}
