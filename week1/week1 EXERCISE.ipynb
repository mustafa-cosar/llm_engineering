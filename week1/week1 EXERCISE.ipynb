{
 "cells": [
  {
   "cell_type": "markdown",
   "id": "fe12c203-e6a6-452c-a655-afb8a03a4ff5",
   "metadata": {},
   "source": [
    "# End of week 1 exercise\n",
    "\n",
    "To demonstrate your familiarity with OpenAI API, and also Ollama, build a tool that takes a technical question,  \n",
    "and responds with an explanation. This is a tool that you will be able to use yourself during the course!"
   ]
  },
  {
   "cell_type": "code",
   "execution_count": 10,
   "id": "c1070317-3ed9-4659-abe3-828943230e03",
   "metadata": {},
   "outputs": [],
   "source": [
    "# imports\n",
    "from IPython.display import Markdown, display, update_display\n",
    "from openai import OpenAI\n",
    "\n",
    "openai_ollama = OpenAI(base_url='http://localhost:11434/v1', api_key='ollama')"
   ]
  },
  {
   "cell_type": "code",
   "execution_count": 7,
   "id": "4a456906-915a-4bfd-bb9d-57e505c5093f",
   "metadata": {},
   "outputs": [],
   "source": [
    "# constants\n",
    "\n",
    "MODEL_GPT = 'gpt-4o-mini'\n",
    "MODEL_LLAMA = 'deepseek-r1:8b'"
   ]
  },
  {
   "cell_type": "code",
   "execution_count": 3,
   "id": "a8d7923c-5f28-4c30-8556-342d7c8497c1",
   "metadata": {},
   "outputs": [],
   "source": [
    "# set up environment\n",
    "\n",
    "system_message = \"\"\"\n",
    "You are a helpful coding assitant. Provide help to the user with their coding tasks. Use the most efficient code that adheres to the best practices.\n",
    "\"\"\""
   ]
  },
  {
   "cell_type": "code",
   "execution_count": 21,
   "id": "8d3084f8-2859-46fc-af38-c59062733159",
   "metadata": {},
   "outputs": [],
   "source": [
    "# here is the question; type over this to ask something new\n",
    "\n",
    "question = \"\"\"\n",
    "Please write a python code that calculates the prime number up to n\n",
    "\"\"\"\n",
    "\n",
    "\n",
    "messages = [\n",
    "    {\"role\": \"system\", \"content\": system_message},\n",
    "    {\"role\": \"user\", \"content\": question}\n",
    "]"
   ]
  },
  {
   "cell_type": "code",
   "execution_count": 12,
   "id": "105d0db3-f807-4e10-a66e-d0d50596677f",
   "metadata": {},
   "outputs": [],
   "source": [
    "def stream_ollama(messages):\n",
    "    stream = openai_ollama.chat.completions.create(\n",
    "        model=MODEL_LLAMA,\n",
    "        messages=messages,\n",
    "        stream=True\n",
    "    )\n",
    "    \n",
    "    response = \"\"\n",
    "    display_handle = display(Markdown(\"\"), display_id=True)\n",
    "    for chunk in stream:\n",
    "        response += chunk.choices[0].delta.content or ''\n",
    "        # response = response.replace(\"```\",\"\").replace(\"markdown\", \"\")\n",
    "        update_display(Markdown(response), display_id=display_handle.display_id)"
   ]
  },
  {
   "cell_type": "code",
   "execution_count": null,
   "id": "60ce7000-a4a5-4cce-a261-e75ef45063b4",
   "metadata": {},
   "outputs": [],
   "source": [
    "# Get gpt-4o-mini to answer, with streaming"
   ]
  },
  {
   "cell_type": "code",
   "execution_count": 33,
   "id": "8f7c8ea8-4082-4ad0-8751-3301adcf6538",
   "metadata": {},
   "outputs": [
    {
     "data": {
      "text/markdown": [
       "<think>\n",
       "Okay, so I need to understand the ACID principles, specifically the I and D parts. I'm a bit new to databases, but I know that ACID stands for Atomicity, Consistency, Independence, Durability. But I want to dig deeper into what 'I' and 'D' actually mean, especially in the context of transactions.\n",
       "\n",
       "Let me start by recalling what each of these terms means individually. \n",
       "\n",
       "Atomicity is about a transaction being all or nothing. If any part fails, the whole thing gets rolled back. So if a buy and withdraw actions are part of the same transaction, both have to happen completely for it to be considered successful.\n",
       "\n",
       "Consistency ensures that before a transaction ends, the database reflects only valid states. This probably means that constraints are maintained and all data integrity is upheld throughout.\n",
       "\n",
       "Independence... I'm not too sure about this one. Maybe it's about how different transactions don't interfere with each other until they commit. So if two transactions are running concurrently, their changes don't get mixed up until both have successfully completed, which would prevent partial updates leading to inconsistencies.\n",
       "\n",
       "Durability refers to the transaction surviving system crashes or failures. This means that even if something goes wrong, like a crash, the transaction will still be fully completed once the system recovers.\n",
       "\n",
       "Now, focusing on 'I' and 'D'. Let me break it down step by step. \n",
       "\n",
       "'Independence (I)': As I understand, this principle ensures that independent operations within a transaction don't interfere until they are committed. This prevents issues where one part of the transaction affects another in an unintended way. It's like having separate, isolated operations until their final approval.\n",
       "\n",
       "'Durability (D)': Durability is about the transaction surviving hardware or software failures. So even if there's a crash, the data must remain consistent and only then made available to other transactions. This means that committed data isn't lost, which is crucial for system reliability.\n",
       "\n",
       "Wait, maybe I should think of an example to better grasp this. Suppose we have a banking transaction where we need to update both the customer's account and their transaction history. If 'I' says that these two changes are independent until commit, any partial updates won't be visible to other transactions until both operations are confirmed.\n",
       "\n",
       "As for 'D', if the system crashes right after updating the account balance but before updating the transaction history, without durability, those changes might not be permanent. This would lead to the customer's balance appearing updated, but their transaction history shows an older version, which is a problem. Durability ensures that both updates are made permanent and visible once they're committed.\n",
       "\n",
       "I'm also thinking about how this relates to database systems. For instance, some DBMS use different strategies like optimistic or pessimistic concurrency control. Wait, does independence tie into that? Maybe in a way where the system avoids interleaving operations until commit, ensuring each transaction is isolated until it's stable.\n",
       "\n",
       "Another thought: if two transactions are trying to modify the same data, without independence, their changes could get mixed up before both commit, leading to inconsistencies. That's where I think independence comes in—keeping them separate until both are done.\n",
       "\n",
       "So putting it all together, 'I' ensures each operation is isolated until committed, avoiding partial updates affecting others, and 'D' makes sure that even if the system fails, the transaction's effects remain intact.\n",
       "\n",
       "I think I've got a handle on it now. Time to summarize this clearly.\n",
       "</think>\n",
       "\n",
       "The ACID principles are fundamental in database transactions for ensuring data integrity and consistency. Let's break down the 'I' (Independence) and 'D' (Durability) components of the ACID model:\n",
       "\n",
       "### 1. Independence (I)\n",
       "- **Definition**: Ensures that operations within a transaction remain isolated until they are committed, preventing partial updates from affecting other transactions.\n",
       "- **Example**: In a banking transaction, updating a customer's account balance and their transaction history are independent operations. Until both changes are committed, no other transaction will see the updated values, avoiding potential inconsistencies.\n",
       "\n",
       "### 2. Durability (D)\n",
       "- **Definition**: Ensures that after committing a transaction, its effects are permanent even if the system crashes or fails.\n",
       "- **Example**: If a crash occurs after updating an account balance but before updating the transaction history, without durability, only the balance would be visible. Durability ensures both changes are made permanent upon commitment.\n",
       "\n",
       "### Summary:\n",
       "- **Independence** keeps operations isolated until commit, avoiding unintended data interferences.\n",
       "- **Durability** ensures transactions survive failures and their effects remain intact.\n",
       "\n",
       "This understanding helps in designing reliable and consistent database systems."
      ],
      "text/plain": [
       "<IPython.core.display.Markdown object>"
      ]
     },
     "metadata": {},
     "output_type": "display_data"
    }
   ],
   "source": [
    "# Get Llama 3.2 to answer\n",
    "\n",
    "question = \"\"\"\n",
    "explain to me ACID principles. Especially I and D\n",
    "\"\"\"\n",
    "\n",
    "\n",
    "messages = [\n",
    "    {\"role\": \"system\", \"content\": system_message},\n",
    "    {\"role\": \"user\", \"content\": question}\n",
    "]\n",
    "\n",
    "stream_ollama(messages)"
   ]
  },
  {
   "cell_type": "code",
   "execution_count": null,
   "id": "6e8837a0-2dee-414d-8ab5-53c0bc9a8441",
   "metadata": {},
   "outputs": [],
   "source": []
  }
 ],
 "metadata": {
  "kernelspec": {
   "display_name": "Python 3 (ipykernel)",
   "language": "python",
   "name": "python3"
  },
  "language_info": {
   "codemirror_mode": {
    "name": "ipython",
    "version": 3
   },
   "file_extension": ".py",
   "mimetype": "text/x-python",
   "name": "python",
   "nbconvert_exporter": "python",
   "pygments_lexer": "ipython3",
   "version": "3.11.11"
  }
 },
 "nbformat": 4,
 "nbformat_minor": 5
}
