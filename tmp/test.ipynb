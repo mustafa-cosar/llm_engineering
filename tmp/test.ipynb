{
 "cells": [
  {
   "cell_type": "code",
   "execution_count": null,
   "metadata": {},
   "outputs": [],
   "source": [
    "from transformers import AutoTokenizer\n",
    "\n",
    "def investigate_tokenizer(model_name):\n",
    "  print(\"Investigating tokenizer for\", model_name)\n",
    "  tokenizer = AutoTokenizer.from_pretrained(model_name, trust_remote_code=True)\n",
    "  for number in [0, 1, 10, 100, 999, 1000]:\n",
    "    tokens = tokenizer.encode(str(number), add_special_tokens=False)\n",
    "    print(f\"The tokens for {number}: {tokens}\")"
   ]
  },
  {
   "cell_type": "code",
   "execution_count": 12,
   "metadata": {},
   "outputs": [
    {
     "name": "stdout",
     "output_type": "stream",
     "text": [
      "Investigating tokenizer for meta-llama/Meta-Llama-3.1-8B\n",
      "The tokens for 0: [15]\n",
      "The tokens for 1: [16]\n",
      "The tokens for 10: [605]\n",
      "The tokens for 100: [1041]\n",
      "The tokens for 999: [5500]\n",
      "The tokens for 1000: [1041, 15]\n",
      "Investigating tokenizer for meta-llama/Llama-3.2-3B\n",
      "The tokens for 0: [15]\n",
      "The tokens for 1: [16]\n",
      "The tokens for 10: [605]\n",
      "The tokens for 100: [1041]\n",
      "The tokens for 999: [5500]\n",
      "The tokens for 1000: [1041, 15]\n"
     ]
    }
   ],
   "source": [
    "LLAMA_3_1 = \"meta-llama/Meta-Llama-3.1-8B\"\n",
    "LLAMA_3_2 = \"meta-llama/Llama-3.2-3B\"\n",
    "\n",
    "investigate_tokenizer(LLAMA_3_1)\n",
    "investigate_tokenizer(LLAMA_3_2)"
   ]
  },
  {
   "cell_type": "code",
   "execution_count": 15,
   "metadata": {},
   "outputs": [
    {
     "data": {
      "text/plain": [
       "0.0001"
      ]
     },
     "execution_count": 15,
     "metadata": {},
     "output_type": "execute_result"
    }
   ],
   "source": [
    "1e-4"
   ]
  },
  {
   "cell_type": "code",
   "execution_count": null,
   "metadata": {},
   "outputs": [],
   "source": []
  }
 ],
 "metadata": {
  "kernelspec": {
   "display_name": "llms",
   "language": "python",
   "name": "python3"
  },
  "language_info": {
   "codemirror_mode": {
    "name": "ipython",
    "version": 3
   },
   "file_extension": ".py",
   "mimetype": "text/x-python",
   "name": "python",
   "nbconvert_exporter": "python",
   "pygments_lexer": "ipython3",
   "version": "3.11.11"
  }
 },
 "nbformat": 4,
 "nbformat_minor": 2
}
