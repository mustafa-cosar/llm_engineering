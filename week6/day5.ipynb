{
 "cells": [
  {
   "cell_type": "markdown",
   "id": "db8736a7-ed94-441c-9556-831fa57b5a10",
   "metadata": {},
   "source": [
    "# The Product Pricer Continued\n",
    "\n",
    "A model that can estimate how much something costs, from its description.\n",
    "\n",
    "## AT LAST - it's time for Fine Tuning!\n",
    "\n",
    "After all this data preparation, and old school machine learning, we've finally arrived at the moment you've been waiting for. Fine-tuning a model."
   ]
  },
  {
   "cell_type": "code",
   "execution_count": 1,
   "id": "681c717b-4c24-4ac3-a5f3-3c5881d6e70a",
   "metadata": {},
   "outputs": [],
   "source": [
    "# imports\n",
    "\n",
    "import os\n",
    "import re\n",
    "import math\n",
    "import json\n",
    "import random\n",
    "from dotenv import load_dotenv\n",
    "from huggingface_hub import login\n",
    "import matplotlib.pyplot as plt\n",
    "import numpy as np\n",
    "import pickle\n",
    "from collections import Counter\n",
    "from openai import OpenAI\n",
    "from anthropic import Anthropic"
   ]
  },
  {
   "cell_type": "code",
   "execution_count": null,
   "id": "36d05bdc-0155-4c72-a7ee-aa4e614ffd3c",
   "metadata": {},
   "outputs": [],
   "source": [
    "# environment\n",
    "\n",
    "load_dotenv(override=True)\n",
    "os.environ['OPENAI_API_KEY'] = os.getenv('OPENAI_API_KEY', 'your-key-if-not-using-env')\n",
    "os.environ['ANTHROPIC_API_KEY'] = os.getenv('ANTHROPIC_API_KEY', 'your-key-if-not-using-env')\n",
    "os.environ['HF_TOKEN'] = os.getenv('HF_TOKEN', 'your-key-if-not-using-env')"
   ]
  },
  {
   "cell_type": "code",
   "execution_count": 4,
   "id": "4dd3aad2-6f99-433c-8792-e461d2f06622",
   "metadata": {},
   "outputs": [
    {
     "name": "stderr",
     "output_type": "stream",
     "text": [
      "Note: Environment variable`HF_TOKEN` is set and is the current active token independently from the token you've just configured.\n"
     ]
    }
   ],
   "source": [
    "# Log in to HuggingFace\n",
    "\n",
    "hf_token = os.environ['HF_TOKEN']\n",
    "login(hf_token, add_to_git_credential=True)"
   ]
  },
  {
   "cell_type": "code",
   "execution_count": null,
   "id": "884a50bd-8cae-425e-8e56-f079fc3e65ce",
   "metadata": {},
   "outputs": [],
   "source": [
    "# moved our Tester into a separate package\n",
    "# call it with Tester.test(function_name, test_dataset)\n",
    "\n",
    "from items import Item\n",
    "from testing import Tester"
   ]
  },
  {
   "cell_type": "code",
   "execution_count": null,
   "id": "b0a6fb86-74a4-403c-ab25-6db2d74e9d2b",
   "metadata": {},
   "outputs": [],
   "source": [
    "openai = OpenAI()"
   ]
  },
  {
   "cell_type": "code",
   "execution_count": 6,
   "id": "c830ed3e-24ee-4af6-a07b-a1bfdcd39278",
   "metadata": {},
   "outputs": [],
   "source": [
    "%matplotlib inline"
   ]
  },
  {
   "cell_type": "code",
   "execution_count": 7,
   "id": "5c9b05f4-c9eb-462c-8d86-de9140a2d985",
   "metadata": {},
   "outputs": [],
   "source": [
    "# Let's avoid curating all our data again! Load in the pickle files:\n",
    "\n",
    "with open('train.pkl', 'rb') as file:\n",
    "    train = pickle.load(file)\n",
    "\n",
    "with open('test.pkl', 'rb') as file:\n",
    "    test = pickle.load(file)"
   ]
  },
  {
   "cell_type": "code",
   "execution_count": 8,
   "id": "e8367135-f40e-43e1-8f3c-09e990ab1194",
   "metadata": {},
   "outputs": [],
   "source": [
    "# OpenAI recommends fine-tuning with populations of 50-100 examples\n",
    "# But as our examples are very small, I'm suggesting we go with 200 examples (and 1 epoch)\n",
    "\n",
    "fine_tune_train = train[:200]\n",
    "fine_tune_validation = train[200:250]"
   ]
  },
  {
   "cell_type": "markdown",
   "id": "8be4a889-81c3-42b1-a2fc-034cdc7321a6",
   "metadata": {},
   "source": [
    "# Step 1\n",
    "\n",
    "Prepare our data for fine-tuning in JSONL (JSON Lines) format and upload to OpenAI"
   ]
  },
  {
   "cell_type": "code",
   "execution_count": 9,
   "id": "8ae2fb3c-1cff-4ce3-911e-627c970edd7b",
   "metadata": {},
   "outputs": [],
   "source": [
    "# First let's work on a good prompt for a Frontier model\n",
    "# Notice that I'm removing the \" to the nearest dollar\"\n",
    "# When we train our own models, we'll need to make the problem as easy as possible, \n",
    "# but a Frontier model needs no such simplification.\n",
    "\n",
    "def messages_for(item):\n",
    "    system_message = \"You estimate prices of items. Reply only with the price, no explanation\"\n",
    "    user_prompt = item.test_prompt().replace(\" to the nearest dollar\",\"\").replace(\"\\n\\nPrice is $\",\"\")\n",
    "    return [\n",
    "        {\"role\": \"system\", \"content\": system_message},\n",
    "        {\"role\": \"user\", \"content\": user_prompt},\n",
    "        {\"role\": \"assistant\", \"content\": f\"Price is ${item.price:.2f}\"}\n",
    "    ]"
   ]
  },
  {
   "cell_type": "code",
   "execution_count": 10,
   "id": "1aa280f6-1227-426a-a2e2-1ce985feba1e",
   "metadata": {},
   "outputs": [
    {
     "data": {
      "text/plain": [
       "[{'role': 'system',\n",
       "  'content': 'You estimate prices of items. Reply only with the price, no explanation'},\n",
       " {'role': 'user',\n",
       "  'content': \"How much does this cost?\\n\\n1970's Captain's Lamp With Tripod Stand in Brass Finish Floor Lamp Marine Collection\\nA magnificent new large designer Hand Made nautical signal light with timber tripod. Direct to you from the importer at a fraction of the retail price. A beautiful Designer piece for the home or office. Much larger than the other models I sell, sure to make a bold statement in any room. The lamp head is adjustable and easily pops open to change the globe. It takes regular household screw in light globes. The legs adjust to the desired height so that it can be used as both a floor lamp or table lamp. Dimensions 98cm min Height, 190cm max Height. Lamp head is 36cm diameter, x 31cm deep. Takes regular E27 screw in light globes. Vintage\"},\n",
       " {'role': 'assistant', 'content': 'Price is $152.00'}]"
      ]
     },
     "execution_count": 10,
     "metadata": {},
     "output_type": "execute_result"
    }
   ],
   "source": [
    "messages_for(train[0])"
   ]
  },
  {
   "cell_type": "code",
   "execution_count": 11,
   "id": "c0e5b56c-8a0b-4d8e-a112-ce87efb4e152",
   "metadata": {},
   "outputs": [],
   "source": [
    "# Convert the items into a list of json objects - a \"jsonl\" string\n",
    "# Each row represents a message in the form:\n",
    "# {\"messages\" : [{\"role\": \"system\", \"content\": \"You estimate prices...\n",
    "\n",
    "\n",
    "def make_jsonl(items):\n",
    "    result = \"\"\n",
    "    for item in items:\n",
    "        messages = messages_for(item)\n",
    "        messages_str = json.dumps(messages)\n",
    "        result += '{\"messages\": ' + messages_str +'}\\n'\n",
    "    return result.strip()"
   ]
  },
  {
   "cell_type": "code",
   "execution_count": 12,
   "id": "5e72de93-a6a6-4b35-855e-15786b97bf5f",
   "metadata": {},
   "outputs": [
    {
     "name": "stdout",
     "output_type": "stream",
     "text": [
      "{\"messages\": [{\"role\": \"system\", \"content\": \"You estimate prices of items. Reply only with the price, no explanation\"}, {\"role\": \"user\", \"content\": \"How much does this cost?\\n\\n1970's Captain's Lamp With Tripod Stand in Brass Finish Floor Lamp Marine Collection\\nA magnificent new large designer Hand Made nautical signal light with timber tripod. Direct to you from the importer at a fraction of the retail price. A beautiful Designer piece for the home or office. Much larger than the other models I sell, sure to make a bold statement in any room. The lamp head is adjustable and easily pops open to change the globe. It takes regular household screw in light globes. The legs adjust to the desired height so that it can be used as both a floor lamp or table lamp. Dimensions 98cm min Height, 190cm max Height. Lamp head is 36cm diameter, x 31cm deep. Takes regular E27 screw in light globes. Vintage\"}, {\"role\": \"assistant\", \"content\": \"Price is $152.00\"}]}\n",
      "{\"messages\": [{\"role\": \"system\", \"content\": \"You estimate prices of items. Reply only with the price, no explanation\"}, {\"role\": \"user\", \"content\": \"How much does this cost?\\n\\nLovedima Freestanding Bathtub Faucet Antique Brass Waterfall Tub Filler Floor Mount Single Handle Bathroom Faucet with Hand Shower\\nDimensions overall height spout height 38.58 ; spout reach 7.40 ; connection size 0.5; hose length 60''. All mounting hardware and hot/cold waterlines included, ready for installation right out of the box. Premium Quality Solid brass body, lead-free brass construction with high quality, corrosion resistant antique brass finish. Ceramic disc valves exceed industry longevity standards, ensuring durable performance for life. High-Arc Spout High-arc spout ensures ample room underneath and fills the tub rapidly. Come with the aerator to provide water with no splash. Easy Operation Single lever handle offers effortless temperature and flow control, diverter knob\"}, {\"role\": \"assistant\", \"content\": \"Price is $230.99\"}]}\n",
      "{\"messages\": [{\"role\": \"system\", \"content\": \"You estimate prices of items. Reply only with the price, no explanation\"}, {\"role\": \"user\", \"content\": \"How much does this cost?\\n\\nLEGO Movie MetalBeard's Duel 70807 (Discontinued by Manufacturer)\\nFrom the Manufacturer Arrr, me hearties! MetalBeard lost his body parts in a previous battle with Lord Business, but has rebuilt himself from old ship scraps to become more powerful than ever. Now, the giant Micro Manager is challenging him. Grab the pirate sword from the holster on his back and fire the cannons on his left arm. Protect his prized parrot and the treasure chest containing his body parts and act fast before the Micro Manager fires missiles and grabs the construction foreman with its claws. Includes 3 minifigures Skeletron, Robo SWAT and Frank the Foreman. Includes 3 minifigures Skeletron, Robo SWAT and Frank the Foreman; Features the\"}, {\"role\": \"assistant\", \"content\": \"Price is $265.99\"}]}\n"
     ]
    }
   ],
   "source": [
    "print(make_jsonl(train[:3]))"
   ]
  },
  {
   "cell_type": "code",
   "execution_count": 13,
   "id": "7734bff0-95c4-4e67-a87e-7e2254e2c67d",
   "metadata": {},
   "outputs": [],
   "source": [
    "# Convert the items into jsonl and write them to a file\n",
    "\n",
    "def write_jsonl(items, filename):\n",
    "    with open(filename, \"w\") as f:\n",
    "        jsonl = make_jsonl(items)\n",
    "        f.write(jsonl)"
   ]
  },
  {
   "cell_type": "code",
   "execution_count": 14,
   "id": "393d3ad8-999a-4f99-8c04-339d9166d604",
   "metadata": {},
   "outputs": [],
   "source": [
    "write_jsonl(fine_tune_train, \"fine_tune_train.jsonl\")"
   ]
  },
  {
   "cell_type": "code",
   "execution_count": 15,
   "id": "8e23927f-d73e-4668-ac20-abe6f14a56cb",
   "metadata": {},
   "outputs": [],
   "source": [
    "write_jsonl(fine_tune_validation, \"fine_tune_validation.jsonl\")"
   ]
  },
  {
   "cell_type": "code",
   "execution_count": 16,
   "id": "d59ad8d2-c61a-448e-b7ed-232f1606970f",
   "metadata": {},
   "outputs": [],
   "source": [
    "with open(\"fine_tune_train.jsonl\", \"rb\") as f:\n",
    "    train_file = openai.files.create(file=f, purpose=\"fine-tune\")"
   ]
  },
  {
   "cell_type": "code",
   "execution_count": 17,
   "id": "083fefba-fd54-47ce-9ff3-aabbc200846f",
   "metadata": {},
   "outputs": [
    {
     "data": {
      "text/plain": [
       "FileObject(id='file-NhvuMzN6y3yfXYK9EqRrFF', bytes=190969, created_at=1742305706, filename='fine_tune_train.jsonl', object='file', purpose='fine-tune', status='processed', expires_at=None, status_details=None)"
      ]
     },
     "execution_count": 17,
     "metadata": {},
     "output_type": "execute_result"
    }
   ],
   "source": [
    "train_file"
   ]
  },
  {
   "cell_type": "code",
   "execution_count": 18,
   "id": "97df3360-0760-4422-a556-5f26d23de6dc",
   "metadata": {},
   "outputs": [],
   "source": [
    "with open(\"fine_tune_validation.jsonl\", \"rb\") as f:\n",
    "    validation_file = openai.files.create(file=f, purpose=\"fine-tune\")"
   ]
  },
  {
   "cell_type": "code",
   "execution_count": 19,
   "id": "a1abb8f3-9e52-4061-970c-fcf399d8ffa3",
   "metadata": {},
   "outputs": [
    {
     "data": {
      "text/plain": [
       "FileObject(id='file-HKeYkwrxSaWGiUg7mwuZep', bytes=46823, created_at=1742305717, filename='fine_tune_validation.jsonl', object='file', purpose='fine-tune', status='processed', expires_at=None, status_details=None)"
      ]
     },
     "execution_count": 19,
     "metadata": {},
     "output_type": "execute_result"
    }
   ],
   "source": [
    "validation_file"
   ]
  },
  {
   "cell_type": "markdown",
   "id": "466052b9-9fb9-48f6-8cf9-c74e6ddc1394",
   "metadata": {},
   "source": [
    "# Step 2\n",
    "\n",
    "I love Weights and Biases - a beautiful, free platform for monitoring training runs.  \n",
    "Weights and Biases is integrated with OpenAI for fine-tuning.\n",
    "\n",
    "First set up your weights & biases free account at:\n",
    "\n",
    "https://wandb.ai\n",
    "\n",
    "From the Avatar >> Settings menu, near the bottom, you can create an API key.\n",
    "\n",
    "Then visit the OpenAI dashboard at:\n",
    "\n",
    "https://platform.openai.com/account/organization\n",
    "\n",
    "In the integrations section, you can add your Weights & Biases key.\n",
    "\n",
    "## And now time to Fine-tune!"
   ]
  },
  {
   "cell_type": "code",
   "execution_count": 20,
   "id": "c7add1a7-a746-4d6e-a5f8-e25629b8b527",
   "metadata": {},
   "outputs": [],
   "source": [
    "wandb_integration = {\"type\": \"wandb\", \"wandb\": {\"project\": \"gpt-pricer\"}}"
   ]
  },
  {
   "cell_type": "code",
   "execution_count": 21,
   "id": "49801e69-9277-4deb-9f33-99efb6b45ac2",
   "metadata": {},
   "outputs": [
    {
     "data": {
      "text/plain": [
       "'file-NhvuMzN6y3yfXYK9EqRrFF'"
      ]
     },
     "execution_count": 21,
     "metadata": {},
     "output_type": "execute_result"
    }
   ],
   "source": [
    "train_file.id"
   ]
  },
  {
   "cell_type": "code",
   "execution_count": 22,
   "id": "45421b86-5531-4e42-ab19-d6abbb8f4c13",
   "metadata": {},
   "outputs": [
    {
     "data": {
      "text/plain": [
       "FineTuningJob(id='ftjob-qw9XVr8NTzVJzRgny0cJD323', created_at=1742306667, error=Error(code=None, message=None, param=None), fine_tuned_model=None, finished_at=None, hyperparameters=Hyperparameters(batch_size='auto', learning_rate_multiplier='auto', n_epochs=1), model='gpt-4o-mini-2024-07-18', object='fine_tuning.job', organization_id='org-I5vDNMqzg5yfexckLUwxzfFn', result_files=[], seed=42, status='validating_files', trained_tokens=None, training_file='file-NhvuMzN6y3yfXYK9EqRrFF', validation_file='file-HKeYkwrxSaWGiUg7mwuZep', estimated_finish=None, integrations=[FineTuningJobWandbIntegrationObject(type='wandb', wandb=FineTuningJobWandbIntegration(project='gpt-pricer', entity=None, name=None, tags=None, run_id='ftjob-qw9XVr8NTzVJzRgny0cJD323'))], metadata=None, method=Method(dpo=None, supervised=MethodSupervised(hyperparameters=MethodSupervisedHyperparameters(batch_size='auto', learning_rate_multiplier='auto', n_epochs=1)), type='supervised'), user_provided_suffix='pricer')"
      ]
     },
     "execution_count": 22,
     "metadata": {},
     "output_type": "execute_result"
    }
   ],
   "source": [
    "openai.fine_tuning.jobs.create(\n",
    "    training_file=train_file.id,\n",
    "    validation_file=validation_file.id,\n",
    "    model=\"gpt-4o-mini-2024-07-18\",\n",
    "    seed=42,\n",
    "    hyperparameters={\"n_epochs\": 1},\n",
    "    integrations = [wandb_integration],\n",
    "    suffix=\"pricer\"\n",
    ")"
   ]
  },
  {
   "cell_type": "code",
   "execution_count": 23,
   "id": "aeb9de2e-542c-4e83-81c7-b6745133e48b",
   "metadata": {},
   "outputs": [
    {
     "data": {
      "text/plain": [
       "SyncCursorPage[FineTuningJob](data=[FineTuningJob(id='ftjob-qw9XVr8NTzVJzRgny0cJD323', created_at=1742306667, error=Error(code=None, message=None, param=None), fine_tuned_model=None, finished_at=None, hyperparameters=Hyperparameters(batch_size=1, learning_rate_multiplier=1.8, n_epochs=1), model='gpt-4o-mini-2024-07-18', object='fine_tuning.job', organization_id='org-I5vDNMqzg5yfexckLUwxzfFn', result_files=[], seed=42, status='validating_files', trained_tokens=None, training_file='file-NhvuMzN6y3yfXYK9EqRrFF', validation_file='file-HKeYkwrxSaWGiUg7mwuZep', estimated_finish=None, integrations=[FineTuningJobWandbIntegrationObject(type='wandb', wandb=FineTuningJobWandbIntegration(project='gpt-pricer', entity=None, name=None, tags=None, run_id='ftjob-qw9XVr8NTzVJzRgny0cJD323'))], metadata=None, method=Method(dpo=None, supervised=MethodSupervised(hyperparameters=MethodSupervisedHyperparameters(batch_size=1, learning_rate_multiplier=1.8, n_epochs=1)), type='supervised'), user_provided_suffix='pricer')], has_more=False, object='list')"
      ]
     },
     "execution_count": 23,
     "metadata": {},
     "output_type": "execute_result"
    }
   ],
   "source": [
    "openai.fine_tuning.jobs.list(limit=1)"
   ]
  },
  {
   "cell_type": "code",
   "execution_count": 24,
   "id": "40d24873-8ff5-413f-b0d4-8f77c28f18e1",
   "metadata": {},
   "outputs": [],
   "source": [
    "job_id = openai.fine_tuning.jobs.list(limit=1).data[0].id"
   ]
  },
  {
   "cell_type": "code",
   "execution_count": 25,
   "id": "a32aef35-4b38-436c-ad00-d082f758efa7",
   "metadata": {},
   "outputs": [
    {
     "data": {
      "text/plain": [
       "'ftjob-qw9XVr8NTzVJzRgny0cJD323'"
      ]
     },
     "execution_count": 25,
     "metadata": {},
     "output_type": "execute_result"
    }
   ],
   "source": [
    "job_id"
   ]
  },
  {
   "cell_type": "code",
   "execution_count": 30,
   "id": "a7e01247-c133-48e1-93d3-c79c399e6178",
   "metadata": {},
   "outputs": [
    {
     "data": {
      "text/plain": [
       "FineTuningJob(id='ftjob-qw9XVr8NTzVJzRgny0cJD323', created_at=1742306667, error=Error(code=None, message=None, param=None), fine_tuned_model=None, finished_at=None, hyperparameters=Hyperparameters(batch_size=1, learning_rate_multiplier=1.8, n_epochs=1), model='gpt-4o-mini-2024-07-18', object='fine_tuning.job', organization_id='org-I5vDNMqzg5yfexckLUwxzfFn', result_files=[], seed=42, status='running', trained_tokens=None, training_file='file-NhvuMzN6y3yfXYK9EqRrFF', validation_file='file-HKeYkwrxSaWGiUg7mwuZep', estimated_finish=None, integrations=[FineTuningJobWandbIntegrationObject(type='wandb', wandb=FineTuningJobWandbIntegration(project='gpt-pricer', entity=None, name=None, tags=None, run_id='ftjob-qw9XVr8NTzVJzRgny0cJD323'))], metadata=None, method=Method(dpo=None, supervised=MethodSupervised(hyperparameters=MethodSupervisedHyperparameters(batch_size=1, learning_rate_multiplier=1.8, n_epochs=1)), type='supervised'), user_provided_suffix='pricer')"
      ]
     },
     "execution_count": 30,
     "metadata": {},
     "output_type": "execute_result"
    }
   ],
   "source": [
    "openai.fine_tuning.jobs.retrieve(job_id)"
   ]
  },
  {
   "cell_type": "code",
   "execution_count": 34,
   "id": "0f5150e1-b8de-485f-8eba-cf1e5b00c117",
   "metadata": {},
   "outputs": [
    {
     "data": {
      "text/plain": [
       "[FineTuningJobEvent(id='ftevent-zaRDF25EwyV3s7nzRgMYoLjs', created_at=1742308523, level='info', message='The job has successfully completed', object='fine_tuning.job.event', data={}, type='message'),\n",
       " FineTuningJobEvent(id='ftevent-VoVJp7zjCaxLj8PhgnJksaRw', created_at=1742308519, level='info', message='New fine-tuned model created', object='fine_tuning.job.event', data={}, type='message'),\n",
       " FineTuningJobEvent(id='ftevent-DX5X2DGOhizDYSQzNCuwMHTE', created_at=1742308486, level='info', message='Step 200/200: training loss=1.36, validation loss=1.39, full validation loss=1.09', object='fine_tuning.job.event', data={'step': 200, 'train_loss': 1.3593034744262695, 'valid_loss': 1.390242099761963, 'total_steps': 200, 'full_valid_loss': 1.0859148931503295, 'train_mean_token_accuracy': 0.75, 'valid_mean_token_accuracy': 0.75, 'full_valid_mean_token_accuracy': 0.7825}, type='metrics'),\n",
       " FineTuningJobEvent(id='ftevent-NqaY4EmLfTwKLnpXTOpdS06u', created_at=1742308475, level='info', message='Step 199/200: training loss=0.77', object='fine_tuning.job.event', data={'step': 199, 'train_loss': 0.771045446395874, 'total_steps': 200, 'train_mean_token_accuracy': 0.75}, type='metrics'),\n",
       " FineTuningJobEvent(id='ftevent-2tSiSEBJt8I6Z8UMt2vXgRz8', created_at=1742308475, level='info', message='Step 198/200: training loss=0.43', object='fine_tuning.job.event', data={'step': 198, 'train_loss': 0.4304780960083008, 'total_steps': 200, 'train_mean_token_accuracy': 0.875}, type='metrics'),\n",
       " FineTuningJobEvent(id='ftevent-Fpg0ud11lDKdzBqT8WKNUiPh', created_at=1742308475, level='info', message='Step 197/200: training loss=0.85', object='fine_tuning.job.event', data={'step': 197, 'train_loss': 0.8535780906677246, 'total_steps': 200, 'train_mean_token_accuracy': 0.875}, type='metrics'),\n",
       " FineTuningJobEvent(id='ftevent-9lsj5xGAOPQlbKjtPiWEM9xj', created_at=1742308473, level='info', message='Step 196/200: training loss=0.49', object='fine_tuning.job.event', data={'step': 196, 'train_loss': 0.4940965175628662, 'total_steps': 200, 'train_mean_token_accuracy': 0.875}, type='metrics'),\n",
       " FineTuningJobEvent(id='ftevent-2GhLOqOVljd3QqGW8JKdKM8n', created_at=1742308473, level='info', message='Step 195/200: training loss=0.72', object='fine_tuning.job.event', data={'step': 195, 'train_loss': 0.7168464660644531, 'total_steps': 200, 'train_mean_token_accuracy': 0.875}, type='metrics'),\n",
       " FineTuningJobEvent(id='ftevent-BMVqNkt1Qgi6rYTwJ16VP8Z0', created_at=1742308472, level='info', message='Step 194/200: training loss=1.67', object='fine_tuning.job.event', data={'step': 194, 'train_loss': 1.6677839756011963, 'total_steps': 200, 'train_mean_token_accuracy': 0.75}, type='metrics'),\n",
       " FineTuningJobEvent(id='ftevent-BH8dIMYNkMeRookpE9cKp4PB', created_at=1742308470, level='info', message='Step 193/200: training loss=0.98', object='fine_tuning.job.event', data={'step': 193, 'train_loss': 0.9796857833862305, 'total_steps': 200, 'train_mean_token_accuracy': 0.75}, type='metrics')]"
      ]
     },
     "execution_count": 34,
     "metadata": {},
     "output_type": "execute_result"
    }
   ],
   "source": [
    "openai.fine_tuning.jobs.list_events(fine_tuning_job_id=job_id, limit=10).data"
   ]
  },
  {
   "cell_type": "markdown",
   "id": "066fef03-8338-4526-9df3-89b649ad4f0a",
   "metadata": {},
   "source": [
    "# Step 3\n",
    "\n",
    "Test our fine tuned model"
   ]
  },
  {
   "cell_type": "code",
   "execution_count": 35,
   "id": "fa4488cb-3c17-4eda-abd1-53c1c68a491b",
   "metadata": {},
   "outputs": [],
   "source": [
    "fine_tuned_model_name = openai.fine_tuning.jobs.retrieve(job_id).fine_tuned_model"
   ]
  },
  {
   "cell_type": "code",
   "execution_count": 36,
   "id": "e9370937-5a6f-4724-8265-b208663b4450",
   "metadata": {},
   "outputs": [
    {
     "data": {
      "text/plain": [
       "'ft:gpt-4o-mini-2024-07-18:personal:pricer:BCSKExSH'"
      ]
     },
     "execution_count": 36,
     "metadata": {},
     "output_type": "execute_result"
    }
   ],
   "source": [
    "fine_tuned_model_name"
   ]
  },
  {
   "cell_type": "code",
   "execution_count": 37,
   "id": "66ea68e8-ab1b-4f0d-aba4-a59574d8f85e",
   "metadata": {},
   "outputs": [],
   "source": [
    "# The prompt\n",
    "\n",
    "def messages_for(item):\n",
    "    system_message = \"You estimate prices of items. Reply only with the price, no explanation\"\n",
    "    user_prompt = item.test_prompt().replace(\" to the nearest dollar\",\"\").replace(\"\\n\\nPrice is $\",\"\")\n",
    "    return [\n",
    "        {\"role\": \"system\", \"content\": system_message},\n",
    "        {\"role\": \"user\", \"content\": user_prompt},\n",
    "        {\"role\": \"assistant\", \"content\": \"Price is $\"}\n",
    "    ]"
   ]
  },
  {
   "cell_type": "code",
   "execution_count": 38,
   "id": "4ff92d61-0d27-4b0d-8b32-c9891016509b",
   "metadata": {},
   "outputs": [
    {
     "data": {
      "text/plain": [
       "[{'role': 'system',\n",
       "  'content': 'You estimate prices of items. Reply only with the price, no explanation'},\n",
       " {'role': 'user',\n",
       "  'content': 'How much does this cost?\\n\\nTLAPS Compatible With Toyota Tacoma Non-Factory LED LED DRL Black Housing Full LED Sequential Quad Projector Headlights With Amber Reflector\\nApplication Compatible With Toyota Tacoma Models With Non-Factory LED DRL ( Daytime Running Lights ) Headlights Only ( Attention Note Will Not Fit Models With Factory LED DRL ( Daytime Running Lights ) Headlights, Hyper Blinking May Occur If Used With Other Branded Aftermarket LED Lighting ) Full LED Sequential Projector Headlights ( Attention These LED Projector Headlights Will ONLY Replace Factory OEM Halogen Style Headlights, Not Compatible With Factory Upgraded Projectors Or LED Headlights, Hyper Blinking May Occur If Used With Other Branded Aftermarket LED Lighting. For More Information Please Contact Us ) Quad-LED Projector Design With Amber Sequential'},\n",
       " {'role': 'assistant', 'content': 'Price is $'}]"
      ]
     },
     "execution_count": 38,
     "metadata": {},
     "output_type": "execute_result"
    }
   ],
   "source": [
    "# Try this out\n",
    "\n",
    "messages_for(test[0])"
   ]
  },
  {
   "cell_type": "code",
   "execution_count": 39,
   "id": "b1af1888-f94a-4106-b0d8-8a70939eec4e",
   "metadata": {},
   "outputs": [],
   "source": [
    "# A utility function to extract the price from a string\n",
    "\n",
    "def get_price(s):\n",
    "    s = s.replace('$','').replace(',','')\n",
    "    match = re.search(r\"[-+]?\\d*\\.\\d+|\\d+\", s)\n",
    "    return float(match.group()) if match else 0"
   ]
  },
  {
   "cell_type": "code",
   "execution_count": 40,
   "id": "f138c5b7-bcc1-4085-aced-68dad1bf36b4",
   "metadata": {},
   "outputs": [
    {
     "data": {
      "text/plain": [
       "99.99"
      ]
     },
     "execution_count": 40,
     "metadata": {},
     "output_type": "execute_result"
    }
   ],
   "source": [
    "get_price(\"The price is roughly $99.99 because blah blah\")"
   ]
  },
  {
   "cell_type": "code",
   "execution_count": 41,
   "id": "501a2a7a-69c8-451b-bbc0-398bcb9e1612",
   "metadata": {},
   "outputs": [],
   "source": [
    "# The function for gpt-4o-mini\n",
    "\n",
    "def gpt_fine_tuned(item):\n",
    "    response = openai.chat.completions.create(\n",
    "        model=fine_tuned_model_name, \n",
    "        messages=messages_for(item),\n",
    "        seed=42,\n",
    "        max_tokens=7\n",
    "    )\n",
    "    reply = response.choices[0].message.content\n",
    "    return get_price(reply)"
   ]
  },
  {
   "cell_type": "code",
   "execution_count": 42,
   "id": "843d88b4-364a-431b-b48b-8a7c1f68b786",
   "metadata": {},
   "outputs": [
    {
     "name": "stdout",
     "output_type": "stream",
     "text": [
      "389.0\n",
      "127.99\n"
     ]
    }
   ],
   "source": [
    "print(test[0].price)\n",
    "print(gpt_fine_tuned(test[0]))"
   ]
  },
  {
   "cell_type": "code",
   "execution_count": 43,
   "id": "edd7ada0-15b7-42ec-bbbb-1250e0eb9af1",
   "metadata": {},
   "outputs": [
    {
     "name": "stdout",
     "output_type": "stream",
     "text": [
      "How much does this cost to the nearest dollar?\n",
      "\n",
      "TLAPS Compatible With Toyota Tacoma Non-Factory LED LED DRL Black Housing Full LED Sequential Quad Projector Headlights With Amber Reflector\n",
      "Application Compatible With Toyota Tacoma Models With Non-Factory LED DRL ( Daytime Running Lights ) Headlights Only ( Attention Note Will Not Fit Models With Factory LED DRL ( Daytime Running Lights ) Headlights, Hyper Blinking May Occur If Used With Other Branded Aftermarket LED Lighting ) Full LED Sequential Projector Headlights ( Attention These LED Projector Headlights Will ONLY Replace Factory OEM Halogen Style Headlights, Not Compatible With Factory Upgraded Projectors Or LED Headlights, Hyper Blinking May Occur If Used With Other Branded Aftermarket LED Lighting. For More Information Please Contact Us ) Quad-LED Projector Design With Amber Sequential\n",
      "\n",
      "Price is $\n"
     ]
    }
   ],
   "source": [
    "print(test[0].test_prompt())"
   ]
  },
  {
   "cell_type": "code",
   "execution_count": 44,
   "id": "36bdd2c9-1859-4f99-a09f-3ec83b845b30",
   "metadata": {},
   "outputs": [
    {
     "name": "stdout",
     "output_type": "stream",
     "text": [
      "\u001b[91m1: Guess: $127.99 Truth: $389.00 Error: $261.01 SLE: 1.22 Item: TLAPS 7422444293245 Compatible With 2016...\u001b[0m\n",
      "\u001b[92m2: Guess: $47.22 Truth: $11.95 Error: $35.27 SLE: 1.73 Item: Witonics Capacitor Replacement Kit for L...\u001b[0m\n",
      "\u001b[93m3: Guess: $127.22 Truth: $57.99 Error: $69.23 SLE: 0.60 Item: EPSIRMP E5T62172 Mass Air Flow Meter Sen...\u001b[0m\n",
      "\u001b[92m4: Guess: $49.77 Truth: $32.99 Error: $16.78 SLE: 0.16 Item: 2 Pc 4 in 1 Double Box Ratcheting Wrench...\u001b[0m\n",
      "\u001b[92m5: Guess: $161.18 Truth: $136.94 Error: $24.24 SLE: 0.03 Item: Can-Am 2013-2018 Outlander 650 Outlander...\u001b[0m\n",
      "\u001b[92m6: Guess: $147.00 Truth: $116.10 Error: $30.90 SLE: 0.05 Item: OREI KVM 4K HDMI Over Ethernet Extender ...\u001b[0m\n",
      "\u001b[92m7: Guess: $262.47 Truth: $249.97 Error: $12.50 SLE: 0.00 Item: MAXLINER Custom Fit Floor Mats and Cargo...\u001b[0m\n",
      "\u001b[93m8: Guess: $109.95 Truth: $151.89 Error: $41.94 SLE: 0.10 Item: Alpinestars (474512-20-XS/S White X-Smal...\u001b[0m\n",
      "\u001b[92m9: Guess: $128.66 Truth: $110.99 Error: $17.67 SLE: 0.02 Item: SCITOO automotive replacement engine rad...\u001b[0m\n",
      "\u001b[91m10: Guess: $322.22 Truth: $218.78 Error: $103.44 SLE: 0.15 Item: SchaefflerLuK DMF066 Dual Mass Flywheel,...\u001b[0m\n",
      "\u001b[92m11: Guess: $139.98 Truth: $121.99 Error: $17.99 SLE: 0.02 Item: Smart Lock,CATCHFACE Fingerprint Door Lo...\u001b[0m\n",
      "\u001b[93m12: Guess: $262.47 Truth: $429.95 Error: $167.48 SLE: 0.24 Item: Zildjian A Series Mastersound Hi-Hat Cym...\u001b[0m\n",
      "\u001b[93m13: Guess: $47.99 Truth: $109.00 Error: $61.01 SLE: 0.65 Item: Hanging Cloud Light Kids Room Light Fixt...\u001b[0m\n",
      "\u001b[92m14: Guess: $3.99 Truth: $6.99 Error: $3.00 SLE: 0.22 Item: Anime Team Harmony Logo Vinyl Stickers S...\u001b[0m\n",
      "\u001b[92m15: Guess: $238.00 Truth: $243.65 Error: $5.65 SLE: 0.00 Item: TAC Running Boards Compatible with 2016-...\u001b[0m\n",
      "\u001b[92m16: Guess: $54.99 Truth: $62.99 Error: $8.00 SLE: 0.02 Item: DOKYW 10.2 inch iPad 9th 8th 7th Generat...\u001b[0m\n",
      "\u001b[91m17: Guess: $47.22 Truth: $322.96 Error: $275.74 SLE: 3.63 Item: Diode Dynamics SS3 LED Fog Light Kit com...\u001b[0m\n",
      "\u001b[93m18: Guess: $109.65 Truth: $152.27 Error: $42.62 SLE: 0.11 Item: Pingel Slim Line Switch Housing - Single...\u001b[0m\n",
      "\u001b[92m19: Guess: $22.99 Truth: $34.98 Error: $11.99 SLE: 0.16 Item: General Jim's Military Brick Building Se...\u001b[0m\n",
      "\u001b[92m20: Guess: $143.65 Truth: $118.46 Error: $25.19 SLE: 0.04 Item: 225/60R16 98H TOYO EXTENSA A/S II 620AA\u001b[0m\n",
      "\u001b[92m21: Guess: $18.65 Truth: $8.99 Error: $9.66 SLE: 0.46 Item: GDQLCNXB SMA Female to BNC Female Conver...\u001b[0m\n",
      "\u001b[91m22: Guess: $110.47 Truth: $511.26 Error: $400.79 SLE: 2.33 Item: Kohler K-15286-4RA-CP Coralais Vertical ...\u001b[0m\n",
      "\u001b[92m23: Guess: $154.65 Truth: $151.62 Error: $3.03 SLE: 0.00 Item: Ford Wiring ASY\u001b[0m\n",
      "\u001b[91m24: Guess: $299.00 Truth: $155.57 Error: $143.43 SLE: 0.42 Item: Orbi WiFi System (RBK43) AC2200\u001b[0m\n",
      "\u001b[92m25: Guess: $10.99 Truth: $13.99 Error: $3.00 SLE: 0.05 Item: Quick-Release Pocket Clip, Multi-Tool Po...\u001b[0m\n",
      "\u001b[91m26: Guess: $110.47 Truth: $294.08 Error: $183.61 SLE: 0.95 Item: RAREELECTRICAL New OSGR Starter Compatib...\u001b[0m\n",
      "\u001b[92m27: Guess: $49.99 Truth: $21.99 Error: $28.00 SLE: 0.63 Item: TV Antenna Amplified, HD Digital TV Ante...\u001b[0m\n",
      "\u001b[91m28: Guess: $799.00 Truth: $82.99 Error: $716.01 SLE: 5.08 Item: TestHelper TH-71B Handheld Signal Genera...\u001b[0m\n",
      "\u001b[92m29: Guess: $47.22 Truth: $24.99 Error: $22.23 SLE: 0.38 Item: Uncle Milton - Marvel Science - Ant-Man ...\u001b[0m\n",
      "\u001b[91m30: Guess: $137.52 Truth: $548.94 Error: $411.42 SLE: 1.90 Item: Dynamic Friction Company Front Rear GEOM...\u001b[0m\n",
      "\u001b[93m31: Guess: $262.47 Truth: $364.99 Error: $102.52 SLE: 0.11 Item: Oneway Stronghold Chuck Kit With #2 Jaws...\u001b[0m\n",
      "\u001b[92m32: Guess: $174.00 Truth: $164.00 Error: $10.00 SLE: 0.00 Item: Falken ZIEX ZE960 A/S All- Season Radial...\u001b[0m\n",
      "\u001b[92m33: Guess: $49.99 Truth: $26.99 Error: $23.00 SLE: 0.36 Item: Rechargeable LED Work Light, 2 COB 6000L...\u001b[0m\n",
      "\u001b[91m34: Guess: $127.22 Truth: $269.99 Error: $142.77 SLE: 0.56 Item: Asustek Computer M5a78l-m Plus Usb3 Am3+...\u001b[0m\n",
      "\u001b[92m35: Guess: $221.65 Truth: $214.99 Error: $6.66 SLE: 0.00 Item: APS Compatible with Ford F-250 F-350 F-4...\u001b[0m\n",
      "\u001b[92m36: Guess: $127.99 Truth: $129.99 Error: $2.00 SLE: 0.00 Item: 40X-1000X Binocular Microscope for Adult...\u001b[0m\n",
      "\u001b[92m37: Guess: $29.99 Truth: $12.99 Error: $17.00 SLE: 0.63 Item: SCRTB 12Pcs Mini Crystal Single Hole Kno...\u001b[0m\n",
      "\u001b[91m38: Guess: $110.47 Truth: $233.38 Error: $122.91 SLE: 0.55 Item: SAFAVIEH Lighting Collection Hana Butter...\u001b[0m\n",
      "\u001b[92m39: Guess: $726.65 Truth: $635.00 Error: $91.65 SLE: 0.02 Item: Intel NUC 12 Pro, Newest 12th Gen Core i...\u001b[0m\n",
      "\u001b[93m40: Guess: $22.99 Truth: $73.23 Error: $50.24 SLE: 1.28 Item: Pet Screen 54 Inch x 8 Ft Mayan Teal\u001b[0m\n",
      "\u001b[92m41: Guess: $221.65 Truth: $196.12 Error: $25.53 SLE: 0.01 Item: 12612397 Programmed Fits I4 V6 2007-2012...\u001b[0m\n",
      "\u001b[93m42: Guess: $262.47 Truth: $349.00 Error: $86.53 SLE: 0.08 Item: Magewell Eco Capture HDMI 4K M.2\u001b[0m\n",
      "\u001b[93m43: Guess: $47.22 Truth: $101.04 Error: $53.82 SLE: 0.56 Item: Intro-Tech HO-672-RT-B Hexomat Front and...\u001b[0m\n",
      "\u001b[91m44: Guess: $110.47 Truth: $241.21 Error: $130.74 SLE: 0.60 Item: Livex Lighting 5141-02 Cranford 1-Light ...\u001b[0m\n",
      "\u001b[91m45: Guess: $47.22 Truth: $173.95 Error: $126.73 SLE: 1.66 Item: Evergreen HSHBTBK5031 Head Gasket Set Ti...\u001b[0m\n",
      "\u001b[92m46: Guess: $47.99 Truth: $26.79 Error: $21.20 SLE: 0.32 Item: Funko Glow in The Dark Vault Boy (Fallou...\u001b[0m\n",
      "\u001b[93m47: Guess: $199.99 Truth: $329.99 Error: $130.00 SLE: 0.25 Item: Elgato 4K60 S+, External Capture Card, R...\u001b[0m\n",
      "\u001b[92m48: Guess: $202.65 Truth: $196.99 Error: $5.66 SLE: 0.00 Item: DNJ HGB970 Cylinder Head Gasket Set with...\u001b[0m\n",
      "\u001b[92m49: Guess: $154.65 Truth: $157.72 Error: $3.07 SLE: 0.00 Item: HEWQ6575A - HP Designjet Large Format In...\u001b[0m\n",
      "\u001b[91m50: Guess: $66.47 Truth: $399.95 Error: $333.48 SLE: 3.18 Item: DMD Pinstripe Acoustic Panel Wall Pack: ...\u001b[0m\n",
      "\u001b[93m51: Guess: $22.50 Truth: $84.90 Error: $62.40 SLE: 1.68 Item: Door Closer Lightweight Commercial Door ...\u001b[0m\n",
      "\u001b[93m52: Guess: $262.47 Truth: $352.44 Error: $89.97 SLE: 0.09 Item: PowerSport Front Rear Brakes and Rotors ...\u001b[0m\n",
      "\u001b[92m53: Guess: $139.98 Truth: $132.31 Error: $7.67 SLE: 0.00 Item: DEWALT 20V MAX Battery Pack with Charger...\u001b[0m\n",
      "\u001b[93m54: Guess: $393.69 Truth: $319.83 Error: $73.86 SLE: 0.04 Item: Lenovo Ideapad 310 - 15.6\" HD Display La...\u001b[0m\n",
      "\u001b[92m55: Guess: $238.22 Truth: $212.99 Error: $25.23 SLE: 0.01 Item: Lund 23879008 Black Steel 5\" Oval Curved...\u001b[0m\n",
      "\u001b[91m56: Guess: $317.50 Truth: $599.00 Error: $281.50 SLE: 0.40 Item: EVGA Z590 Dark, 121-RL-E599-KR, LGA 1200...\u001b[0m\n",
      "\u001b[92m57: Guess: $47.22 Truth: $62.75 Error: $15.53 SLE: 0.08 Item: EPIC LIGHTING AMXOE Replacement Rear Bra...\u001b[0m\n",
      "\u001b[91m58: Guess: $47.22 Truth: $224.95 Error: $177.73 SLE: 2.39 Item: GEORGE KOVACS P5954-077, Convex, 4 Light...\u001b[0m\n",
      "\u001b[91m59: Guess: $143.65 Truth: $262.12 Error: $118.47 SLE: 0.36 Item: Delta Faucet Trinsic 17 Series Dual-Func...\u001b[0m\n",
      "\u001b[91m60: Guess: $199.99 Truth: $118.39 Error: $81.60 SLE: 0.27 Item: 4K Digital Camera, AiTechny Vlogging Cam...\u001b[0m\n",
      "\u001b[93m61: Guess: $262.47 Truth: $209.95 Error: $52.52 SLE: 0.05 Item: Garage-Pro Cooling Fan Assembly for FORD...\u001b[0m\n",
      "\u001b[91m62: Guess: $47.98 Truth: $169.99 Error: $122.01 SLE: 1.56 Item: Logitech POP Keys Wireless Mechanical Ke...\u001b[0m\n",
      "\u001b[91m63: Guess: $47.99 Truth: $259.99 Error: $212.00 SLE: 2.80 Item: ECOTRIC Full Glass Windshield W/Wiper Co...\u001b[0m\n",
      "\u001b[91m64: Guess: $47.22 Truth: $979.20 Error: $931.98 SLE: 9.07 Item: Savoy House 36-329-FD-21 Air-Ionizing Fa...\u001b[0m\n",
      "\u001b[92m65: Guess: $14.98 Truth: $9.99 Error: $4.99 SLE: 0.14 Item: Devinal 6.35mm 1/4\" inch Stereo Plug Mal...\u001b[0m\n",
      "\u001b[91m66: Guess: $127.22 Truth: $272.98 Error: $145.76 SLE: 0.58 Item: Coverking Custom Fit Front 40/20/40 Seat...\u001b[0m\n",
      "\u001b[91m67: Guess: $47.22 Truth: $158.95 Error: $111.73 SLE: 1.44 Item: Milwaukee M18 BRUSHLESS 7-1/4\" CIRCULAR ...\u001b[0m\n",
      "\u001b[91m68: Guess: $289.00 Truth: $114.48 Error: $174.52 SLE: 0.85 Item: Central Brass 80868-Z Three Handle Tub a...\u001b[0m\n",
      "\u001b[93m69: Guess: $127.22 Truth: $54.48 Error: $72.74 SLE: 0.70 Item: CURT 56234 Vehicle-Side Custom 4-Pin Tra...\u001b[0m\n",
      "\u001b[92m70: Guess: $143.65 Truth: $142.13 Error: $1.52 SLE: 0.00 Item: Forrest CM08H606100 Chopmaster 8-1/2-Inc...\u001b[0m\n",
      "\u001b[91m71: Guess: $47.99 Truth: $149.99 Error: $102.00 SLE: 1.27 Item: iFilters 5 Stage Premium Reverse Osmosis...\u001b[0m\n",
      "\u001b[92m72: Guess: $47.22 Truth: $71.99 Error: $24.77 SLE: 0.17 Item: BRIO 33971 Smart Tech Sound Record & Pla...\u001b[0m\n",
      "\u001b[91m73: Guess: $594.65 Truth: $242.73 Error: $351.92 SLE: 0.80 Item: Pavement Ends by Bestop 51133-15 Black D...\u001b[0m\n",
      "\u001b[92m74: Guess: $139.98 Truth: $179.00 Error: $39.02 SLE: 0.06 Item: KidKraft Outdoor Covered Wooden Sandbox ...\u001b[0m\n",
      "\u001b[91m75: Guess: $47.99 Truth: $159.00 Error: $111.01 SLE: 1.40 Item: Original Mavic air intelligent Flight Ba...\u001b[0m\n",
      "\u001b[91m76: Guess: $47.22 Truth: $195.10 Error: $147.88 SLE: 1.97 Item: Bogen Amplifier - 40 W RMS - 2 Channel C...\u001b[0m\n",
      "\u001b[93m77: Guess: $239.00 Truth: $171.57 Error: $67.43 SLE: 0.11 Item: Resophonic Resonator Acoustic Electric G...\u001b[0m\n",
      "\u001b[93m78: Guess: $22.99 Truth: $74.95 Error: $51.96 SLE: 1.33 Item: Houseoftoners Replacement for HP64XL HP ...\u001b[0m\n",
      "\u001b[93m79: Guess: $47.22 Truth: $120.00 Error: $72.78 SLE: 0.85 Item: LEE DAN PK-543A 5-4-3 WIRE APARTMENT INT...\u001b[0m\n",
      "\u001b[93m80: Guess: $202.65 Truth: $284.70 Error: $82.05 SLE: 0.11 Item: Salsbury Industries 2265SP Slim Recessed...\u001b[0m\n",
      "\u001b[91m81: Guess: $127.22 Truth: $279.00 Error: $151.78 SLE: 0.61 Item: COOLINGBEST Bobcat 743 Radiator, 4 Row A...\u001b[0m\n",
      "\u001b[92m82: Guess: $128.66 Truth: $137.00 Error: $8.34 SLE: 0.00 Item: Car Seat Covers Fit for Ford Escape 2001...\u001b[0m\n",
      "\u001b[91m83: Guess: $65.69 Truth: $229.68 Error: $163.99 SLE: 1.54 Item: CARDFIGHT!! Vanguard Beginner set Blue V...\u001b[0m\n",
      "\u001b[92m84: Guess: $83.99 Truth: $66.99 Error: $17.00 SLE: 0.05 Item: CAIRE 4PK 11K&9K High Yield Compatible T...\u001b[0m\n",
      "\u001b[93m85: Guess: $202.65 Truth: $270.95 Error: $68.30 SLE: 0.08 Item: Coverking Custom Fit Front 50/50 Bucket ...\u001b[0m\n",
      "\u001b[92m86: Guess: $66.47 Truth: $99.99 Error: $33.52 SLE: 0.16 Item: John Timberland Willard Rustic Industria...\u001b[0m\n",
      "\u001b[91m87: Guess: $404.32 Truth: $139.95 Error: $264.37 SLE: 1.12 Item: Albinar 6.5mm f/3.5 HD Aspherical Fishey...\u001b[0m\n",
      "\u001b[91m88: Guess: $47.22 Truth: $259.22 Error: $212.00 SLE: 2.84 Item: A.O. Smith B2848 1 HP, 3450 RPM, 1 Speed...\u001b[0m\n",
      "\u001b[91m89: Guess: $47.99 Truth: $149.00 Error: $101.01 SLE: 1.25 Item: RV Door Window CloZures Shade, Controls ...\u001b[0m\n",
      "\u001b[92m90: Guess: $262.47 Truth: $278.99 Error: $16.52 SLE: 0.00 Item: FXR Torque X Team Snowmobile Helmet E Sh...\u001b[0m\n",
      "\u001b[91m91: Guess: $127.22 Truth: $377.26 Error: $250.04 SLE: 1.17 Item: Cardone 26-3023 Remanufactured Hydraulic...\u001b[0m\n",
      "\u001b[93m92: Guess: $127.22 Truth: $193.98 Error: $66.76 SLE: 0.18 Item: Hyundai Motors Genuine 863502S500GAL Fro...\u001b[0m\n",
      "\u001b[92m93: Guess: $143.65 Truth: $137.87 Error: $5.78 SLE: 0.00 Item: Kool Vue Mirror Compatible with 2015-201...\u001b[0m\n",
      "\u001b[91m94: Guess: $47.22 Truth: $250.00 Error: $202.78 SLE: 2.72 Item: kathy ireland Spotlight Arc Adjustable H...\u001b[0m\n",
      "\u001b[92m95: Guess: $22.69 Truth: $40.99 Error: $18.30 SLE: 0.33 Item: Takaratomy Beyblade Burst B-69 Booster J...\u001b[0m\n",
      "\u001b[91m96: Guess: $110.47 Truth: $240.55 Error: $130.08 SLE: 0.60 Item: DELTA FAUCET 1960-AR-DST Traditional Bev...\u001b[0m\n",
      "\u001b[92m97: Guess: $66.47 Truth: $35.99 Error: $30.48 SLE: 0.36 Item: 120W 19.5V 6.15A Power Supply Cord Compa...\u001b[0m\n",
      "\u001b[92m98: Guess: $69.99 Truth: $40.99 Error: $29.00 SLE: 0.28 Item: Language Translator, Translate 40 Langua...\u001b[0m\n",
      "\u001b[93m99: Guess: $127.22 Truth: $194.23 Error: $67.01 SLE: 0.18 Item: BILSTEIN 5100 FRONT SHOCK SET FOR 1999-2...\u001b[0m\n",
      "\u001b[91m100: Guess: $262.47 Truth: $599.95 Error: $337.48 SLE: 0.68 Item: Magnavox ZV427MG9 DVD Recorder/VCR Combo...\u001b[0m\n",
      "\u001b[92m101: Guess: $202.65 Truth: $197.99 Error: $4.66 SLE: 0.00 Item: Power Stop AR8571XPR Rear Evolution Dril...\u001b[0m\n",
      "\u001b[92m102: Guess: $239.66 Truth: $241.91 Error: $2.25 SLE: 0.00 Item: Wild 1 Black 12-1/2\" Chubby Bagger Ape H...\u001b[0m\n",
      "\u001b[92m103: Guess: $127.99 Truth: $139.99 Error: $12.00 SLE: 0.01 Item: for 2007-2013 Toyota FJ Cruiser Radio, R...\u001b[0m\n",
      "\u001b[92m104: Guess: $174.00 Truth: $149.00 Error: $25.00 SLE: 0.02 Item: Luna Guitars Artist Vintage Distressed C...\u001b[0m\n",
      "\u001b[93m105: Guess: $390.22 Truth: $520.99 Error: $130.77 SLE: 0.08 Item: MBI AUTO - Chrome, Steel Front Bumper Fa...\u001b[0m\n",
      "\u001b[91m106: Guess: $156.66 Truth: $74.95 Error: $81.71 SLE: 0.53 Item: Upgraded Lifetime Appliance 240351207 Lo...\u001b[0m\n",
      "\u001b[93m107: Guess: $143.65 Truth: $193.15 Error: $49.50 SLE: 0.09 Item: Replacement Part For 01-07 Town & Countr...\u001b[0m\n",
      "\u001b[91m108: Guess: $219.65 Truth: $574.94 Error: $355.29 SLE: 0.92 Item: AT-1000PROII LDG Electronics Automatic A...\u001b[0m\n",
      "\u001b[93m109: Guess: $154.65 Truth: $195.20 Error: $40.55 SLE: 0.05 Item: Progress Lighting Parkhurst Collection B...\u001b[0m\n",
      "\u001b[92m110: Guess: $22.69 Truth: $32.95 Error: $10.26 SLE: 0.13 Item: Nozlen Protective Case Toys Compatible w...\u001b[0m\n",
      "\u001b[91m111: Guess: $127.22 Truth: $589.95 Error: $462.73 SLE: 2.33 Item: Rough Country 3\" Lift Kit for 2001-2010 ...\u001b[0m\n",
      "\u001b[91m112: Guess: $139.95 Truth: $246.53 Error: $106.58 SLE: 0.32 Item: Wacom Intuos CTH-680/S3 New 2015 Model (...\u001b[0m\n",
      "\u001b[92m113: Guess: $143.65 Truth: $163.09 Error: $19.44 SLE: 0.02 Item: Dorman 56318 Driver Side Heated Door Mir...\u001b[0m\n",
      "\u001b[93m114: Guess: $196.99 Truth: $134.95 Error: $62.04 SLE: 0.14 Item: US Stove 80473 Exhaust Blower\u001b[0m\n",
      "\u001b[92m115: Guess: $219.98 Truth: $209.99 Error: $9.99 SLE: 0.00 Item: 2014 Yamaha Yamaha PAC012 Pacifica Elect...\u001b[0m\n",
      "\u001b[91m116: Guess: $12.99 Truth: $97.49 Error: $84.50 SLE: 3.81 Item: Funko Pop Games: Mortal Combat - Kitana ...\u001b[0m\n",
      "\u001b[92m117: Guess: $18.99 Truth: $5.99 Error: $13.00 SLE: 1.10 Item: a6400 Screen Protector|Tempered Glass Sc...\u001b[0m\n",
      "\u001b[91m118: Guess: $277.65 Truth: $718.00 Error: $440.35 SLE: 0.90 Item: Savoy House 1-323-3-322 Townsend 3-Light...\u001b[0m\n",
      "\u001b[92m119: Guess: $57.77 Truth: $41.99 Error: $15.78 SLE: 0.10 Item: Edelbrock 4025 Uni-Syn Carburetor Balanc...\u001b[0m\n",
      "\u001b[92m120: Guess: $34.98 Truth: $30.99 Error: $3.99 SLE: 0.01 Item: TITUS Slim-line Earmuffs and Safety Glas...\u001b[0m\n",
      "\u001b[91m121: Guess: $572.47 Truth: $976.00 Error: $403.53 SLE: 0.28 Item: MagnaFlow Cat-Back Performance Exhaust S...\u001b[0m\n",
      "\u001b[92m122: Guess: $490.00 Truth: $588.84 Error: $98.84 SLE: 0.03 Item: Elkay ELUH3221L Lustertone Classic Offse...\u001b[0m\n",
      "\u001b[93m123: Guess: $174.00 Truth: $259.29 Error: $85.29 SLE: 0.16 Item: Rear Diffuser Compatible with 2017-2019 ...\u001b[0m\n",
      "\u001b[92m124: Guess: $83.99 Truth: $59.99 Error: $24.00 SLE: 0.11 Item: Sixty61 Gel Hand Grips for Yamaha R1 Bla...\u001b[0m\n",
      "\u001b[93m125: Guess: $143.65 Truth: $90.80 Error: $52.85 SLE: 0.21 Item: Dawn LBE240304 Brisbane River Series Lin...\u001b[0m\n",
      "\u001b[92m126: Guess: $66.47 Truth: $103.84 Error: $37.37 SLE: 0.19 Item: Aqua-Pure - 5610428 Under Sink Full Flow...\u001b[0m\n",
      "\u001b[91m127: Guess: $726.65 Truth: $339.99 Error: $386.66 SLE: 0.57 Item: Dell Gaming PC OptiPlex 3040 Tower Deskt...\u001b[0m\n",
      "\u001b[93m128: Guess: $118.10 Truth: $163.26 Error: $45.16 SLE: 0.10 Item: Gates Engine Water Pump compatible with ...\u001b[0m\n",
      "\u001b[92m129: Guess: $179.99 Truth: $158.29 Error: $21.70 SLE: 0.02 Item: Coverking Custom Fit Front 50/50 Bucket ...\u001b[0m\n",
      "\u001b[92m130: Guess: $127.22 Truth: $89.00 Error: $38.22 SLE: 0.13 Item: Behringer Ultrapatch Pro PX3000 48-point...\u001b[0m\n",
      "\u001b[91m131: Guess: $100.69 Truth: $219.00 Error: $118.31 SLE: 0.60 Item: HP Officejet Pro 8028 All-in-One Printer...\u001b[0m\n",
      "\u001b[92m132: Guess: $79.99 Truth: $89.99 Error: $10.00 SLE: 0.01 Item: MZIPLINE Large Laptop Backpack Bag - Sme...\u001b[0m\n",
      "\u001b[91m133: Guess: $47.22 Truth: $277.78 Error: $230.56 SLE: 3.08 Item: Optex BX-80NR BoudaryGard Outdoor Perime...\u001b[0m\n",
      "\u001b[91m134: Guess: $47.22 Truth: $399.99 Error: $352.77 SLE: 4.49 Item: Canon EF-S 18-135mm f/3.5-5.6 is STM\u001b[0m\n",
      "\u001b[91m135: Guess: $22.99 Truth: $125.65 Error: $102.66 SLE: 2.77 Item: D&D Replicas of The Realms: Daern's Inst...\u001b[0m\n",
      "\u001b[91m136: Guess: $47.22 Truth: $223.50 Error: $176.28 SLE: 2.37 Item: Rohl 735TCB Kitchen Accessories, Tuscan ...\u001b[0m\n",
      "\u001b[92m137: Guess: $43.66 Truth: $42.85 Error: $0.81 SLE: 0.00 Item: Brewster 75-62942 Damasks Miniature Ogee...\u001b[0m\n",
      "\u001b[92m138: Guess: $100.00 Truth: $99.99 Error: $0.01 SLE: 0.00 Item: Sonnet Tempo SSD 6Gb/s SATA PCIe 2.5\" SS...\u001b[0m\n",
      "\u001b[91m139: Guess: $367.43 Truth: $774.75 Error: $407.32 SLE: 0.55 Item: Iwata Supernova Compliant WS400 Evotech ...\u001b[0m\n",
      "\u001b[92m140: Guess: $262.47 Truth: $315.00 Error: $52.53 SLE: 0.03 Item: 621642 - Intertherm OEM Replacement Furn...\u001b[0m\n",
      "\u001b[92m141: Guess: $139.98 Truth: $179.95 Error: $39.97 SLE: 0.06 Item: Medicom Godzilla: Vinyl Wars - First God...\u001b[0m\n",
      "\u001b[91m142: Guess: $47.22 Truth: $360.99 Error: $313.77 SLE: 4.06 Item: Quoizel NY1180K Newbury Outdoor Pendant ...\u001b[0m\n",
      "\u001b[92m143: Guess: $127.22 Truth: $131.44 Error: $4.22 SLE: 0.00 Item: Magneti Marelli 1AMSW00058 Spark Plug Wi...\u001b[0m\n",
      "\u001b[91m144: Guess: $127.22 Truth: $611.99 Error: $484.77 SLE: 2.45 Item: Performance Accessories, Dodge Dakota Ga...\u001b[0m\n",
      "\u001b[91m145: Guess: $47.22 Truth: $153.89 Error: $106.67 SLE: 1.36 Item: Progress Lighting P5767-31 Roman Coach O...\u001b[0m\n",
      "\u001b[93m146: Guess: $221.00 Truth: $279.99 Error: $58.99 SLE: 0.06 Item: Ridler Style 695 695 Chrome Wheel (18x8\"...\u001b[0m\n",
      "\u001b[93m147: Guess: $127.22 Truth: $71.03 Error: $56.19 SLE: 0.33 Item: Don-Jo 90 Metal Kick Plate, Brass Tone F...\u001b[0m\n",
      "\u001b[92m148: Guess: $47.22 Truth: $81.59 Error: $34.37 SLE: 0.29 Item: LD Compatible Toner Cartridge Replacemen...\u001b[0m\n",
      "\u001b[91m149: Guess: $127.22 Truth: $790.05 Error: $662.83 SLE: 3.31 Item: TOTO TEL5GS10#CP Brass Std Ecofaucet 1.0...\u001b[0m\n",
      "\u001b[92m150: Guess: $47.22 Truth: $59.28 Error: $12.06 SLE: 0.05 Item: Gedy 3870-13 Towel Ring, 1.15\" L x 7.87\"...\u001b[0m\n",
      "\u001b[91m151: Guess: $127.22 Truth: $276.21 Error: $148.99 SLE: 0.59 Item: HS Power Black Finished Class 3 Trailer ...\u001b[0m\n",
      "\u001b[93m152: Guess: $390.22 Truth: $534.96 Error: $144.74 SLE: 0.10 Item: Arnott P-2469 WABCO Air Suspension Compr...\u001b[0m\n",
      "\u001b[92m153: Guess: $221.65 Truth: $270.87 Error: $49.22 SLE: 0.04 Item: SMARTLINER Custom Fit Floor Mats 3 Rows ...\u001b[0m\n",
      "\u001b[92m154: Guess: $99.99 Truth: $72.99 Error: $27.00 SLE: 0.10 Item: HWW New 11.1V 62Wh 5500mAh N950BAT-6 Bat...\u001b[0m\n",
      "\u001b[93m155: Guess: $262.47 Truth: $432.41 Error: $169.94 SLE: 0.25 Item: PIRELLI Scorpion Zero 295/40R21 XL 111V ...\u001b[0m\n",
      "\u001b[93m156: Guess: $146.22 Truth: $204.99 Error: $58.77 SLE: 0.11 Item: Power Stop K1382 Front Z23 Carbon Fiber ...\u001b[0m\n",
      "\u001b[91m157: Guess: $174.00 Truth: $79.99 Error: $94.01 SLE: 0.59 Item: Enhance ENP-7025B 250W 1U PFC 80Plus RoH...\u001b[0m\n",
      "\u001b[92m158: Guess: $143.65 Truth: $125.00 Error: $18.65 SLE: 0.02 Item: NUTONE ISA335WH 5\" Interior Speaker\u001b[0m\n",
      "\u001b[93m159: Guess: $390.22 Truth: $570.35 Error: $180.13 SLE: 0.14 Item: Access 22179 Limited Edition Roll-Up Ton...\u001b[0m\n",
      "\u001b[92m160: Guess: $390.22 Truth: $433.50 Error: $43.28 SLE: 0.01 Item: Access 92289 Vanish Tonneau Cover\u001b[0m\n",
      "\u001b[92m161: Guess: $579.66 Truth: $695.00 Error: $115.34 SLE: 0.03 Item: Mustang Ultra Regal Studded Touring Seat...\u001b[0m\n",
      "\u001b[92m162: Guess: $109.00 Truth: $137.38 Error: $28.38 SLE: 0.05 Item: OK-5127h 20-Inch Classy Crystal Ceiling ...\u001b[0m\n",
      "\u001b[93m163: Guess: $47.22 Truth: $109.00 Error: $61.78 SLE: 0.68 Item: Ultimate Office Tierdrop Desktop Organiz...\u001b[0m\n",
      "\u001b[92m164: Guess: $34.98 Truth: $18.99 Error: $15.99 SLE: 0.35 Item: FIEWESEY Case for Samsung Galaxy Tab S6 ...\u001b[0m\n",
      "\u001b[91m165: Guess: $47.95 Truth: $299.95 Error: $252.00 SLE: 3.30 Item: Pocket Radar Ball Coach Pro-Level Speed ...\u001b[0m\n",
      "\u001b[92m166: Guess: $8.95 Truth: $3.19 Error: $5.76 SLE: 0.75 Item: E&S Pets BM-67 Dog Bookmark\u001b[0m\n",
      "\u001b[92m167: Guess: $219.00 Truth: $239.00 Error: $20.00 SLE: 0.01 Item: MWIDCIEW Drop In Kitchen Sink Gunmetal G...\u001b[0m\n",
      "\u001b[91m168: Guess: $594.00 Truth: $293.99 Error: $300.01 SLE: 0.49 Item: J2 Engineering J2-CBE-OS-067 Muffler Cat...\u001b[0m\n",
      "\u001b[93m169: Guess: $262.47 Truth: $369.00 Error: $106.53 SLE: 0.12 Item: Milwaukee 2646-22CT M18 2-Spd Grease Gun...\u001b[0m\n",
      "\u001b[92m170: Guess: $65.00 Truth: $45.00 Error: $20.00 SLE: 0.13 Item: AroundSquare Knucklebone Modular - Begle...\u001b[0m\n",
      "\u001b[93m171: Guess: $109.99 Truth: $155.03 Error: $45.04 SLE: 0.12 Item: LOG BARN Farmhouse Chandelier for Dining...\u001b[0m\n",
      "\u001b[91m172: Guess: $66.47 Truth: $277.15 Error: $210.68 SLE: 2.01 Item: HexArmor Leather Tactical Enforcement Gl...\u001b[0m\n",
      "\u001b[92m173: Guess: $47.99 Truth: $17.99 Error: $30.00 SLE: 0.90 Item: iPhone 11 Retro Liquid Swirl Abstract Gr...\u001b[0m\n",
      "\u001b[93m174: Guess: $127.99 Truth: $186.99 Error: $59.00 SLE: 0.14 Item: GUGU BTC-S37 Mining Motherboard, Mining ...\u001b[0m\n",
      "\u001b[93m175: Guess: $127.22 Truth: $176.52 Error: $49.30 SLE: 0.11 Item: Detroit Axle - Complete Power Steering R...\u001b[0m\n",
      "\u001b[91m176: Guess: $262.47 Truth: $94.00 Error: $168.47 SLE: 1.04 Item: Geyser GF46-S Andorra Series Stainless S...\u001b[0m\n",
      "\u001b[93m177: Guess: $139.98 Truth: $81.95 Error: $58.03 SLE: 0.28 Item: BEAUTY'S CASTLE DIY Valencia Coastal Vil...\u001b[0m\n",
      "\u001b[92m178: Guess: $127.22 Truth: $162.01 Error: $34.79 SLE: 0.06 Item: Hellwig 991 EZ Level Helper Spring Kit\u001b[0m\n",
      "\u001b[92m179: Guess: $43.66 Truth: $72.00 Error: $28.34 SLE: 0.24 Item: HP iPAQ FA121A#AC3 Compact Flash Card Ex...\u001b[0m\n",
      "\u001b[93m180: Guess: $110.47 Truth: $186.71 Error: $76.24 SLE: 0.27 Item: Pertronix 1143P12 12 Volt Positive Groun...\u001b[0m\n",
      "\u001b[92m181: Guess: $66.47 Truth: $48.00 Error: $18.47 SLE: 0.10 Item: Limeink Compatible Toner Cartridge Repla...\u001b[0m\n",
      "\u001b[93m182: Guess: $66.47 Truth: $134.91 Error: $68.44 SLE: 0.49 Item: Kotobukiya G.I. Joe A Real American Hero...\u001b[0m\n",
      "\u001b[93m183: Guess: $221.65 Truth: $168.00 Error: $53.65 SLE: 0.08 Item: 2 Inch Class 3 Tow Trailer Hitch Receive...\u001b[0m\n",
      "\u001b[92m184: Guess: $239.66 Truth: $278.18 Error: $38.52 SLE: 0.02 Item: RAMPAGE PRODUCTS Trail Fender Flares | 4...\u001b[0m\n",
      "\u001b[92m185: Guess: $47.22 Truth: $67.99 Error: $20.77 SLE: 0.13 Item: Quoizel BLA1505MBK Blanche Pendant, 1-Li...\u001b[0m\n",
      "\u001b[92m186: Guess: $65.69 Truth: $42.99 Error: $22.70 SLE: 0.17 Item: rockspace WiFi Extenders Signal Booster ...\u001b[0m\n",
      "\u001b[91m187: Guess: $219.00 Truth: $129.00 Error: $90.00 SLE: 0.28 Item: Huawei Y9 2018 FLA-LX3 5.93\" HiSilicon K...\u001b[0m\n",
      "\u001b[93m188: Guess: $127.22 Truth: $194.95 Error: $67.73 SLE: 0.18 Item: Trail Ridge Towing Mirror Manual Texture...\u001b[0m\n",
      "\u001b[92m189: Guess: $47.22 Truth: $43.03 Error: $4.19 SLE: 0.01 Item: FastCap - Hands Free Upright Kiss Clamp ...\u001b[0m\n",
      "\u001b[92m190: Guess: $34.98 Truth: $18.95 Error: $16.03 SLE: 0.35 Item: Skinomi Brushed Aluminum Full Body Skin ...\u001b[0m\n",
      "\u001b[92m191: Guess: $49.90 Truth: $39.99 Error: $9.91 SLE: 0.05 Item: Nutone BPP3FA30 Charcoal Air Filter, 4\",...\u001b[0m\n",
      "\u001b[93m192: Guess: $154.65 Truth: $243.32 Error: $88.67 SLE: 0.20 Item: Vibrant (10305) 1.875\" x 2.5\" Outer Diam...\u001b[0m\n",
      "\u001b[93m193: Guess: $66.00 Truth: $18.99 Error: $47.01 SLE: 1.46 Item: Double Window Security Business Envelope...\u001b[0m\n",
      "\u001b[91m194: Guess: $147.65 Truth: $273.06 Error: $125.41 SLE: 0.37 Item: Total Power Parts 410-44131 Starter Comp...\u001b[0m\n",
      "\u001b[92m195: Guess: $65.65 Truth: $78.90 Error: $13.25 SLE: 0.03 Item: ES Robbins Natural Origins Chair Mat for...\u001b[0m\n",
      "\u001b[92m196: Guess: $109.00 Truth: $144.47 Error: $35.47 SLE: 0.08 Item: Little Tikes Ultimate Cook Kitchen\u001b[0m\n",
      "\u001b[92m197: Guess: $127.22 Truth: $109.99 Error: $17.23 SLE: 0.02 Item: Constructive Playthings Retro Steel Gas ...\u001b[0m\n",
      "\u001b[92m198: Guess: $143.65 Truth: $176.04 Error: $32.39 SLE: 0.04 Item: Max Advanced Brakes Premium OE (Original...\u001b[0m\n",
      "\u001b[92m199: Guess: $47.22 Truth: $39.99 Error: $7.23 SLE: 0.03 Item: 41-962 41962 19299585 Spark Plugs 9748HH...\u001b[0m\n",
      "\u001b[93m200: Guess: $139.65 Truth: $80.20 Error: $59.45 SLE: 0.30 Item: Texas Instruments TI-84 Plus Silver Grap...\u001b[0m\n",
      "\u001b[93m201: Guess: $219.98 Truth: $170.99 Error: $48.99 SLE: 0.06 Item: Men's Buffalo Hide Leather Motorcycle ja...\u001b[0m\n",
      "\u001b[91m202: Guess: $219.65 Truth: $424.00 Error: $204.35 SLE: 0.43 Item: Ruvati 33-inch Undermount Satin Brass Ma...\u001b[0m\n",
      "\u001b[92m203: Guess: $8.99 Truth: $3.99 Error: $5.00 SLE: 0.48 Item: Odoria 1/12 Miniature Tennis Racket Racq...\u001b[0m\n",
      "\u001b[91m204: Guess: $221.65 Truth: $459.95 Error: $238.30 SLE: 0.53 Item: B&M 70394 Transmission Pan, black anodiz...\u001b[0m\n",
      "\u001b[91m205: Guess: $139.65 Truth: $45.89 Error: $93.76 SLE: 1.21 Item: 13200-18912 Carburetor Replacement for 1...\u001b[0m\n",
      "\u001b[93m206: Guess: $66.47 Truth: $124.12 Error: $57.65 SLE: 0.38 Item: CNHKAU Mod Kit for Apple Watch Case Band...\u001b[0m\n",
      "\u001b[91m207: Guess: $47.22 Truth: $182.11 Error: $134.89 SLE: 1.78 Item: TUSK Motorcycle Enduro Lighting Kit - HO...\u001b[0m\n",
      "\u001b[91m208: Guess: $453.65 Truth: $781.00 Error: $327.35 SLE: 0.29 Item: ACT SB5-HDSS Performance Street Sprung C...\u001b[0m\n",
      "\u001b[93m209: Guess: $110.47 Truth: $53.99 Error: $56.48 SLE: 0.50 Item: DashMat Original Dashboard Cover Toyota ...\u001b[0m\n",
      "\u001b[92m210: Guess: $109.99 Truth: $108.00 Error: $1.99 SLE: 0.00 Item: Luston 3-Shelf Utility Plastic Bus Cart ...\u001b[0m\n",
      "\u001b[91m211: Guess: $23.47 Truth: $115.80 Error: $92.33 SLE: 2.44 Item: The Du'a Journal: Children's Journal for...\u001b[0m\n",
      "\u001b[93m212: Guess: $128.66 Truth: $60.85 Error: $67.81 SLE: 0.55 Item: Air Vent 84115 Undereave Vent. Mill Fini...\u001b[0m\n",
      "\u001b[92m213: Guess: $47.22 Truth: $44.00 Error: $3.22 SLE: 0.00 Item: HOT WHEELS FORD MUSTANG BOSS 302 Vehicle\u001b[0m\n",
      "\u001b[91m214: Guess: $109.00 Truth: $234.99 Error: $125.99 SLE: 0.58 Item: VidaMount Light Grey Home Button Covered...\u001b[0m\n",
      "\u001b[91m215: Guess: $127.99 Truth: $42.74 Error: $85.25 SLE: 1.17 Item: 849048-421 SG03XL 849314-850 Battery 11....\u001b[0m\n",
      "\u001b[91m216: Guess: $390.22 Truth: $184.50 Error: $205.72 SLE: 0.56 Item: T-Rex Grilles Grilles 55434 Upper Class ...\u001b[0m\n",
      "\u001b[92m217: Guess: $136.00 Truth: $146.30 Error: $10.30 SLE: 0.01 Item: Motorcraft Master Cylinder\u001b[0m\n",
      "\u001b[92m218: Guess: $47.99 Truth: $67.00 Error: $19.01 SLE: 0.11 Item: ARES - Memory - 2 x 4 GB\u001b[0m\n",
      "\u001b[92m219: Guess: $83.57 Truth: $75.92 Error: $7.65 SLE: 0.01 Item: Westin Wade 72-39489 in-Channel Wind Def...\u001b[0m\n",
      "\u001b[92m220: Guess: $224.22 Truth: $223.88 Error: $0.34 SLE: 0.00 Item: Tein SKP38-AUB00 S.Tech Lowering Spring ...\u001b[0m\n",
      "\u001b[93m221: Guess: $22.99 Truth: $69.97 Error: $46.98 SLE: 1.18 Item: LEGO Technic WHACK! 42072 Building Kit w...\u001b[0m\n",
      "\u001b[93m222: Guess: $109.00 Truth: $66.99 Error: $42.01 SLE: 0.23 Item: Sabian Quiet Tone Classic Crash Cymbal (...\u001b[0m\n",
      "\u001b[93m223: Guess: $47.99 Truth: $4.99 Error: $43.00 SLE: 4.42 Item: Odoria 1/12 Miniature Mirror Dollhouse D...\u001b[0m\n",
      "\u001b[92m224: Guess: $22.69 Truth: $16.99 Error: $5.70 SLE: 0.08 Item: INNOMAX Tablet Car Headrest Holder Backs...\u001b[0m\n",
      "\u001b[93m225: Guess: $174.00 Truth: $259.00 Error: $85.00 SLE: 0.16 Item: Godox V1-S Round Head Camera Flash for S...\u001b[0m\n",
      "\u001b[91m226: Guess: $199.00 Truth: $549.95 Error: $350.95 SLE: 1.03 Item: ESP LTD MH-203QM Electric Guitar, See Th...\u001b[0m\n",
      "\u001b[91m227: Guess: $47.22 Truth: $158.99 Error: $111.77 SLE: 1.44 Item: Quoizel NY8317P Newbury Outdoor Wall Lan...\u001b[0m\n",
      "\u001b[92m228: Guess: $13.47 Truth: $9.99 Error: $3.48 SLE: 0.08 Item: kwmobile Case Compatible with Samsung Ga...\u001b[0m\n",
      "\u001b[91m229: Guess: $47.22 Truth: $196.02 Error: $148.80 SLE: 1.98 Item: Lorell Mobile Pedestal, Box/Box/File, 16...\u001b[0m\n",
      "\u001b[91m230: Guess: $47.22 Truth: $261.77 Error: $214.55 SLE: 2.87 Item: Spyder Topcase Rack Kit 219400743 New OE...\u001b[0m\n",
      "\u001b[92m231: Guess: $66.47 Truth: $64.95 Error: $1.52 SLE: 0.00 Item: Tile Slim (2016) - 8 Pack - Discontinued...\u001b[0m\n",
      "\u001b[91m232: Guess: $139.98 Truth: $279.99 Error: $140.01 SLE: 0.48 Item: DJ Lights with Stand, RGB Party Bar Ligh...\u001b[0m\n",
      "\u001b[92m233: Guess: $127.22 Truth: $94.56 Error: $32.66 SLE: 0.09 Item: Crimestopper SV-5345.IR License Plate Mo...\u001b[0m\n",
      "\u001b[92m234: Guess: $322.22 Truth: $388.91 Error: $66.69 SLE: 0.04 Item: Whiteline BMK004 Front (24mm) and Rear (...\u001b[0m\n",
      "\u001b[92m235: Guess: $127.22 Truth: $91.22 Error: $36.00 SLE: 0.11 Item: Woodbridge Lighting 12727STN-C20611 1272...\u001b[0m\n",
      "\u001b[93m236: Guess: $127.22 Truth: $173.75 Error: $46.53 SLE: 0.10 Item: Spyder 5000712 BMW E46 3-Series 99-01 4D...\u001b[0m\n",
      "\u001b[92m237: Guess: $139.98 Truth: $131.99 Error: $7.99 SLE: 0.00 Item: Humminbird 600023-7 LakeMaster Southeast...\u001b[0m\n",
      "\u001b[93m238: Guess: $139.98 Truth: $78.96 Error: $61.02 SLE: 0.32 Item: EZRED MS4000 Automotive Memory Saver Wit...\u001b[0m\n",
      "\u001b[91m239: Guess: $47.22 Truth: $432.98 Error: $385.76 SLE: 4.83 Item: Kwikee 905966000 400 lbs Capacity Heavy ...\u001b[0m\n",
      "\u001b[91m240: Guess: $174.00 Truth: $589.99 Error: $415.99 SLE: 1.48 Item: LSI Logic Controller Card 05-25699-00 93...\u001b[0m\n",
      "\u001b[93m241: Guess: $490.00 Truth: $359.00 Error: $131.00 SLE: 0.10 Item: Apple Watch Series 8 [GPS 45mm] Smart Wa...\u001b[0m\n",
      "\u001b[93m242: Guess: $127.22 Truth: $71.00 Error: $56.22 SLE: 0.33 Item: Made in USA! Compatible with 2009-2014 H...\u001b[0m\n",
      "\u001b[92m243: Guess: $174.99 Truth: $141.78 Error: $33.21 SLE: 0.04 Item: Dual 12\" Sealed Subwoofer Sub Box Enclos...\u001b[0m\n",
      "\u001b[92m244: Guess: $127.22 Truth: $102.94 Error: $24.28 SLE: 0.04 Item: Cal Lighting BO-2032TB-RU Table Lamp wit...\u001b[0m\n",
      "\u001b[93m245: Guess: $143.65 Truth: $219.35 Error: $75.70 SLE: 0.18 Item: Kingston Brass KS4462PL Metropolitan Wid...\u001b[0m\n",
      "\u001b[91m246: Guess: $219.98 Truth: $369.00 Error: $149.02 SLE: 0.27 Item: From Plain To Beautiful In Hours 133-HER...\u001b[0m\n",
      "\u001b[91m247: Guess: $47.22 Truth: $280.95 Error: $233.73 SLE: 3.12 Item: TOYOTA 84540-06010 Neutral Start Switch ...\u001b[0m\n",
      "\u001b[91m248: Guess: $47.99 Truth: $905.95 Error: $857.96 SLE: 8.52 Item: Intel 710 Series Solid-State Drive 200 G...\u001b[0m\n",
      "\u001b[92m249: Guess: $66.47 Truth: $34.95 Error: $31.52 SLE: 0.40 Item: Replacement Remote Control for NAD C375B...\u001b[0m\n",
      "\u001b[92m250: Guess: $219.98 Truth: $215.85 Error: $4.13 SLE: 0.00 Item: Epson C11cj63203 Workforce St-C2100 Supe...\u001b[0m\n"
     ]
    },
    {
     "data": {
      "image/png": "[encoded data removed]",
      "text/plain": [
       "<Figure size 1200x800 with 1 Axes>"
      ]
     },
     "metadata": {},
     "output_type": "display_data"
    }
   ],
   "source": [
    "Tester.test(gpt_fine_tuned, test)"
   ]
  },
  {
   "cell_type": "code",
   "execution_count": null,
   "id": "67618901-b43c-4553-bbdc-d1bfa175d001",
   "metadata": {},
   "outputs": [],
   "source": []
  }
 ],
 "metadata": {
  "kernelspec": {
   "display_name": "Python 3 (ipykernel)",
   "language": "python",
   "name": "python3"
  },
  "language_info": {
   "codemirror_mode": {
    "name": "ipython",
    "version": 3
   },
   "file_extension": ".py",
   "mimetype": "text/x-python",
   "name": "python",
   "nbconvert_exporter": "python",
   "pygments_lexer": "ipython3",
   "version": "3.11.11"
  }
 },
 "nbformat": 4,
 "nbformat_minor": 5
}
